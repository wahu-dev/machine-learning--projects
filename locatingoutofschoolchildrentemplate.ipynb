{
 "cells": [
  {
   "cell_type": "markdown",
   "metadata": {
    "id": "AQ4wZo8bkNk4"
   },
   "source": [
    "# locatingoutofschoolchildrentemplate\n",
    "\n",
    "Use the \"Run\" button to execute the code."
   ]
  },
  {
   "cell_type": "markdown",
   "metadata": {
    "id": "KQeiF_1KlCRY"
   },
   "source": [
    "Import necessary libraries"
   ]
  },
  {
   "cell_type": "code",
   "execution_count": null,
   "metadata": {
    "id": "jkE3AJ5gkNlA"
   },
   "outputs": [],
   "source": [
    "import pandas as pd\n",
    "import numpy as np\n",
    "import matplotlib.pyplot as plt\n",
    "import seaborn as sns\n",
    "from sklearn.model_selection import train_test_split\n",
    "from sklearn.ensemble import RandomForestClassifier\n",
    "from sklearn.metrics import classification_report, confusion_matrix"
   ]
  },
  {
   "cell_type": "markdown",
   "metadata": {
    "id": "5v8PlWRIlNCM"
   },
   "source": [
    "Load the dataset"
   ]
  },
  {
   "cell_type": "code",
   "execution_count": null,
   "metadata": {
    "id": "8vbQDqngkWUd"
   },
   "outputs": [],
   "source": [
    "# Replace 'path_to_dataset.csv' with the actual path to your dataset\n",
    "df = pd.read_csv('path_to_dataset.csv')\n"
   ]
  },
  {
   "cell_type": "code",
   "execution_count": null,
   "metadata": {
    "id": "qs9ZbYaRkapQ"
   },
   "outputs": [],
   "source": [
    "# Basic EDA\n",
    "print(df.head())  # Print the first 5 rows of the dataframe\n",
    "print(df.describe())  # Summary statistics\n",
    "print(df.isnull().sum())  # Check for missing values\n"
   ]
  },
  {
   "cell_type": "code",
   "execution_count": null,
   "metadata": {
    "id": "9G1lUKK1kePg"
   },
   "outputs": [],
   "source": [
    "# Visualizations\n",
    "sns.countplot(x='target_column', data=df)  # Replace 'target_column' with your target variable\n",
    "plt.show()"
   ]
  },
  {
   "cell_type": "code",
   "execution_count": null,
   "metadata": {
    "id": "09eu3wv8kwG1"
   },
   "outputs": [],
   "source": [
    "# Preprocessing\n",
    "# Fill missing values if any, for simplicity we use median imputation here\n",
    "df.fillna(df.median(), inplace=True)"
   ]
  },
  {
   "cell_type": "code",
   "execution_count": null,
   "metadata": {
    "id": "KQ0B9LkIky-3"
   },
   "outputs": [],
   "source": [
    "# Feature selection\n",
    "# Select your features and target variable\n",
    "# Replace these with the columns from your dataset\n",
    "X = df[['feature1', 'feature2', 'feature3']]  # Example features\n",
    "y = df['target_column']  # Target variable\n"
   ]
  },
  {
   "cell_type": "code",
   "execution_count": null,
   "metadata": {
    "id": "a-VJRh1jk2Ch"
   },
   "outputs": [],
   "source": [
    "# Splitting the dataset into train and test sets\n",
    "X_train, X_test, y_train, y_test = train_test_split(X, y, test_size=0.2, random_state=42)"
   ]
  },
  {
   "cell_type": "code",
   "execution_count": null,
   "metadata": {
    "id": "rmt1G3eJk4n1"
   },
   "outputs": [],
   "source": [
    "# Model building\n",
    "model = RandomForestClassifier()\n",
    "model.fit(X_train, y_train)"
   ]
  },
  {
   "cell_type": "code",
   "execution_count": null,
   "metadata": {
    "id": "OyLB3u6Ik8UL"
   },
   "outputs": [],
   "source": [
    "# Model evaluation\n",
    "predictions = model.predict(X_test)\n",
    "print(classification_report(y_test, predictions))\n",
    "print(confusion_matrix(y_test, predictions))"
   ]
  },
  {
   "cell_type": "code",
   "execution_count": null,
   "metadata": {
    "id": "mPpu57zFk-z9"
   },
   "outputs": [],
   "source": [
    "# Visualize feature importance (optional)\n",
    "feature_imp = pd.Series(model.feature_importances_, index=X.columns).sort_values(ascending=False)\n",
    "sns.barplot(x=feature_imp, y=feature_imp.index)\n",
    "plt.xlabel('Feature Importance Score')\n",
    "plt.ylabel('Features')\n",
    "plt.title(\"Visualizing Important Features\")\n",
    "plt.show()\n"
   ]
  }
 ],
 "metadata": {
  "colab": {
   "provenance": []
  },
  "language_info": {
   "codemirror_mode": {
    "name": "ipython",
    "version": 3
   },
   "file_extension": ".py",
   "mimetype": "text/x-python",
   "name": "python",
   "nbconvert_exporter": "python",
   "pygments_lexer": "ipython3",
   "version": "3.7.6"
  }
 },
 "nbformat": 4,
 "nbformat_minor": 0
}