{
 "cells": [
  {
   "cell_type": "markdown",
   "metadata": {
    "id": "zBKeFPlQImYv"
   },
   "source": [
    "#EXPLORATORY DATA ANALYSIS USING PYTHON\n",
    "##Libraries used: Pandas, Matplotlib, Seaborn\n",
    "# us-accidents-analysis\n",
    "\n",
    "Use the \"Run\" button to execute the code."
   ]
  },
  {
   "cell_type": "code",
   "execution_count": 1,
   "metadata": {
    "colab": {
     "base_uri": "https://localhost:8080/"
    },
    "executionInfo": {
     "elapsed": 17971,
     "status": "ok",
     "timestamp": 1699402605809,
     "user": {
      "displayName": "Wahu",
      "userId": "14420219231280784051"
     },
     "user_tz": -180
    },
    "id": "R0l8BLAoImY0",
    "outputId": "4090c7cc-4177-4d3c-a15e-65925bebac81"
   },
   "outputs": [
    {
     "name": "stdout",
     "output_type": "stream",
     "text": [
      "\u001b[?25l     \u001b[90m━━━━━━━━━━━━━━━━━━━━━━━━━━━━━━━━━━━━━━━━\u001b[0m \u001b[32m0.0/68.6 kB\u001b[0m \u001b[31m?\u001b[0m eta \u001b[36m-:--:--\u001b[0m\r",
      "\u001b[2K     \u001b[91m━━━━━━━━━━━━━━━━━━━━━━━━━━━━━━━━━━━\u001b[0m\u001b[91m╸\u001b[0m\u001b[90m━━━━\u001b[0m \u001b[32m61.4/68.6 kB\u001b[0m \u001b[31m1.8 MB/s\u001b[0m eta \u001b[36m0:00:01\u001b[0m\r",
      "\u001b[2K     \u001b[90m━━━━━━━━━━━━━━━━━━━━━━━━━━━━━━━━━━━━━━━━\u001b[0m \u001b[32m68.6/68.6 kB\u001b[0m \u001b[31m1.5 MB/s\u001b[0m eta \u001b[36m0:00:00\u001b[0m\n",
      "\u001b[?25h  Preparing metadata (setup.py) ... \u001b[?25l\u001b[?25hdone\n",
      "  Building wheel for uuid (setup.py) ... \u001b[?25l\u001b[?25hdone\n"
     ]
    }
   ],
   "source": [
    "#jovian commit essentials\n",
    "\n",
    "!pip install jovian --upgrade -q\n",
    "import jovian\n",
    "jovian.set_project('us-accidents-analysis')\n",
    "jovian.set_colab_id('1Yr_eMuM2tKy1EyX4-Oz6IGTKBg8w_SZy')"
   ]
  },
  {
   "cell_type": "code",
   "execution_count": 2,
   "metadata": {
    "colab": {
     "base_uri": "https://localhost:8080/",
     "height": 35
    },
    "executionInfo": {
     "elapsed": 72,
     "status": "ok",
     "timestamp": 1699402605810,
     "user": {
      "displayName": "Wahu",
      "userId": "14420219231280784051"
     },
     "user_tz": -180
    },
    "id": "ZOrnHxqC67k1",
    "outputId": "d1d78009-a7e8-4d6e-bd44-5de4f701c1e4"
   },
   "outputs": [
    {
     "data": {
      "application/vnd.google.colaboratory.intrinsic+json": {
       "type": "string"
      },
      "text/plain": [
       "'0.2.47'"
      ]
     },
     "execution_count": 2,
     "metadata": {},
     "output_type": "execute_result"
    }
   ],
   "source": [
    "jovian.__version__"
   ]
  },
  {
   "cell_type": "code",
   "execution_count": 3,
   "metadata": {
    "colab": {
     "base_uri": "https://localhost:8080/",
     "height": 122
    },
    "executionInfo": {
     "elapsed": 401335,
     "status": "ok",
     "timestamp": 1699403007082,
     "user": {
      "displayName": "Wahu",
      "userId": "14420219231280784051"
     },
     "user_tz": -180
    },
    "id": "SvLZs8_H7KyF",
    "outputId": "1b38e714-e46b-4cef-c490-ae5d3112798a"
   },
   "outputs": [
    {
     "name": "stdout",
     "output_type": "stream",
     "text": [
      "[jovian] Detected Colab notebook...\u001b[0m\n",
      "[jovian] Please enter your API key ( from https://jovian.com/ ):\u001b[0m\n",
      "API KEY: ··········\n",
      "[jovian] Uploading colab notebook to Jovian...\u001b[0m\n",
      "Committed successfully! https://jovian.com/stacyannewahu/us-accidents-analysis\n"
     ]
    },
    {
     "data": {
      "application/vnd.google.colaboratory.intrinsic+json": {
       "type": "string"
      },
      "text/plain": [
       "'https://jovian.com/stacyannewahu/us-accidents-analysis'"
      ]
     },
     "execution_count": 3,
     "metadata": {},
     "output_type": "execute_result"
    }
   ],
   "source": [
    "jovian.commit(message = \"jovian version commit message\",\n",
    "              git_message = \"git commit message\")"
   ]
  },
  {
   "cell_type": "code",
   "execution_count": 4,
   "metadata": {
    "colab": {
     "base_uri": "https://localhost:8080/"
    },
    "executionInfo": {
     "elapsed": 38,
     "status": "ok",
     "timestamp": 1699403007083,
     "user": {
      "displayName": "Wahu",
      "userId": "14420219231280784051"
     },
     "user_tz": -180
    },
    "id": "OC1wQU_98GcG",
    "outputId": "106ee571-3eed-4a8a-ba0c-c3aaeb2d6133"
   },
   "outputs": [
    {
     "name": "stdout",
     "output_type": "stream",
     "text": [
      "fatal: not a git repository (or any of the parent directories): .git\n"
     ]
    }
   ],
   "source": [
    "!git reflog"
   ]
  },
  {
   "cell_type": "markdown",
   "metadata": {
    "id": "-nNa5rkPMLJI"
   },
   "source": [
    "##US accidents exploratory data analysis\n",
    "  \n",
    "- Data source - Kaggle\n",
    "- Information - Accidents\n",
    "- End goal - Prevent/Reduce Number of accidents\n",
    "- This does not New York and Chicago data\n",
    "\n",
    "\n",
    "\n",
    "\n"
   ]
  },
  {
   "cell_type": "markdown",
   "metadata": {
    "id": "YgB5WqRBR2sV"
   },
   "source": [
    "#Download data\n"
   ]
  },
  {
   "cell_type": "code",
   "execution_count": 5,
   "metadata": {
    "executionInfo": {
     "elapsed": 10721,
     "status": "ok",
     "timestamp": 1699403017785,
     "user": {
      "displayName": "Wahu",
      "userId": "14420219231280784051"
     },
     "user_tz": -180
    },
    "id": "HzrbHGmWMl3B"
   },
   "outputs": [],
   "source": [
    "pip install opendatasets --upgrade --quiet"
   ]
  },
  {
   "cell_type": "code",
   "execution_count": 8,
   "metadata": {
    "colab": {
     "base_uri": "https://localhost:8080/"
    },
    "executionInfo": {
     "elapsed": 57996,
     "status": "ok",
     "timestamp": 1699403718167,
     "user": {
      "displayName": "Wahu",
      "userId": "14420219231280784051"
     },
     "user_tz": -180
    },
    "id": "JVddWaxKMlsM",
    "outputId": "697ad398-3d6b-45f7-c8ef-46ee814375f4"
   },
   "outputs": [
    {
     "name": "stdout",
     "output_type": "stream",
     "text": [
      "Please provide your Kaggle credentials to download this dataset. Learn more: http://bit.ly/kaggle-creds\n",
      "Your Kaggle username: wahustacyanne\n",
      "Your Kaggle Key: ··········\n",
      "Downloading us-accidents.zip to ./us-accidents\n"
     ]
    },
    {
     "name": "stderr",
     "output_type": "stream",
     "text": [
      "100%|██████████| 653M/653M [00:10<00:00, 68.1MB/s]\n"
     ]
    },
    {
     "name": "stdout",
     "output_type": "stream",
     "text": [
      "\n"
     ]
    }
   ],
   "source": [
    "import opendatasets as od\n",
    "dataset_url = 'https://www.kaggle.com/datasets/sobhanmoosavi/us-accidents'\n",
    "od.download('https://www.kaggle.com/datasets/sobhanmoosavi/us-accidents')\n",
    "#username = {wahustacyanne}\n",
    "#password = {c40e67350449ebc17b7cf0ef21ebfe52}"
   ]
  },
  {
   "cell_type": "code",
   "execution_count": 9,
   "metadata": {
    "colab": {
     "base_uri": "https://localhost:8080/"
    },
    "executionInfo": {
     "elapsed": 25794,
     "status": "ok",
     "timestamp": 1699403743959,
     "user": {
      "displayName": "Wahu",
      "userId": "14420219231280784051"
     },
     "user_tz": -180
    },
    "id": "iZ_wFpvO7jW_",
    "outputId": "2011c176-3cbb-4c75-b179-17922d201aca"
   },
   "outputs": [
    {
     "name": "stdout",
     "output_type": "stream",
     "text": [
      "Mounted at /content/drive\n"
     ]
    }
   ],
   "source": [
    "from google.colab import drive\n",
    "drive.mount('/content/drive')"
   ]
  },
  {
   "cell_type": "code",
   "execution_count": 10,
   "metadata": {
    "executionInfo": {
     "elapsed": 7,
     "status": "ok",
     "timestamp": 1699403743959,
     "user": {
      "displayName": "Wahu",
      "userId": "14420219231280784051"
     },
     "user_tz": -180
    },
    "id": "uD6MogiCMlor"
   },
   "outputs": [],
   "source": [
    "data_filename = './us-accidents/US_Accidents_March23.csv'"
   ]
  },
  {
   "cell_type": "markdown",
   "metadata": {
    "id": "olb59TPDMyf9"
   },
   "source": [
    "## Data Preparation and cleaning\n",
    "\n",
    "- Load the file using Pandas\n",
    "- Look at more information about the data and the columns\n",
    "- Fix any missing or incorrect values"
   ]
  },
  {
   "cell_type": "code",
   "execution_count": 11,
   "metadata": {
    "executionInfo": {
     "elapsed": 93889,
     "status": "ok",
     "timestamp": 1699403837842,
     "user": {
      "displayName": "Wahu",
      "userId": "14420219231280784051"
     },
     "user_tz": -180
    },
    "id": "HHeup7oLM6qm"
   },
   "outputs": [],
   "source": [
    "import pandas as pd\n",
    "# RAM space is limited, load the first 5 million records\n",
    "df = pd.read_csv(data_filename,nrows=5000000)\n"
   ]
  },
  {
   "cell_type": "code",
   "execution_count": 12,
   "metadata": {
    "colab": {
     "base_uri": "https://localhost:8080/",
     "height": 791
    },
    "executionInfo": {
     "elapsed": 4400,
     "status": "ok",
     "timestamp": 1699403842203,
     "user": {
      "displayName": "Wahu",
      "userId": "14420219231280784051"
     },
     "user_tz": -180
    },
    "id": "lBrW1N42M7fJ",
    "outputId": "e1e302f9-c86f-401e-9b10-7ed65e7977cb"
   },
   "outputs": [
    {
     "data": {
      "text/html": [
       "\n",
       "  <div id=\"df-9d0a1aa8-b242-44f8-9001-311955042e66\" class=\"colab-df-container\">\n",
       "    <div>\n",
       "<style scoped>\n",
       "    .dataframe tbody tr th:only-of-type {\n",
       "        vertical-align: middle;\n",
       "    }\n",
       "\n",
       "    .dataframe tbody tr th {\n",
       "        vertical-align: top;\n",
       "    }\n",
       "\n",
       "    .dataframe thead th {\n",
       "        text-align: right;\n",
       "    }\n",
       "</style>\n",
       "<table border=\"1\" class=\"dataframe\">\n",
       "  <thead>\n",
       "    <tr style=\"text-align: right;\">\n",
       "      <th></th>\n",
       "      <th>ID</th>\n",
       "      <th>Source</th>\n",
       "      <th>Severity</th>\n",
       "      <th>Start_Time</th>\n",
       "      <th>End_Time</th>\n",
       "      <th>Start_Lat</th>\n",
       "      <th>Start_Lng</th>\n",
       "      <th>End_Lat</th>\n",
       "      <th>End_Lng</th>\n",
       "      <th>Distance(mi)</th>\n",
       "      <th>...</th>\n",
       "      <th>Roundabout</th>\n",
       "      <th>Station</th>\n",
       "      <th>Stop</th>\n",
       "      <th>Traffic_Calming</th>\n",
       "      <th>Traffic_Signal</th>\n",
       "      <th>Turning_Loop</th>\n",
       "      <th>Sunrise_Sunset</th>\n",
       "      <th>Civil_Twilight</th>\n",
       "      <th>Nautical_Twilight</th>\n",
       "      <th>Astronomical_Twilight</th>\n",
       "    </tr>\n",
       "  </thead>\n",
       "  <tbody>\n",
       "    <tr>\n",
       "      <th>0</th>\n",
       "      <td>A-1</td>\n",
       "      <td>Source2</td>\n",
       "      <td>3</td>\n",
       "      <td>2016-02-08 05:46:00</td>\n",
       "      <td>2016-02-08 11:00:00</td>\n",
       "      <td>39.865147</td>\n",
       "      <td>-84.058723</td>\n",
       "      <td>NaN</td>\n",
       "      <td>NaN</td>\n",
       "      <td>0.010</td>\n",
       "      <td>...</td>\n",
       "      <td>False</td>\n",
       "      <td>False</td>\n",
       "      <td>False</td>\n",
       "      <td>False</td>\n",
       "      <td>False</td>\n",
       "      <td>False</td>\n",
       "      <td>Night</td>\n",
       "      <td>Night</td>\n",
       "      <td>Night</td>\n",
       "      <td>Night</td>\n",
       "    </tr>\n",
       "    <tr>\n",
       "      <th>1</th>\n",
       "      <td>A-2</td>\n",
       "      <td>Source2</td>\n",
       "      <td>2</td>\n",
       "      <td>2016-02-08 06:07:59</td>\n",
       "      <td>2016-02-08 06:37:59</td>\n",
       "      <td>39.928059</td>\n",
       "      <td>-82.831184</td>\n",
       "      <td>NaN</td>\n",
       "      <td>NaN</td>\n",
       "      <td>0.010</td>\n",
       "      <td>...</td>\n",
       "      <td>False</td>\n",
       "      <td>False</td>\n",
       "      <td>False</td>\n",
       "      <td>False</td>\n",
       "      <td>False</td>\n",
       "      <td>False</td>\n",
       "      <td>Night</td>\n",
       "      <td>Night</td>\n",
       "      <td>Night</td>\n",
       "      <td>Day</td>\n",
       "    </tr>\n",
       "    <tr>\n",
       "      <th>2</th>\n",
       "      <td>A-3</td>\n",
       "      <td>Source2</td>\n",
       "      <td>2</td>\n",
       "      <td>2016-02-08 06:49:27</td>\n",
       "      <td>2016-02-08 07:19:27</td>\n",
       "      <td>39.063148</td>\n",
       "      <td>-84.032608</td>\n",
       "      <td>NaN</td>\n",
       "      <td>NaN</td>\n",
       "      <td>0.010</td>\n",
       "      <td>...</td>\n",
       "      <td>False</td>\n",
       "      <td>False</td>\n",
       "      <td>False</td>\n",
       "      <td>False</td>\n",
       "      <td>True</td>\n",
       "      <td>False</td>\n",
       "      <td>Night</td>\n",
       "      <td>Night</td>\n",
       "      <td>Day</td>\n",
       "      <td>Day</td>\n",
       "    </tr>\n",
       "    <tr>\n",
       "      <th>3</th>\n",
       "      <td>A-4</td>\n",
       "      <td>Source2</td>\n",
       "      <td>3</td>\n",
       "      <td>2016-02-08 07:23:34</td>\n",
       "      <td>2016-02-08 07:53:34</td>\n",
       "      <td>39.747753</td>\n",
       "      <td>-84.205582</td>\n",
       "      <td>NaN</td>\n",
       "      <td>NaN</td>\n",
       "      <td>0.010</td>\n",
       "      <td>...</td>\n",
       "      <td>False</td>\n",
       "      <td>False</td>\n",
       "      <td>False</td>\n",
       "      <td>False</td>\n",
       "      <td>False</td>\n",
       "      <td>False</td>\n",
       "      <td>Night</td>\n",
       "      <td>Day</td>\n",
       "      <td>Day</td>\n",
       "      <td>Day</td>\n",
       "    </tr>\n",
       "    <tr>\n",
       "      <th>4</th>\n",
       "      <td>A-5</td>\n",
       "      <td>Source2</td>\n",
       "      <td>2</td>\n",
       "      <td>2016-02-08 07:39:07</td>\n",
       "      <td>2016-02-08 08:09:07</td>\n",
       "      <td>39.627781</td>\n",
       "      <td>-84.188354</td>\n",
       "      <td>NaN</td>\n",
       "      <td>NaN</td>\n",
       "      <td>0.010</td>\n",
       "      <td>...</td>\n",
       "      <td>False</td>\n",
       "      <td>False</td>\n",
       "      <td>False</td>\n",
       "      <td>False</td>\n",
       "      <td>True</td>\n",
       "      <td>False</td>\n",
       "      <td>Day</td>\n",
       "      <td>Day</td>\n",
       "      <td>Day</td>\n",
       "      <td>Day</td>\n",
       "    </tr>\n",
       "    <tr>\n",
       "      <th>...</th>\n",
       "      <td>...</td>\n",
       "      <td>...</td>\n",
       "      <td>...</td>\n",
       "      <td>...</td>\n",
       "      <td>...</td>\n",
       "      <td>...</td>\n",
       "      <td>...</td>\n",
       "      <td>...</td>\n",
       "      <td>...</td>\n",
       "      <td>...</td>\n",
       "      <td>...</td>\n",
       "      <td>...</td>\n",
       "      <td>...</td>\n",
       "      <td>...</td>\n",
       "      <td>...</td>\n",
       "      <td>...</td>\n",
       "      <td>...</td>\n",
       "      <td>...</td>\n",
       "      <td>...</td>\n",
       "      <td>...</td>\n",
       "      <td>...</td>\n",
       "    </tr>\n",
       "    <tr>\n",
       "      <th>4999995</th>\n",
       "      <td>A-5037883</td>\n",
       "      <td>Source1</td>\n",
       "      <td>2</td>\n",
       "      <td>2022-11-09 16:09:00</td>\n",
       "      <td>2022-11-09 17:34:00</td>\n",
       "      <td>34.185388</td>\n",
       "      <td>-118.317917</td>\n",
       "      <td>34.218077</td>\n",
       "      <td>-118.355055</td>\n",
       "      <td>3.099</td>\n",
       "      <td>...</td>\n",
       "      <td>False</td>\n",
       "      <td>False</td>\n",
       "      <td>False</td>\n",
       "      <td>False</td>\n",
       "      <td>False</td>\n",
       "      <td>False</td>\n",
       "      <td>Day</td>\n",
       "      <td>Day</td>\n",
       "      <td>Day</td>\n",
       "      <td>Day</td>\n",
       "    </tr>\n",
       "    <tr>\n",
       "      <th>4999996</th>\n",
       "      <td>A-5037884</td>\n",
       "      <td>Source1</td>\n",
       "      <td>2</td>\n",
       "      <td>2022-07-24 19:19:50</td>\n",
       "      <td>2022-07-24 20:39:23</td>\n",
       "      <td>32.934967</td>\n",
       "      <td>-117.242523</td>\n",
       "      <td>32.935341</td>\n",
       "      <td>-117.242500</td>\n",
       "      <td>0.026</td>\n",
       "      <td>...</td>\n",
       "      <td>False</td>\n",
       "      <td>False</td>\n",
       "      <td>False</td>\n",
       "      <td>False</td>\n",
       "      <td>False</td>\n",
       "      <td>False</td>\n",
       "      <td>Day</td>\n",
       "      <td>Day</td>\n",
       "      <td>Day</td>\n",
       "      <td>Day</td>\n",
       "    </tr>\n",
       "    <tr>\n",
       "      <th>4999997</th>\n",
       "      <td>A-5037885</td>\n",
       "      <td>Source1</td>\n",
       "      <td>2</td>\n",
       "      <td>2023-01-18 15:55:30</td>\n",
       "      <td>2023-01-18 17:07:30</td>\n",
       "      <td>37.700654</td>\n",
       "      <td>-121.796602</td>\n",
       "      <td>37.729395</td>\n",
       "      <td>-121.633486</td>\n",
       "      <td>9.134</td>\n",
       "      <td>...</td>\n",
       "      <td>False</td>\n",
       "      <td>False</td>\n",
       "      <td>False</td>\n",
       "      <td>False</td>\n",
       "      <td>False</td>\n",
       "      <td>False</td>\n",
       "      <td>Day</td>\n",
       "      <td>Day</td>\n",
       "      <td>Day</td>\n",
       "      <td>Day</td>\n",
       "    </tr>\n",
       "    <tr>\n",
       "      <th>4999998</th>\n",
       "      <td>A-5037886</td>\n",
       "      <td>Source1</td>\n",
       "      <td>2</td>\n",
       "      <td>2022-10-13 14:22:30</td>\n",
       "      <td>2022-10-13 14:53:00</td>\n",
       "      <td>37.700647</td>\n",
       "      <td>-121.796590</td>\n",
       "      <td>37.701347</td>\n",
       "      <td>-121.769970</td>\n",
       "      <td>1.456</td>\n",
       "      <td>...</td>\n",
       "      <td>False</td>\n",
       "      <td>False</td>\n",
       "      <td>False</td>\n",
       "      <td>False</td>\n",
       "      <td>False</td>\n",
       "      <td>False</td>\n",
       "      <td>Day</td>\n",
       "      <td>Day</td>\n",
       "      <td>Day</td>\n",
       "      <td>Day</td>\n",
       "    </tr>\n",
       "    <tr>\n",
       "      <th>4999999</th>\n",
       "      <td>A-5037887</td>\n",
       "      <td>Source1</td>\n",
       "      <td>2</td>\n",
       "      <td>2022-04-16 17:26:16</td>\n",
       "      <td>2022-04-16 20:21:09</td>\n",
       "      <td>33.721994</td>\n",
       "      <td>-84.394682</td>\n",
       "      <td>33.738927</td>\n",
       "      <td>-84.391764</td>\n",
       "      <td>1.182</td>\n",
       "      <td>...</td>\n",
       "      <td>False</td>\n",
       "      <td>False</td>\n",
       "      <td>False</td>\n",
       "      <td>False</td>\n",
       "      <td>False</td>\n",
       "      <td>False</td>\n",
       "      <td>Day</td>\n",
       "      <td>Day</td>\n",
       "      <td>Day</td>\n",
       "      <td>Day</td>\n",
       "    </tr>\n",
       "  </tbody>\n",
       "</table>\n",
       "<p>5000000 rows × 46 columns</p>\n",
       "</div>\n",
       "    <div class=\"colab-df-buttons\">\n",
       "\n",
       "  <div class=\"colab-df-container\">\n",
       "    <button class=\"colab-df-convert\" onclick=\"convertToInteractive('df-9d0a1aa8-b242-44f8-9001-311955042e66')\"\n",
       "            title=\"Convert this dataframe to an interactive table.\"\n",
       "            style=\"display:none;\">\n",
       "\n",
       "  <svg xmlns=\"http://www.w3.org/2000/svg\" height=\"24px\" viewBox=\"0 -960 960 960\">\n",
       "    <path d=\"M120-120v-720h720v720H120Zm60-500h600v-160H180v160Zm220 220h160v-160H400v160Zm0 220h160v-160H400v160ZM180-400h160v-160H180v160Zm440 0h160v-160H620v160ZM180-180h160v-160H180v160Zm440 0h160v-160H620v160Z\"/>\n",
       "  </svg>\n",
       "    </button>\n",
       "\n",
       "  <style>\n",
       "    .colab-df-container {\n",
       "      display:flex;\n",
       "      gap: 12px;\n",
       "    }\n",
       "\n",
       "    .colab-df-convert {\n",
       "      background-color: #E8F0FE;\n",
       "      border: none;\n",
       "      border-radius: 50%;\n",
       "      cursor: pointer;\n",
       "      display: none;\n",
       "      fill: #1967D2;\n",
       "      height: 32px;\n",
       "      padding: 0 0 0 0;\n",
       "      width: 32px;\n",
       "    }\n",
       "\n",
       "    .colab-df-convert:hover {\n",
       "      background-color: #E2EBFA;\n",
       "      box-shadow: 0px 1px 2px rgba(60, 64, 67, 0.3), 0px 1px 3px 1px rgba(60, 64, 67, 0.15);\n",
       "      fill: #174EA6;\n",
       "    }\n",
       "\n",
       "    .colab-df-buttons div {\n",
       "      margin-bottom: 4px;\n",
       "    }\n",
       "\n",
       "    [theme=dark] .colab-df-convert {\n",
       "      background-color: #3B4455;\n",
       "      fill: #D2E3FC;\n",
       "    }\n",
       "\n",
       "    [theme=dark] .colab-df-convert:hover {\n",
       "      background-color: #434B5C;\n",
       "      box-shadow: 0px 1px 3px 1px rgba(0, 0, 0, 0.15);\n",
       "      filter: drop-shadow(0px 1px 2px rgba(0, 0, 0, 0.3));\n",
       "      fill: #FFFFFF;\n",
       "    }\n",
       "  </style>\n",
       "\n",
       "    <script>\n",
       "      const buttonEl =\n",
       "        document.querySelector('#df-9d0a1aa8-b242-44f8-9001-311955042e66 button.colab-df-convert');\n",
       "      buttonEl.style.display =\n",
       "        google.colab.kernel.accessAllowed ? 'block' : 'none';\n",
       "\n",
       "      async function convertToInteractive(key) {\n",
       "        const element = document.querySelector('#df-9d0a1aa8-b242-44f8-9001-311955042e66');\n",
       "        const dataTable =\n",
       "          await google.colab.kernel.invokeFunction('convertToInteractive',\n",
       "                                                    [key], {});\n",
       "        if (!dataTable) return;\n",
       "\n",
       "        const docLinkHtml = 'Like what you see? Visit the ' +\n",
       "          '<a target=\"_blank\" href=https://colab.research.google.com/notebooks/data_table.ipynb>data table notebook</a>'\n",
       "          + ' to learn more about interactive tables.';\n",
       "        element.innerHTML = '';\n",
       "        dataTable['output_type'] = 'display_data';\n",
       "        await google.colab.output.renderOutput(dataTable, element);\n",
       "        const docLink = document.createElement('div');\n",
       "        docLink.innerHTML = docLinkHtml;\n",
       "        element.appendChild(docLink);\n",
       "      }\n",
       "    </script>\n",
       "  </div>\n",
       "\n",
       "\n",
       "<div id=\"df-e5977e46-890a-43da-a14c-460bbb0e6e1e\">\n",
       "  <button class=\"colab-df-quickchart\" onclick=\"quickchart('df-e5977e46-890a-43da-a14c-460bbb0e6e1e')\"\n",
       "            title=\"Suggest charts\"\n",
       "            style=\"display:none;\">\n",
       "\n",
       "<svg xmlns=\"http://www.w3.org/2000/svg\" height=\"24px\"viewBox=\"0 0 24 24\"\n",
       "     width=\"24px\">\n",
       "    <g>\n",
       "        <path d=\"M19 3H5c-1.1 0-2 .9-2 2v14c0 1.1.9 2 2 2h14c1.1 0 2-.9 2-2V5c0-1.1-.9-2-2-2zM9 17H7v-7h2v7zm4 0h-2V7h2v10zm4 0h-2v-4h2v4z\"/>\n",
       "    </g>\n",
       "</svg>\n",
       "  </button>\n",
       "\n",
       "<style>\n",
       "  .colab-df-quickchart {\n",
       "      --bg-color: #E8F0FE;\n",
       "      --fill-color: #1967D2;\n",
       "      --hover-bg-color: #E2EBFA;\n",
       "      --hover-fill-color: #174EA6;\n",
       "      --disabled-fill-color: #AAA;\n",
       "      --disabled-bg-color: #DDD;\n",
       "  }\n",
       "\n",
       "  [theme=dark] .colab-df-quickchart {\n",
       "      --bg-color: #3B4455;\n",
       "      --fill-color: #D2E3FC;\n",
       "      --hover-bg-color: #434B5C;\n",
       "      --hover-fill-color: #FFFFFF;\n",
       "      --disabled-bg-color: #3B4455;\n",
       "      --disabled-fill-color: #666;\n",
       "  }\n",
       "\n",
       "  .colab-df-quickchart {\n",
       "    background-color: var(--bg-color);\n",
       "    border: none;\n",
       "    border-radius: 50%;\n",
       "    cursor: pointer;\n",
       "    display: none;\n",
       "    fill: var(--fill-color);\n",
       "    height: 32px;\n",
       "    padding: 0;\n",
       "    width: 32px;\n",
       "  }\n",
       "\n",
       "  .colab-df-quickchart:hover {\n",
       "    background-color: var(--hover-bg-color);\n",
       "    box-shadow: 0 1px 2px rgba(60, 64, 67, 0.3), 0 1px 3px 1px rgba(60, 64, 67, 0.15);\n",
       "    fill: var(--button-hover-fill-color);\n",
       "  }\n",
       "\n",
       "  .colab-df-quickchart-complete:disabled,\n",
       "  .colab-df-quickchart-complete:disabled:hover {\n",
       "    background-color: var(--disabled-bg-color);\n",
       "    fill: var(--disabled-fill-color);\n",
       "    box-shadow: none;\n",
       "  }\n",
       "\n",
       "  .colab-df-spinner {\n",
       "    border: 2px solid var(--fill-color);\n",
       "    border-color: transparent;\n",
       "    border-bottom-color: var(--fill-color);\n",
       "    animation:\n",
       "      spin 1s steps(1) infinite;\n",
       "  }\n",
       "\n",
       "  @keyframes spin {\n",
       "    0% {\n",
       "      border-color: transparent;\n",
       "      border-bottom-color: var(--fill-color);\n",
       "      border-left-color: var(--fill-color);\n",
       "    }\n",
       "    20% {\n",
       "      border-color: transparent;\n",
       "      border-left-color: var(--fill-color);\n",
       "      border-top-color: var(--fill-color);\n",
       "    }\n",
       "    30% {\n",
       "      border-color: transparent;\n",
       "      border-left-color: var(--fill-color);\n",
       "      border-top-color: var(--fill-color);\n",
       "      border-right-color: var(--fill-color);\n",
       "    }\n",
       "    40% {\n",
       "      border-color: transparent;\n",
       "      border-right-color: var(--fill-color);\n",
       "      border-top-color: var(--fill-color);\n",
       "    }\n",
       "    60% {\n",
       "      border-color: transparent;\n",
       "      border-right-color: var(--fill-color);\n",
       "    }\n",
       "    80% {\n",
       "      border-color: transparent;\n",
       "      border-right-color: var(--fill-color);\n",
       "      border-bottom-color: var(--fill-color);\n",
       "    }\n",
       "    90% {\n",
       "      border-color: transparent;\n",
       "      border-bottom-color: var(--fill-color);\n",
       "    }\n",
       "  }\n",
       "</style>\n",
       "\n",
       "  <script>\n",
       "    async function quickchart(key) {\n",
       "      const quickchartButtonEl =\n",
       "        document.querySelector('#' + key + ' button');\n",
       "      quickchartButtonEl.disabled = true;  // To prevent multiple clicks.\n",
       "      quickchartButtonEl.classList.add('colab-df-spinner');\n",
       "      try {\n",
       "        const charts = await google.colab.kernel.invokeFunction(\n",
       "            'suggestCharts', [key], {});\n",
       "      } catch (error) {\n",
       "        console.error('Error during call to suggestCharts:', error);\n",
       "      }\n",
       "      quickchartButtonEl.classList.remove('colab-df-spinner');\n",
       "      quickchartButtonEl.classList.add('colab-df-quickchart-complete');\n",
       "    }\n",
       "    (() => {\n",
       "      let quickchartButtonEl =\n",
       "        document.querySelector('#df-e5977e46-890a-43da-a14c-460bbb0e6e1e button');\n",
       "      quickchartButtonEl.style.display =\n",
       "        google.colab.kernel.accessAllowed ? 'block' : 'none';\n",
       "    })();\n",
       "  </script>\n",
       "</div>\n",
       "    </div>\n",
       "  </div>\n"
      ],
      "text/plain": [
       "                ID   Source  Severity           Start_Time  \\\n",
       "0              A-1  Source2         3  2016-02-08 05:46:00   \n",
       "1              A-2  Source2         2  2016-02-08 06:07:59   \n",
       "2              A-3  Source2         2  2016-02-08 06:49:27   \n",
       "3              A-4  Source2         3  2016-02-08 07:23:34   \n",
       "4              A-5  Source2         2  2016-02-08 07:39:07   \n",
       "...            ...      ...       ...                  ...   \n",
       "4999995  A-5037883  Source1         2  2022-11-09 16:09:00   \n",
       "4999996  A-5037884  Source1         2  2022-07-24 19:19:50   \n",
       "4999997  A-5037885  Source1         2  2023-01-18 15:55:30   \n",
       "4999998  A-5037886  Source1         2  2022-10-13 14:22:30   \n",
       "4999999  A-5037887  Source1         2  2022-04-16 17:26:16   \n",
       "\n",
       "                    End_Time  Start_Lat   Start_Lng    End_Lat     End_Lng  \\\n",
       "0        2016-02-08 11:00:00  39.865147  -84.058723        NaN         NaN   \n",
       "1        2016-02-08 06:37:59  39.928059  -82.831184        NaN         NaN   \n",
       "2        2016-02-08 07:19:27  39.063148  -84.032608        NaN         NaN   \n",
       "3        2016-02-08 07:53:34  39.747753  -84.205582        NaN         NaN   \n",
       "4        2016-02-08 08:09:07  39.627781  -84.188354        NaN         NaN   \n",
       "...                      ...        ...         ...        ...         ...   \n",
       "4999995  2022-11-09 17:34:00  34.185388 -118.317917  34.218077 -118.355055   \n",
       "4999996  2022-07-24 20:39:23  32.934967 -117.242523  32.935341 -117.242500   \n",
       "4999997  2023-01-18 17:07:30  37.700654 -121.796602  37.729395 -121.633486   \n",
       "4999998  2022-10-13 14:53:00  37.700647 -121.796590  37.701347 -121.769970   \n",
       "4999999  2022-04-16 20:21:09  33.721994  -84.394682  33.738927  -84.391764   \n",
       "\n",
       "         Distance(mi)  ... Roundabout Station   Stop Traffic_Calming  \\\n",
       "0               0.010  ...      False   False  False           False   \n",
       "1               0.010  ...      False   False  False           False   \n",
       "2               0.010  ...      False   False  False           False   \n",
       "3               0.010  ...      False   False  False           False   \n",
       "4               0.010  ...      False   False  False           False   \n",
       "...               ...  ...        ...     ...    ...             ...   \n",
       "4999995         3.099  ...      False   False  False           False   \n",
       "4999996         0.026  ...      False   False  False           False   \n",
       "4999997         9.134  ...      False   False  False           False   \n",
       "4999998         1.456  ...      False   False  False           False   \n",
       "4999999         1.182  ...      False   False  False           False   \n",
       "\n",
       "        Traffic_Signal Turning_Loop Sunrise_Sunset Civil_Twilight  \\\n",
       "0                False        False          Night          Night   \n",
       "1                False        False          Night          Night   \n",
       "2                 True        False          Night          Night   \n",
       "3                False        False          Night            Day   \n",
       "4                 True        False            Day            Day   \n",
       "...                ...          ...            ...            ...   \n",
       "4999995          False        False            Day            Day   \n",
       "4999996          False        False            Day            Day   \n",
       "4999997          False        False            Day            Day   \n",
       "4999998          False        False            Day            Day   \n",
       "4999999          False        False            Day            Day   \n",
       "\n",
       "        Nautical_Twilight Astronomical_Twilight  \n",
       "0                   Night                 Night  \n",
       "1                   Night                   Day  \n",
       "2                     Day                   Day  \n",
       "3                     Day                   Day  \n",
       "4                     Day                   Day  \n",
       "...                   ...                   ...  \n",
       "4999995               Day                   Day  \n",
       "4999996               Day                   Day  \n",
       "4999997               Day                   Day  \n",
       "4999998               Day                   Day  \n",
       "4999999               Day                   Day  \n",
       "\n",
       "[5000000 rows x 46 columns]"
      ]
     },
     "execution_count": 12,
     "metadata": {},
     "output_type": "execute_result"
    }
   ],
   "source": [
    "df"
   ]
  },
  {
   "cell_type": "code",
   "execution_count": 13,
   "metadata": {
    "colab": {
     "base_uri": "https://localhost:8080/"
    },
    "executionInfo": {
     "elapsed": 61,
     "status": "ok",
     "timestamp": 1699403842203,
     "user": {
      "displayName": "Wahu",
      "userId": "14420219231280784051"
     },
     "user_tz": -180
    },
    "id": "ODjif1M8M7Xo",
    "outputId": "a3a8da24-717a-418b-9006-4ab00605416c"
   },
   "outputs": [
    {
     "data": {
      "text/plain": [
       "Index(['ID', 'Source', 'Severity', 'Start_Time', 'End_Time', 'Start_Lat',\n",
       "       'Start_Lng', 'End_Lat', 'End_Lng', 'Distance(mi)', 'Description',\n",
       "       'Street', 'City', 'County', 'State', 'Zipcode', 'Country', 'Timezone',\n",
       "       'Airport_Code', 'Weather_Timestamp', 'Temperature(F)', 'Wind_Chill(F)',\n",
       "       'Humidity(%)', 'Pressure(in)', 'Visibility(mi)', 'Wind_Direction',\n",
       "       'Wind_Speed(mph)', 'Precipitation(in)', 'Weather_Condition', 'Amenity',\n",
       "       'Bump', 'Crossing', 'Give_Way', 'Junction', 'No_Exit', 'Railway',\n",
       "       'Roundabout', 'Station', 'Stop', 'Traffic_Calming', 'Traffic_Signal',\n",
       "       'Turning_Loop', 'Sunrise_Sunset', 'Civil_Twilight', 'Nautical_Twilight',\n",
       "       'Astronomical_Twilight'],\n",
       "      dtype='object')"
      ]
     },
     "execution_count": 13,
     "metadata": {},
     "output_type": "execute_result"
    }
   ],
   "source": [
    "#get the columns\n",
    "df. columns"
   ]
  },
  {
   "cell_type": "code",
   "execution_count": 14,
   "metadata": {
    "colab": {
     "base_uri": "https://localhost:8080/"
    },
    "executionInfo": {
     "elapsed": 46,
     "status": "ok",
     "timestamp": 1699403842203,
     "user": {
      "displayName": "Wahu",
      "userId": "14420219231280784051"
     },
     "user_tz": -180
    },
    "id": "eA0wPPioM7NV",
    "outputId": "5c50d894-dda0-4aa3-f297-d9d005501ba7"
   },
   "outputs": [
    {
     "data": {
      "text/plain": [
       "46"
      ]
     },
     "execution_count": 14,
     "metadata": {},
     "output_type": "execute_result"
    }
   ],
   "source": [
    "#check the number of columns\n",
    "len(df.columns)"
   ]
  },
  {
   "cell_type": "code",
   "execution_count": 15,
   "metadata": {
    "colab": {
     "base_uri": "https://localhost:8080/"
    },
    "executionInfo": {
     "elapsed": 34,
     "status": "ok",
     "timestamp": 1699403842203,
     "user": {
      "displayName": "Wahu",
      "userId": "14420219231280784051"
     },
     "user_tz": -180
    },
    "id": "NcCgVUyte_U7",
    "outputId": "98c11aae-1611-41fe-cd04-caa405e8aa54"
   },
   "outputs": [
    {
     "data": {
      "text/plain": [
       "5000000"
      ]
     },
     "execution_count": 15,
     "metadata": {},
     "output_type": "execute_result"
    }
   ],
   "source": [
    "#check the number of rows\n",
    "len(df)"
   ]
  },
  {
   "cell_type": "code",
   "execution_count": 16,
   "metadata": {
    "colab": {
     "base_uri": "https://localhost:8080/"
    },
    "executionInfo": {
     "elapsed": 24,
     "status": "ok",
     "timestamp": 1699403842203,
     "user": {
      "displayName": "Wahu",
      "userId": "14420219231280784051"
     },
     "user_tz": -180
    },
    "id": "4krL7h6bNFAw",
    "outputId": "202b8abf-f4b3-442f-8f13-0060039dc868"
   },
   "outputs": [
    {
     "name": "stdout",
     "output_type": "stream",
     "text": [
      "<class 'pandas.core.frame.DataFrame'>\n",
      "RangeIndex: 5000000 entries, 0 to 4999999\n",
      "Data columns (total 46 columns):\n",
      " #   Column                 Dtype  \n",
      "---  ------                 -----  \n",
      " 0   ID                     object \n",
      " 1   Source                 object \n",
      " 2   Severity               int64  \n",
      " 3   Start_Time             object \n",
      " 4   End_Time               object \n",
      " 5   Start_Lat              float64\n",
      " 6   Start_Lng              float64\n",
      " 7   End_Lat                float64\n",
      " 8   End_Lng                float64\n",
      " 9   Distance(mi)           float64\n",
      " 10  Description            object \n",
      " 11  Street                 object \n",
      " 12  City                   object \n",
      " 13  County                 object \n",
      " 14  State                  object \n",
      " 15  Zipcode                object \n",
      " 16  Country                object \n",
      " 17  Timezone               object \n",
      " 18  Airport_Code           object \n",
      " 19  Weather_Timestamp      object \n",
      " 20  Temperature(F)         float64\n",
      " 21  Wind_Chill(F)          float64\n",
      " 22  Humidity(%)            float64\n",
      " 23  Pressure(in)           float64\n",
      " 24  Visibility(mi)         float64\n",
      " 25  Wind_Direction         object \n",
      " 26  Wind_Speed(mph)        float64\n",
      " 27  Precipitation(in)      float64\n",
      " 28  Weather_Condition      object \n",
      " 29  Amenity                bool   \n",
      " 30  Bump                   bool   \n",
      " 31  Crossing               bool   \n",
      " 32  Give_Way               bool   \n",
      " 33  Junction               bool   \n",
      " 34  No_Exit                bool   \n",
      " 35  Railway                bool   \n",
      " 36  Roundabout             bool   \n",
      " 37  Station                bool   \n",
      " 38  Stop                   bool   \n",
      " 39  Traffic_Calming        bool   \n",
      " 40  Traffic_Signal         bool   \n",
      " 41  Turning_Loop           bool   \n",
      " 42  Sunrise_Sunset         object \n",
      " 43  Civil_Twilight         object \n",
      " 44  Nautical_Twilight      object \n",
      " 45  Astronomical_Twilight  object \n",
      "dtypes: bool(13), float64(12), int64(1), object(20)\n",
      "memory usage: 1.3+ GB\n"
     ]
    }
   ],
   "source": [
    "#check the general information\n",
    "df.info()"
   ]
  },
  {
   "cell_type": "code",
   "execution_count": 17,
   "metadata": {
    "colab": {
     "base_uri": "https://localhost:8080/",
     "height": 300
    },
    "executionInfo": {
     "elapsed": 4383,
     "status": "ok",
     "timestamp": 1699403846571,
     "user": {
      "displayName": "Wahu",
      "userId": "14420219231280784051"
     },
     "user_tz": -180
    },
    "id": "mpFzDJCeNE9L",
    "outputId": "338223d1-f93f-481b-d064-02596e90920d"
   },
   "outputs": [
    {
     "data": {
      "text/html": [
       "\n",
       "  <div id=\"df-95e360ab-56fa-45a8-8594-baf952489fdd\" class=\"colab-df-container\">\n",
       "    <div>\n",
       "<style scoped>\n",
       "    .dataframe tbody tr th:only-of-type {\n",
       "        vertical-align: middle;\n",
       "    }\n",
       "\n",
       "    .dataframe tbody tr th {\n",
       "        vertical-align: top;\n",
       "    }\n",
       "\n",
       "    .dataframe thead th {\n",
       "        text-align: right;\n",
       "    }\n",
       "</style>\n",
       "<table border=\"1\" class=\"dataframe\">\n",
       "  <thead>\n",
       "    <tr style=\"text-align: right;\">\n",
       "      <th></th>\n",
       "      <th>Severity</th>\n",
       "      <th>Start_Lat</th>\n",
       "      <th>Start_Lng</th>\n",
       "      <th>End_Lat</th>\n",
       "      <th>End_Lng</th>\n",
       "      <th>Distance(mi)</th>\n",
       "      <th>Temperature(F)</th>\n",
       "      <th>Wind_Chill(F)</th>\n",
       "      <th>Humidity(%)</th>\n",
       "      <th>Pressure(in)</th>\n",
       "      <th>Visibility(mi)</th>\n",
       "      <th>Wind_Speed(mph)</th>\n",
       "      <th>Precipitation(in)</th>\n",
       "    </tr>\n",
       "  </thead>\n",
       "  <tbody>\n",
       "    <tr>\n",
       "      <th>count</th>\n",
       "      <td>5.000000e+06</td>\n",
       "      <td>5.000000e+06</td>\n",
       "      <td>5.000000e+06</td>\n",
       "      <td>1.597238e+06</td>\n",
       "      <td>1.597238e+06</td>\n",
       "      <td>5.000000e+06</td>\n",
       "      <td>4.905886e+06</td>\n",
       "      <td>3.292093e+06</td>\n",
       "      <td>4.899702e+06</td>\n",
       "      <td>4.919327e+06</td>\n",
       "      <td>4.894390e+06</td>\n",
       "      <td>4.557855e+06</td>\n",
       "      <td>3.159692e+06</td>\n",
       "    </tr>\n",
       "    <tr>\n",
       "      <th>mean</th>\n",
       "      <td>2.260127e+00</td>\n",
       "      <td>3.614592e+01</td>\n",
       "      <td>-9.365616e+01</td>\n",
       "      <td>3.619212e+01</td>\n",
       "      <td>-9.419799e+01</td>\n",
       "      <td>4.539070e-01</td>\n",
       "      <td>6.206250e+01</td>\n",
       "      <td>5.752691e+01</td>\n",
       "      <td>6.518778e+01</td>\n",
       "      <td>2.960942e+01</td>\n",
       "      <td>9.092253e+00</td>\n",
       "      <td>7.872648e+00</td>\n",
       "      <td>1.016153e-02</td>\n",
       "    </tr>\n",
       "    <tr>\n",
       "      <th>std</th>\n",
       "      <td>4.900441e-01</td>\n",
       "      <td>4.929354e+00</td>\n",
       "      <td>1.679307e+01</td>\n",
       "      <td>5.167761e+00</td>\n",
       "      <td>1.769986e+01</td>\n",
       "      <td>1.804199e+00</td>\n",
       "      <td>1.897718e+01</td>\n",
       "      <td>2.300458e+01</td>\n",
       "      <td>2.269066e+01</td>\n",
       "      <td>9.405037e-01</td>\n",
       "      <td>2.687333e+00</td>\n",
       "      <td>5.340880e+00</td>\n",
       "      <td>1.320223e-01</td>\n",
       "    </tr>\n",
       "    <tr>\n",
       "      <th>min</th>\n",
       "      <td>1.000000e+00</td>\n",
       "      <td>2.455480e+01</td>\n",
       "      <td>-1.246238e+02</td>\n",
       "      <td>2.456998e+01</td>\n",
       "      <td>-1.245445e+02</td>\n",
       "      <td>0.000000e+00</td>\n",
       "      <td>-8.900000e+01</td>\n",
       "      <td>-8.900000e+01</td>\n",
       "      <td>1.000000e+00</td>\n",
       "      <td>0.000000e+00</td>\n",
       "      <td>0.000000e+00</td>\n",
       "      <td>0.000000e+00</td>\n",
       "      <td>0.000000e+00</td>\n",
       "    </tr>\n",
       "    <tr>\n",
       "      <th>25%</th>\n",
       "      <td>2.000000e+00</td>\n",
       "      <td>3.335444e+01</td>\n",
       "      <td>-1.119703e+02</td>\n",
       "      <td>3.344371e+01</td>\n",
       "      <td>-1.172267e+02</td>\n",
       "      <td>0.000000e+00</td>\n",
       "      <td>5.000000e+01</td>\n",
       "      <td>4.100000e+01</td>\n",
       "      <td>4.900000e+01</td>\n",
       "      <td>2.945000e+01</td>\n",
       "      <td>1.000000e+01</td>\n",
       "      <td>4.600000e+00</td>\n",
       "      <td>0.000000e+00</td>\n",
       "    </tr>\n",
       "    <tr>\n",
       "      <th>50%</th>\n",
       "      <td>2.000000e+00</td>\n",
       "      <td>3.567058e+01</td>\n",
       "      <td>-8.682502e+01</td>\n",
       "      <td>3.617481e+01</td>\n",
       "      <td>-8.653111e+01</td>\n",
       "      <td>0.000000e+00</td>\n",
       "      <td>6.400000e+01</td>\n",
       "      <td>6.200000e+01</td>\n",
       "      <td>6.700000e+01</td>\n",
       "      <td>2.989000e+01</td>\n",
       "      <td>1.000000e+01</td>\n",
       "      <td>7.000000e+00</td>\n",
       "      <td>0.000000e+00</td>\n",
       "    </tr>\n",
       "    <tr>\n",
       "      <th>75%</th>\n",
       "      <td>3.000000e+00</td>\n",
       "      <td>4.003345e+01</td>\n",
       "      <td>-8.039096e+01</td>\n",
       "      <td>4.012922e+01</td>\n",
       "      <td>-8.016416e+01</td>\n",
       "      <td>1.800000e-01</td>\n",
       "      <td>7.600000e+01</td>\n",
       "      <td>7.500000e+01</td>\n",
       "      <td>8.400000e+01</td>\n",
       "      <td>3.005000e+01</td>\n",
       "      <td>1.000000e+01</td>\n",
       "      <td>1.040000e+01</td>\n",
       "      <td>0.000000e+00</td>\n",
       "    </tr>\n",
       "    <tr>\n",
       "      <th>max</th>\n",
       "      <td>4.000000e+00</td>\n",
       "      <td>4.900220e+01</td>\n",
       "      <td>-6.711317e+01</td>\n",
       "      <td>4.907500e+01</td>\n",
       "      <td>-6.710924e+01</td>\n",
       "      <td>4.417500e+02</td>\n",
       "      <td>2.070000e+02</td>\n",
       "      <td>2.070000e+02</td>\n",
       "      <td>1.000000e+02</td>\n",
       "      <td>5.863000e+01</td>\n",
       "      <td>1.400000e+02</td>\n",
       "      <td>8.228000e+02</td>\n",
       "      <td>3.647000e+01</td>\n",
       "    </tr>\n",
       "  </tbody>\n",
       "</table>\n",
       "</div>\n",
       "    <div class=\"colab-df-buttons\">\n",
       "\n",
       "  <div class=\"colab-df-container\">\n",
       "    <button class=\"colab-df-convert\" onclick=\"convertToInteractive('df-95e360ab-56fa-45a8-8594-baf952489fdd')\"\n",
       "            title=\"Convert this dataframe to an interactive table.\"\n",
       "            style=\"display:none;\">\n",
       "\n",
       "  <svg xmlns=\"http://www.w3.org/2000/svg\" height=\"24px\" viewBox=\"0 -960 960 960\">\n",
       "    <path d=\"M120-120v-720h720v720H120Zm60-500h600v-160H180v160Zm220 220h160v-160H400v160Zm0 220h160v-160H400v160ZM180-400h160v-160H180v160Zm440 0h160v-160H620v160ZM180-180h160v-160H180v160Zm440 0h160v-160H620v160Z\"/>\n",
       "  </svg>\n",
       "    </button>\n",
       "\n",
       "  <style>\n",
       "    .colab-df-container {\n",
       "      display:flex;\n",
       "      gap: 12px;\n",
       "    }\n",
       "\n",
       "    .colab-df-convert {\n",
       "      background-color: #E8F0FE;\n",
       "      border: none;\n",
       "      border-radius: 50%;\n",
       "      cursor: pointer;\n",
       "      display: none;\n",
       "      fill: #1967D2;\n",
       "      height: 32px;\n",
       "      padding: 0 0 0 0;\n",
       "      width: 32px;\n",
       "    }\n",
       "\n",
       "    .colab-df-convert:hover {\n",
       "      background-color: #E2EBFA;\n",
       "      box-shadow: 0px 1px 2px rgba(60, 64, 67, 0.3), 0px 1px 3px 1px rgba(60, 64, 67, 0.15);\n",
       "      fill: #174EA6;\n",
       "    }\n",
       "\n",
       "    .colab-df-buttons div {\n",
       "      margin-bottom: 4px;\n",
       "    }\n",
       "\n",
       "    [theme=dark] .colab-df-convert {\n",
       "      background-color: #3B4455;\n",
       "      fill: #D2E3FC;\n",
       "    }\n",
       "\n",
       "    [theme=dark] .colab-df-convert:hover {\n",
       "      background-color: #434B5C;\n",
       "      box-shadow: 0px 1px 3px 1px rgba(0, 0, 0, 0.15);\n",
       "      filter: drop-shadow(0px 1px 2px rgba(0, 0, 0, 0.3));\n",
       "      fill: #FFFFFF;\n",
       "    }\n",
       "  </style>\n",
       "\n",
       "    <script>\n",
       "      const buttonEl =\n",
       "        document.querySelector('#df-95e360ab-56fa-45a8-8594-baf952489fdd button.colab-df-convert');\n",
       "      buttonEl.style.display =\n",
       "        google.colab.kernel.accessAllowed ? 'block' : 'none';\n",
       "\n",
       "      async function convertToInteractive(key) {\n",
       "        const element = document.querySelector('#df-95e360ab-56fa-45a8-8594-baf952489fdd');\n",
       "        const dataTable =\n",
       "          await google.colab.kernel.invokeFunction('convertToInteractive',\n",
       "                                                    [key], {});\n",
       "        if (!dataTable) return;\n",
       "\n",
       "        const docLinkHtml = 'Like what you see? Visit the ' +\n",
       "          '<a target=\"_blank\" href=https://colab.research.google.com/notebooks/data_table.ipynb>data table notebook</a>'\n",
       "          + ' to learn more about interactive tables.';\n",
       "        element.innerHTML = '';\n",
       "        dataTable['output_type'] = 'display_data';\n",
       "        await google.colab.output.renderOutput(dataTable, element);\n",
       "        const docLink = document.createElement('div');\n",
       "        docLink.innerHTML = docLinkHtml;\n",
       "        element.appendChild(docLink);\n",
       "      }\n",
       "    </script>\n",
       "  </div>\n",
       "\n",
       "\n",
       "<div id=\"df-ea426561-d21d-452c-b5cc-10312ff0e605\">\n",
       "  <button class=\"colab-df-quickchart\" onclick=\"quickchart('df-ea426561-d21d-452c-b5cc-10312ff0e605')\"\n",
       "            title=\"Suggest charts\"\n",
       "            style=\"display:none;\">\n",
       "\n",
       "<svg xmlns=\"http://www.w3.org/2000/svg\" height=\"24px\"viewBox=\"0 0 24 24\"\n",
       "     width=\"24px\">\n",
       "    <g>\n",
       "        <path d=\"M19 3H5c-1.1 0-2 .9-2 2v14c0 1.1.9 2 2 2h14c1.1 0 2-.9 2-2V5c0-1.1-.9-2-2-2zM9 17H7v-7h2v7zm4 0h-2V7h2v10zm4 0h-2v-4h2v4z\"/>\n",
       "    </g>\n",
       "</svg>\n",
       "  </button>\n",
       "\n",
       "<style>\n",
       "  .colab-df-quickchart {\n",
       "      --bg-color: #E8F0FE;\n",
       "      --fill-color: #1967D2;\n",
       "      --hover-bg-color: #E2EBFA;\n",
       "      --hover-fill-color: #174EA6;\n",
       "      --disabled-fill-color: #AAA;\n",
       "      --disabled-bg-color: #DDD;\n",
       "  }\n",
       "\n",
       "  [theme=dark] .colab-df-quickchart {\n",
       "      --bg-color: #3B4455;\n",
       "      --fill-color: #D2E3FC;\n",
       "      --hover-bg-color: #434B5C;\n",
       "      --hover-fill-color: #FFFFFF;\n",
       "      --disabled-bg-color: #3B4455;\n",
       "      --disabled-fill-color: #666;\n",
       "  }\n",
       "\n",
       "  .colab-df-quickchart {\n",
       "    background-color: var(--bg-color);\n",
       "    border: none;\n",
       "    border-radius: 50%;\n",
       "    cursor: pointer;\n",
       "    display: none;\n",
       "    fill: var(--fill-color);\n",
       "    height: 32px;\n",
       "    padding: 0;\n",
       "    width: 32px;\n",
       "  }\n",
       "\n",
       "  .colab-df-quickchart:hover {\n",
       "    background-color: var(--hover-bg-color);\n",
       "    box-shadow: 0 1px 2px rgba(60, 64, 67, 0.3), 0 1px 3px 1px rgba(60, 64, 67, 0.15);\n",
       "    fill: var(--button-hover-fill-color);\n",
       "  }\n",
       "\n",
       "  .colab-df-quickchart-complete:disabled,\n",
       "  .colab-df-quickchart-complete:disabled:hover {\n",
       "    background-color: var(--disabled-bg-color);\n",
       "    fill: var(--disabled-fill-color);\n",
       "    box-shadow: none;\n",
       "  }\n",
       "\n",
       "  .colab-df-spinner {\n",
       "    border: 2px solid var(--fill-color);\n",
       "    border-color: transparent;\n",
       "    border-bottom-color: var(--fill-color);\n",
       "    animation:\n",
       "      spin 1s steps(1) infinite;\n",
       "  }\n",
       "\n",
       "  @keyframes spin {\n",
       "    0% {\n",
       "      border-color: transparent;\n",
       "      border-bottom-color: var(--fill-color);\n",
       "      border-left-color: var(--fill-color);\n",
       "    }\n",
       "    20% {\n",
       "      border-color: transparent;\n",
       "      border-left-color: var(--fill-color);\n",
       "      border-top-color: var(--fill-color);\n",
       "    }\n",
       "    30% {\n",
       "      border-color: transparent;\n",
       "      border-left-color: var(--fill-color);\n",
       "      border-top-color: var(--fill-color);\n",
       "      border-right-color: var(--fill-color);\n",
       "    }\n",
       "    40% {\n",
       "      border-color: transparent;\n",
       "      border-right-color: var(--fill-color);\n",
       "      border-top-color: var(--fill-color);\n",
       "    }\n",
       "    60% {\n",
       "      border-color: transparent;\n",
       "      border-right-color: var(--fill-color);\n",
       "    }\n",
       "    80% {\n",
       "      border-color: transparent;\n",
       "      border-right-color: var(--fill-color);\n",
       "      border-bottom-color: var(--fill-color);\n",
       "    }\n",
       "    90% {\n",
       "      border-color: transparent;\n",
       "      border-bottom-color: var(--fill-color);\n",
       "    }\n",
       "  }\n",
       "</style>\n",
       "\n",
       "  <script>\n",
       "    async function quickchart(key) {\n",
       "      const quickchartButtonEl =\n",
       "        document.querySelector('#' + key + ' button');\n",
       "      quickchartButtonEl.disabled = true;  // To prevent multiple clicks.\n",
       "      quickchartButtonEl.classList.add('colab-df-spinner');\n",
       "      try {\n",
       "        const charts = await google.colab.kernel.invokeFunction(\n",
       "            'suggestCharts', [key], {});\n",
       "      } catch (error) {\n",
       "        console.error('Error during call to suggestCharts:', error);\n",
       "      }\n",
       "      quickchartButtonEl.classList.remove('colab-df-spinner');\n",
       "      quickchartButtonEl.classList.add('colab-df-quickchart-complete');\n",
       "    }\n",
       "    (() => {\n",
       "      let quickchartButtonEl =\n",
       "        document.querySelector('#df-ea426561-d21d-452c-b5cc-10312ff0e605 button');\n",
       "      quickchartButtonEl.style.display =\n",
       "        google.colab.kernel.accessAllowed ? 'block' : 'none';\n",
       "    })();\n",
       "  </script>\n",
       "</div>\n",
       "    </div>\n",
       "  </div>\n"
      ],
      "text/plain": [
       "           Severity     Start_Lat     Start_Lng       End_Lat       End_Lng  \\\n",
       "count  5.000000e+06  5.000000e+06  5.000000e+06  1.597238e+06  1.597238e+06   \n",
       "mean   2.260127e+00  3.614592e+01 -9.365616e+01  3.619212e+01 -9.419799e+01   \n",
       "std    4.900441e-01  4.929354e+00  1.679307e+01  5.167761e+00  1.769986e+01   \n",
       "min    1.000000e+00  2.455480e+01 -1.246238e+02  2.456998e+01 -1.245445e+02   \n",
       "25%    2.000000e+00  3.335444e+01 -1.119703e+02  3.344371e+01 -1.172267e+02   \n",
       "50%    2.000000e+00  3.567058e+01 -8.682502e+01  3.617481e+01 -8.653111e+01   \n",
       "75%    3.000000e+00  4.003345e+01 -8.039096e+01  4.012922e+01 -8.016416e+01   \n",
       "max    4.000000e+00  4.900220e+01 -6.711317e+01  4.907500e+01 -6.710924e+01   \n",
       "\n",
       "       Distance(mi)  Temperature(F)  Wind_Chill(F)   Humidity(%)  \\\n",
       "count  5.000000e+06    4.905886e+06   3.292093e+06  4.899702e+06   \n",
       "mean   4.539070e-01    6.206250e+01   5.752691e+01  6.518778e+01   \n",
       "std    1.804199e+00    1.897718e+01   2.300458e+01  2.269066e+01   \n",
       "min    0.000000e+00   -8.900000e+01  -8.900000e+01  1.000000e+00   \n",
       "25%    0.000000e+00    5.000000e+01   4.100000e+01  4.900000e+01   \n",
       "50%    0.000000e+00    6.400000e+01   6.200000e+01  6.700000e+01   \n",
       "75%    1.800000e-01    7.600000e+01   7.500000e+01  8.400000e+01   \n",
       "max    4.417500e+02    2.070000e+02   2.070000e+02  1.000000e+02   \n",
       "\n",
       "       Pressure(in)  Visibility(mi)  Wind_Speed(mph)  Precipitation(in)  \n",
       "count  4.919327e+06    4.894390e+06     4.557855e+06       3.159692e+06  \n",
       "mean   2.960942e+01    9.092253e+00     7.872648e+00       1.016153e-02  \n",
       "std    9.405037e-01    2.687333e+00     5.340880e+00       1.320223e-01  \n",
       "min    0.000000e+00    0.000000e+00     0.000000e+00       0.000000e+00  \n",
       "25%    2.945000e+01    1.000000e+01     4.600000e+00       0.000000e+00  \n",
       "50%    2.989000e+01    1.000000e+01     7.000000e+00       0.000000e+00  \n",
       "75%    3.005000e+01    1.000000e+01     1.040000e+01       0.000000e+00  \n",
       "max    5.863000e+01    1.400000e+02     8.228000e+02       3.647000e+01  "
      ]
     },
     "execution_count": 17,
     "metadata": {},
     "output_type": "execute_result"
    }
   ],
   "source": [
    "#check the statistics of the data\n",
    "df.describe()"
   ]
  },
  {
   "cell_type": "code",
   "execution_count": 18,
   "metadata": {
    "colab": {
     "base_uri": "https://localhost:8080/"
    },
    "executionInfo": {
     "elapsed": 25,
     "status": "ok",
     "timestamp": 1699403846572,
     "user": {
      "displayName": "Wahu",
      "userId": "14420219231280784051"
     },
     "user_tz": -180
    },
    "id": "c_aMzMIVNE6s",
    "outputId": "36efa406-9e47-449e-d47c-315fe2e57887"
   },
   "outputs": [
    {
     "data": {
      "text/plain": [
       "13"
      ]
     },
     "execution_count": 18,
     "metadata": {},
     "output_type": "execute_result"
    }
   ],
   "source": [
    "#check the number of numerical columns\n",
    "numerics = ['int16','int32','int64','float16','float32','float64']\n",
    "numeric_df = df.select_dtypes(include=numerics)\n",
    "len(numeric_df.columns)"
   ]
  },
  {
   "cell_type": "markdown",
   "metadata": {
    "id": "sOjG-jI9TNv4"
   },
   "source": [
    "# Percentage of missing values per column"
   ]
  },
  {
   "cell_type": "code",
   "execution_count": 19,
   "metadata": {
    "colab": {
     "base_uri": "https://localhost:8080/"
    },
    "executionInfo": {
     "elapsed": 19045,
     "status": "ok",
     "timestamp": 1699403865603,
     "user": {
      "displayName": "Wahu",
      "userId": "14420219231280784051"
     },
     "user_tz": -180
    },
    "id": "B3dk6NeASdzh",
    "outputId": "8a7f9128-7e80-4f65-dd1c-ec64aeba1e6a"
   },
   "outputs": [
    {
     "data": {
      "text/plain": [
       "End_Lat                  0.680552\n",
       "End_Lng                  0.680552\n",
       "Precipitation(in)        0.368062\n",
       "Wind_Chill(F)            0.341581\n",
       "Wind_Speed(mph)          0.088429\n",
       "Visibility(mi)           0.021122\n",
       "Weather_Condition        0.020537\n",
       "Humidity(%)              0.020060\n",
       "Wind_Direction           0.019302\n",
       "Temperature(F)           0.018823\n",
       "Pressure(in)             0.016135\n",
       "Weather_Timestamp        0.013488\n",
       "Nautical_Twilight        0.002627\n",
       "Civil_Twilight           0.002627\n",
       "Sunrise_Sunset           0.002627\n",
       "Astronomical_Twilight    0.002627\n",
       "Airport_Code             0.002510\n",
       "Street                   0.001319\n",
       "Timezone                 0.000860\n",
       "Zipcode                  0.000169\n",
       "City                     0.000027\n",
       "Description              0.000001\n",
       "Traffic_Signal           0.000000\n",
       "Roundabout               0.000000\n",
       "Station                  0.000000\n",
       "Stop                     0.000000\n",
       "Traffic_Calming          0.000000\n",
       "Country                  0.000000\n",
       "Turning_Loop             0.000000\n",
       "No_Exit                  0.000000\n",
       "End_Time                 0.000000\n",
       "Start_Time               0.000000\n",
       "Severity                 0.000000\n",
       "Railway                  0.000000\n",
       "Crossing                 0.000000\n",
       "Junction                 0.000000\n",
       "Give_Way                 0.000000\n",
       "Bump                     0.000000\n",
       "Amenity                  0.000000\n",
       "Start_Lat                0.000000\n",
       "Start_Lng                0.000000\n",
       "Distance(mi)             0.000000\n",
       "Source                   0.000000\n",
       "County                   0.000000\n",
       "State                    0.000000\n",
       "ID                       0.000000\n",
       "dtype: float64"
      ]
     },
     "execution_count": 19,
     "metadata": {},
     "output_type": "execute_result"
    }
   ],
   "source": [
    "#Checking nulls per field\n",
    "missing_percentages = df.isna().sum().sort_values(ascending = False) / len(df)\n",
    "missing_percentages"
   ]
  },
  {
   "cell_type": "markdown",
   "metadata": {
    "id": "gCcXvm2ZTH89"
   },
   "source": []
  },
  {
   "cell_type": "code",
   "execution_count": 20,
   "metadata": {
    "colab": {
     "base_uri": "https://localhost:8080/"
    },
    "executionInfo": {
     "elapsed": 21,
     "status": "ok",
     "timestamp": 1699403865604,
     "user": {
      "displayName": "Wahu",
      "userId": "14420219231280784051"
     },
     "user_tz": -180
    },
    "id": "-9DvaVmjUIMR",
    "outputId": "35a76703-92fb-4a0a-e2b5-0fea3120893f"
   },
   "outputs": [
    {
     "data": {
      "text/plain": [
       "pandas.core.series.Series"
      ]
     },
     "execution_count": 20,
     "metadata": {},
     "output_type": "execute_result"
    }
   ],
   "source": [
    "type(missing_percentages)"
   ]
  },
  {
   "cell_type": "code",
   "execution_count": 21,
   "metadata": {
    "colab": {
     "base_uri": "https://localhost:8080/"
    },
    "executionInfo": {
     "elapsed": 13,
     "status": "ok",
     "timestamp": 1699403865604,
     "user": {
      "displayName": "Wahu",
      "userId": "14420219231280784051"
     },
     "user_tz": -180
    },
    "id": "RuuVrf7vNE4H",
    "outputId": "42b93af9-3d63-4e84-ada3-d4dc86c6f6b7"
   },
   "outputs": [
    {
     "data": {
      "text/plain": [
       "End_Lat                   True\n",
       "End_Lng                   True\n",
       "Precipitation(in)         True\n",
       "Wind_Chill(F)             True\n",
       "Wind_Speed(mph)           True\n",
       "Visibility(mi)            True\n",
       "Weather_Condition         True\n",
       "Humidity(%)               True\n",
       "Wind_Direction            True\n",
       "Temperature(F)            True\n",
       "Pressure(in)              True\n",
       "Weather_Timestamp         True\n",
       "Nautical_Twilight         True\n",
       "Civil_Twilight            True\n",
       "Sunrise_Sunset            True\n",
       "Astronomical_Twilight     True\n",
       "Airport_Code              True\n",
       "Street                    True\n",
       "Timezone                  True\n",
       "Zipcode                   True\n",
       "City                      True\n",
       "Description               True\n",
       "Traffic_Signal           False\n",
       "Roundabout               False\n",
       "Station                  False\n",
       "Stop                     False\n",
       "Traffic_Calming          False\n",
       "Country                  False\n",
       "Turning_Loop             False\n",
       "No_Exit                  False\n",
       "End_Time                 False\n",
       "Start_Time               False\n",
       "Severity                 False\n",
       "Railway                  False\n",
       "Crossing                 False\n",
       "Junction                 False\n",
       "Give_Way                 False\n",
       "Bump                     False\n",
       "Amenity                  False\n",
       "Start_Lat                False\n",
       "Start_Lng                False\n",
       "Distance(mi)             False\n",
       "Source                   False\n",
       "County                   False\n",
       "State                    False\n",
       "ID                       False\n",
       "dtype: bool"
      ]
     },
     "execution_count": 21,
     "metadata": {},
     "output_type": "execute_result"
    }
   ],
   "source": [
    "missing_percentages != 0"
   ]
  },
  {
   "cell_type": "code",
   "execution_count": 22,
   "metadata": {
    "colab": {
     "base_uri": "https://localhost:8080/",
     "height": 447
    },
    "executionInfo": {
     "elapsed": 927,
     "status": "ok",
     "timestamp": 1699403866522,
     "user": {
      "displayName": "Wahu",
      "userId": "14420219231280784051"
     },
     "user_tz": -180
    },
    "id": "mvdU6v00CK5g",
    "outputId": "f117807f-9405-4775-b4e6-cee726f4fd68"
   },
   "outputs": [
    {
     "data": {
      "text/plain": [
       "<Axes: >"
      ]
     },
     "execution_count": 22,
     "metadata": {},
     "output_type": "execute_result"
    },
    {
     "data": {
      "image/png": "[encoded data removed]",
      "text/plain": [
       "<Figure size 640x480 with 1 Axes>"
      ]
     },
     "metadata": {},
     "output_type": "display_data"
    }
   ],
   "source": [
    "#using boolean series as an index\n",
    "#Keep the values where the output is true\n",
    "missing_percentages[missing_percentages != 0].plot(kind = 'barh')"
   ]
  },
  {
   "cell_type": "markdown",
   "metadata": {
    "id": "z9VqcxMWEqjW"
   },
   "source": [
    "# Remove columns that won't be used\n"
   ]
  },
  {
   "cell_type": "code",
   "execution_count": 22,
   "metadata": {
    "executionInfo": {
     "elapsed": 31,
     "status": "ok",
     "timestamp": 1699403866523,
     "user": {
      "displayName": "Wahu",
      "userId": "14420219231280784051"
     },
     "user_tz": -180
    },
    "id": "dQOKsvGVDVxo"
   },
   "outputs": [],
   "source": []
  },
  {
   "cell_type": "markdown",
   "metadata": {
    "id": "sP8I_NkeM9d9"
   },
   "source": [
    "##Exploratory Analysis and Visualizations\n",
    "\n",
    "Columns to analyze:\n",
    "1. City\n",
    "2. Start Time\n",
    "3. Start Lat, Start Long\n",
    "4. Temperature\n",
    "5. Weather Condition"
   ]
  },
  {
   "cell_type": "code",
   "execution_count": 23,
   "metadata": {
    "colab": {
     "base_uri": "https://localhost:8080/"
    },
    "executionInfo": {
     "elapsed": 28,
     "status": "ok",
     "timestamp": 1699403866523,
     "user": {
      "displayName": "Wahu",
      "userId": "14420219231280784051"
     },
     "user_tz": -180
    },
    "id": "1J99zE9eNEz8",
    "outputId": "6cb7916b-9e05-4f8f-a22b-0b71c03c5f1c"
   },
   "outputs": [
    {
     "data": {
      "text/plain": [
       "Index(['ID', 'Source', 'Severity', 'Start_Time', 'End_Time', 'Start_Lat',\n",
       "       'Start_Lng', 'End_Lat', 'End_Lng', 'Distance(mi)', 'Description',\n",
       "       'Street', 'City', 'County', 'State', 'Zipcode', 'Country', 'Timezone',\n",
       "       'Airport_Code', 'Weather_Timestamp', 'Temperature(F)', 'Wind_Chill(F)',\n",
       "       'Humidity(%)', 'Pressure(in)', 'Visibility(mi)', 'Wind_Direction',\n",
       "       'Wind_Speed(mph)', 'Precipitation(in)', 'Weather_Condition', 'Amenity',\n",
       "       'Bump', 'Crossing', 'Give_Way', 'Junction', 'No_Exit', 'Railway',\n",
       "       'Roundabout', 'Station', 'Stop', 'Traffic_Calming', 'Traffic_Signal',\n",
       "       'Turning_Loop', 'Sunrise_Sunset', 'Civil_Twilight', 'Nautical_Twilight',\n",
       "       'Astronomical_Twilight'],\n",
       "      dtype='object')"
      ]
     },
     "execution_count": 23,
     "metadata": {},
     "output_type": "execute_result"
    }
   ],
   "source": [
    "df.columns"
   ]
  },
  {
   "cell_type": "markdown",
   "metadata": {
    "id": "44qi5Oi1VpH-"
   },
   "source": [
    "##City"
   ]
  },
  {
   "cell_type": "code",
   "execution_count": 24,
   "metadata": {
    "colab": {
     "base_uri": "https://localhost:8080/"
    },
    "executionInfo": {
     "elapsed": 20,
     "status": "ok",
     "timestamp": 1699403866523,
     "user": {
      "displayName": "Wahu",
      "userId": "14420219231280784051"
     },
     "user_tz": -180
    },
    "id": "Y1jDd-txNET6",
    "outputId": "b7c848cb-5465-47fd-fcb8-7fd2ec5eacd6"
   },
   "outputs": [
    {
     "data": {
      "text/plain": [
       "0                Dayton\n",
       "1          Reynoldsburg\n",
       "2          Williamsburg\n",
       "3                Dayton\n",
       "4                Dayton\n",
       "               ...     \n",
       "4999995         Burbank\n",
       "4999996         Del Mar\n",
       "4999997       Livermore\n",
       "4999998       Livermore\n",
       "4999999         Atlanta\n",
       "Name: City, Length: 5000000, dtype: object"
      ]
     },
     "execution_count": 24,
     "metadata": {},
     "output_type": "execute_result"
    }
   ],
   "source": [
    "df.City"
   ]
  },
  {
   "cell_type": "code",
   "execution_count": 25,
   "metadata": {
    "colab": {
     "base_uri": "https://localhost:8080/"
    },
    "executionInfo": {
     "elapsed": 371,
     "status": "ok",
     "timestamp": 1699403866880,
     "user": {
      "displayName": "Wahu",
      "userId": "14420219231280784051"
     },
     "user_tz": -180
    },
    "id": "FlJyhjwUFpuX",
    "outputId": "1f995fd8-0b41-4589-9b56-3a0b61c8fe57"
   },
   "outputs": [
    {
     "data": {
      "text/plain": [
       "12876"
      ]
     },
     "execution_count": 25,
     "metadata": {},
     "output_type": "execute_result"
    }
   ],
   "source": [
    "#Count of the number of unique cities we have in the data\n",
    "cities = df.City.unique()\n",
    "len(cities)\n",
    "#Compare the number of cities with that from google to confirm if what we have is right/close to right.\n",
    "#There are over 19,000 cities in US, so our data seems right"
   ]
  },
  {
   "cell_type": "code",
   "execution_count": 26,
   "metadata": {
    "colab": {
     "base_uri": "https://localhost:8080/"
    },
    "executionInfo": {
     "elapsed": 10,
     "status": "ok",
     "timestamp": 1699403866881,
     "user": {
      "displayName": "Wahu",
      "userId": "14420219231280784051"
     },
     "user_tz": -180
    },
    "id": "KcyvlzqQFyhi",
    "outputId": "b4e6a64c-11bb-4fcf-fd9c-889c2ce4ca68"
   },
   "outputs": [
    {
     "data": {
      "text/plain": [
       "array(['Dayton', 'Reynoldsburg', 'Williamsburg', 'Westerville',\n",
       "       'Columbus', 'Miamisburg', 'Johnstown', 'Dublin',\n",
       "       'Canal Winchester', 'Lebanon', 'Sabina', 'Goshen', 'Waynesville',\n",
       "       'Springboro', 'Carroll', 'Oregonia', 'Independence',\n",
       "       'Maple Heights', 'Grove City', 'Findlay', 'Fairborn', 'Piqua',\n",
       "       'New Richmond', 'Batavia', 'Galena', 'Barberton', 'Akron',\n",
       "       'Mansfield', 'Cleveland', 'Bethel', 'Pataskala', 'Seville',\n",
       "       'Bellville', 'Troy', 'Wilmington', 'North Olmsted', 'Groveport',\n",
       "       'Orient', 'Tiro', 'Strongsville', 'Beavercreek', 'Circleville',\n",
       "       'Peebles', 'Hurricane', 'Xenia', 'Elyria', 'Pickerington',\n",
       "       'Burbank', 'Zanesville', 'North Baltimore', 'Mount Sterling',\n",
       "       'Tipp City', 'Moraine', 'Hilliard', 'Bowling Green', 'Maineville',\n",
       "       'Vermilion', 'Milford', 'Brookpark', 'Fraziers Bottom',\n",
       "       'Cambridge', 'Delaware', 'Moscow', 'Oberlin', 'Sardinia',\n",
       "       'Lewis Center', 'Urbancrest', 'Brecksville', 'Frankfort',\n",
       "       'Blanchester', 'Casstown', 'Lima', 'Amelia', 'Newark',\n",
       "       'Springfield', 'Vandalia', 'Galloway', 'Bloomingburg',\n",
       "       'Gallipolis', 'Lockbourne', 'Milan', 'Mason', 'Millersport',\n",
       "       'New Carlisle', 'Sunbury', 'Owensville', 'London', 'Vallejo',\n",
       "       'Hayward', 'Walnut Creek', 'Cupertino', 'San Jose', 'Pleasanton',\n",
       "       'San Francisco', 'Orinda', 'Livermore', 'Cotati', 'Concord',\n",
       "       'Sunnyvale', 'Sacramento'], dtype=object)"
      ]
     },
     "execution_count": 26,
     "metadata": {},
     "output_type": "execute_result"
    }
   ],
   "source": [
    "#Check out 100 of those cities\n",
    "cities[:100]"
   ]
  },
  {
   "cell_type": "code",
   "execution_count": 27,
   "metadata": {
    "colab": {
     "base_uri": "https://localhost:8080/"
    },
    "executionInfo": {
     "elapsed": 33,
     "status": "ok",
     "timestamp": 1699403867464,
     "user": {
      "displayName": "Wahu",
      "userId": "14420219231280784051"
     },
     "user_tz": -180
    },
    "id": "ah_fZxzAFyeE",
    "outputId": "7be761b8-c66e-4151-9a04-bc544a7986e3"
   },
   "outputs": [
    {
     "data": {
      "text/plain": [
       "Houston         134316\n",
       "Charlotte       109703\n",
       "Los Angeles      94709\n",
       "Dallas           93434\n",
       "Miami            88772\n",
       "                 ...  \n",
       "Pottsboro            1\n",
       "Pickensville         1\n",
       "Haskins              1\n",
       "Saint Landry         1\n",
       "Skippack             1\n",
       "Name: City, Length: 12875, dtype: int64"
      ]
     },
     "execution_count": 27,
     "metadata": {},
     "output_type": "execute_result"
    }
   ],
   "source": [
    "#count number of occurrences of each unique city\n",
    "cities_by_accident = df.City.value_counts()\n",
    "cities_by_accident\n",
    "#checking top cities by population(google): NewYork, Los Angeles, Chicago, Houston, Phoenix"
   ]
  },
  {
   "cell_type": "code",
   "execution_count": 28,
   "metadata": {
    "colab": {
     "base_uri": "https://localhost:8080/"
    },
    "executionInfo": {
     "elapsed": 26,
     "status": "ok",
     "timestamp": 1699403867464,
     "user": {
      "displayName": "Wahu",
      "userId": "14420219231280784051"
     },
     "user_tz": -180
    },
    "id": "OV6cfbLnFybt",
    "outputId": "3678a5e3-4aad-4d34-f89c-8ca2a247d9da"
   },
   "outputs": [
    {
     "data": {
      "text/plain": [
       "Houston          134316\n",
       "Charlotte        109703\n",
       "Los Angeles       94709\n",
       "Dallas            93434\n",
       "Miami             88772\n",
       "Austin            78360\n",
       "Raleigh           65268\n",
       "Orlando           59859\n",
       "Baton Rouge       53861\n",
       "Nashville         53418\n",
       "Atlanta           52494\n",
       "Oklahoma City     43559\n",
       "Phoenix           37861\n",
       "Sacramento        36950\n",
       "Richmond          33778\n",
       "San Diego         32111\n",
       "San Antonio       31399\n",
       "Minneapolis       31318\n",
       "Greenville        30487\n",
       "Columbia          29004\n",
       "Name: City, dtype: int64"
      ]
     },
     "execution_count": 28,
     "metadata": {},
     "output_type": "execute_result"
    }
   ],
   "source": [
    "#checking the first 20 cities by accident\n",
    "cities_by_accident[:20]\n",
    "# trying to locate New York and Chicago......\n",
    "#trying to make sense why cities with the highest population do not have the highest number of accidents"
   ]
  },
  {
   "cell_type": "code",
   "execution_count": 29,
   "metadata": {
    "colab": {
     "base_uri": "https://localhost:8080/"
    },
    "executionInfo": {
     "elapsed": 21,
     "status": "ok",
     "timestamp": 1699403867464,
     "user": {
      "displayName": "Wahu",
      "userId": "14420219231280784051"
     },
     "user_tz": -180
    },
    "id": "a6Z7HjahFyZY",
    "outputId": "1c3fe76b-5d64-40af-afca-0d158b3d9aa6"
   },
   "outputs": [
    {
     "data": {
      "text/plain": [
       "False"
      ]
     },
     "execution_count": 29,
     "metadata": {},
     "output_type": "execute_result"
    }
   ],
   "source": [
    "'New York' in df.City"
   ]
  },
  {
   "cell_type": "code",
   "execution_count": 30,
   "metadata": {
    "colab": {
     "base_uri": "https://localhost:8080/"
    },
    "executionInfo": {
     "elapsed": 18,
     "status": "ok",
     "timestamp": 1699403867465,
     "user": {
      "displayName": "Wahu",
      "userId": "14420219231280784051"
     },
     "user_tz": -180
    },
    "id": "eQGsG65JmkeU",
    "outputId": "51443ce9-1d0e-45f2-d98d-6ca20e785e65"
   },
   "outputs": [
    {
     "data": {
      "text/plain": [
       "False"
      ]
     },
     "execution_count": 30,
     "metadata": {},
     "output_type": "execute_result"
    }
   ],
   "source": [
    "'Chicago' in df.City"
   ]
  },
  {
   "cell_type": "markdown",
   "metadata": {
    "id": "olwXaBCywdsA"
   },
   "source": [
    "Above are the 2 main cities missing, but we also have some more given that there are more than 19,000 cities but our data only covers around 12,000"
   ]
  },
  {
   "cell_type": "code",
   "execution_count": 31,
   "metadata": {
    "colab": {
     "base_uri": "https://localhost:8080/"
    },
    "executionInfo": {
     "elapsed": 12,
     "status": "ok",
     "timestamp": 1699403867465,
     "user": {
      "displayName": "Wahu",
      "userId": "14420219231280784051"
     },
     "user_tz": -180
    },
    "id": "1Iq9Jgx9mka6",
    "outputId": "97b575fd-88a0-4673-c2ce-5f0dd514b159"
   },
   "outputs": [
    {
     "data": {
      "text/plain": [
       "False"
      ]
     },
     "execution_count": 31,
     "metadata": {},
     "output_type": "execute_result"
    }
   ],
   "source": [
    "#Let's locate the States to check if their States are missing\n",
    "'NY' in df.State\n",
    "'CH' in df.State"
   ]
  },
  {
   "cell_type": "code",
   "execution_count": 32,
   "metadata": {
    "colab": {
     "base_uri": "https://localhost:8080/",
     "height": 447
    },
    "executionInfo": {
     "elapsed": 1028,
     "status": "ok",
     "timestamp": 1699403868484,
     "user": {
      "displayName": "Wahu",
      "userId": "14420219231280784051"
     },
     "user_tz": -180
    },
    "id": "TXFdBu-DoKS7",
    "outputId": "33794089-fda7-4366-e0e0-6f80c05d6399"
   },
   "outputs": [
    {
     "data": {
      "text/plain": [
       "<Axes: >"
      ]
     },
     "execution_count": 32,
     "metadata": {},
     "output_type": "execute_result"
    },
    {
     "data": {
      "image/png": "[encoded data removed]",
      "text/plain": [
       "<Figure size 640x480 with 1 Axes>"
      ]
     },
     "metadata": {},
     "output_type": "display_data"
    }
   ],
   "source": [
    "cities_by_accident[:20].plot(kind = 'barh')"
   ]
  },
  {
   "cell_type": "code",
   "execution_count": 33,
   "metadata": {
    "executionInfo": {
     "elapsed": 610,
     "status": "ok",
     "timestamp": 1699403869073,
     "user": {
      "displayName": "Wahu",
      "userId": "14420219231280784051"
     },
     "user_tz": -180
    },
    "id": "eU1YZLm6oKPj"
   },
   "outputs": [],
   "source": [
    "#looking at the distribution of accidents in the cities\n",
    "import seaborn as sns\n",
    "sns.set_style(\"darkgrid\")"
   ]
  },
  {
   "cell_type": "code",
   "execution_count": 34,
   "metadata": {
    "colab": {
     "base_uri": "https://localhost:8080/",
     "height": 657
    },
    "executionInfo": {
     "elapsed": 951,
     "status": "ok",
     "timestamp": 1699403870013,
     "user": {
      "displayName": "Wahu",
      "userId": "14420219231280784051"
     },
     "user_tz": -180
    },
    "id": "WuxKi4TIrRpC",
    "outputId": "05449048-bb82-4fbb-d217-a00494d0faff"
   },
   "outputs": [
    {
     "name": "stderr",
     "output_type": "stream",
     "text": [
      "<ipython-input-34-1f460903cad6>:1: UserWarning: \n",
      "\n",
      "`distplot` is a deprecated function and will be removed in seaborn v0.14.0.\n",
      "\n",
      "Please adapt your code to use either `displot` (a figure-level function with\n",
      "similar flexibility) or `histplot` (an axes-level function for histograms).\n",
      "\n",
      "For a guide to updating your code to use the new functions, please see\n",
      "https://gist.github.com/mwaskom/de44147ed2974457ad6372750bbe5751\n",
      "\n",
      "  sns.distplot(cities_by_accident)\n"
     ]
    },
    {
     "data": {
      "text/plain": [
       "<Axes: xlabel='City', ylabel='Density'>"
      ]
     },
     "execution_count": 34,
     "metadata": {},
     "output_type": "execute_result"
    },
    {
     "data": {
      "image/png": "[encoded data removed]",
      "text/plain": [
       "<Figure size 640x480 with 1 Axes>"
      ]
     },
     "metadata": {},
     "output_type": "display_data"
    }
   ],
   "source": [
    "sns.distplot(cities_by_accident)"
   ]
  },
  {
   "cell_type": "code",
   "execution_count": 35,
   "metadata": {
    "executionInfo": {
     "elapsed": 30,
     "status": "ok",
     "timestamp": 1699403870013,
     "user": {
      "displayName": "Wahu",
      "userId": "14420219231280784051"
     },
     "user_tz": -180
    },
    "id": "1rkpd1o6rRlV"
   },
   "outputs": [],
   "source": [
    "#seems like most cities have less than 5000 number of accidents\n",
    "#we may want to create buckets because from the bar graph, number of accidents are too high whereas\n",
    "#from the distplot above, they are quite liw"
   ]
  },
  {
   "cell_type": "code",
   "execution_count": 36,
   "metadata": {
    "executionInfo": {
     "elapsed": 31,
     "status": "ok",
     "timestamp": 1699403870014,
     "user": {
      "displayName": "Wahu",
      "userId": "14420219231280784051"
     },
     "user_tz": -180
    },
    "id": "ewtbIXaGrRiz"
   },
   "outputs": [],
   "source": [
    "high_accident_cities = cities_by_accident[cities_by_accident >= 1000]\n",
    "low_accident_cities = cities_by_accident[cities_by_accident < 1000]"
   ]
  },
  {
   "cell_type": "code",
   "execution_count": 37,
   "metadata": {
    "colab": {
     "base_uri": "https://localhost:8080/"
    },
    "executionInfo": {
     "elapsed": 30,
     "status": "ok",
     "timestamp": 1699403870014,
     "user": {
      "displayName": "Wahu",
      "userId": "14420219231280784051"
     },
     "user_tz": -180
    },
    "id": "cVIPwvBRrRb9",
    "outputId": "1cb8a8a0-24ce-425d-f5ee-31473004d918"
   },
   "outputs": [
    {
     "data": {
      "text/plain": [
       "803"
      ]
     },
     "execution_count": 37,
     "metadata": {},
     "output_type": "execute_result"
    }
   ],
   "source": [
    "#number of high abd low accident cities\n",
    "len(high_accident_cities)"
   ]
  },
  {
   "cell_type": "code",
   "execution_count": 38,
   "metadata": {
    "colab": {
     "base_uri": "https://localhost:8080/"
    },
    "executionInfo": {
     "elapsed": 23,
     "status": "ok",
     "timestamp": 1699403870015,
     "user": {
      "displayName": "Wahu",
      "userId": "14420219231280784051"
     },
     "user_tz": -180
    },
    "id": "KVbgqU5FxDhR",
    "outputId": "c03cf460-ef0d-4b3b-a687-5dc958c6ea92"
   },
   "outputs": [
    {
     "data": {
      "text/plain": [
       "12072"
      ]
     },
     "execution_count": 38,
     "metadata": {},
     "output_type": "execute_result"
    }
   ],
   "source": [
    "len(low_accident_cities)"
   ]
  },
  {
   "cell_type": "code",
   "execution_count": 39,
   "metadata": {
    "colab": {
     "base_uri": "https://localhost:8080/"
    },
    "executionInfo": {
     "elapsed": 16,
     "status": "ok",
     "timestamp": 1699403870015,
     "user": {
      "displayName": "Wahu",
      "userId": "14420219231280784051"
     },
     "user_tz": -180
    },
    "id": "ejQgwR3qxDdv",
    "outputId": "bfebf3b9-bbdb-49b9-bc50-bf45ea125d69"
   },
   "outputs": [
    {
     "data": {
      "text/plain": [
       "0.06236408822615719"
      ]
     },
     "execution_count": 39,
     "metadata": {},
     "output_type": "execute_result"
    }
   ],
   "source": [
    "len(high_accident_cities)/len(cities)"
   ]
  },
  {
   "cell_type": "code",
   "execution_count": 40,
   "metadata": {
    "colab": {
     "base_uri": "https://localhost:8080/",
     "height": 657
    },
    "executionInfo": {
     "elapsed": 1078,
     "status": "ok",
     "timestamp": 1699403871082,
     "user": {
      "displayName": "Wahu",
      "userId": "14420219231280784051"
     },
     "user_tz": -180
    },
    "id": "vJLtogo5xDbV",
    "outputId": "24728516-6139-4225-eef8-d6ad7a82e863"
   },
   "outputs": [
    {
     "name": "stderr",
     "output_type": "stream",
     "text": [
      "<ipython-input-40-50976d58a416>:1: UserWarning: \n",
      "\n",
      "`distplot` is a deprecated function and will be removed in seaborn v0.14.0.\n",
      "\n",
      "Please adapt your code to use either `displot` (a figure-level function with\n",
      "similar flexibility) or `histplot` (an axes-level function for histograms).\n",
      "\n",
      "For a guide to updating your code to use the new functions, please see\n",
      "https://gist.github.com/mwaskom/de44147ed2974457ad6372750bbe5751\n",
      "\n",
      "  sns.distplot(high_accident_cities)\n"
     ]
    },
    {
     "data": {
      "text/plain": [
       "<Axes: xlabel='City', ylabel='Density'>"
      ]
     },
     "execution_count": 40,
     "metadata": {},
     "output_type": "execute_result"
    },
    {
     "data": {
      "image/png": "[encoded data removed]",
      "text/plain": [
       "<Figure size 640x480 with 1 Axes>"
      ]
     },
     "metadata": {},
     "output_type": "display_data"
    }
   ],
   "source": [
    "sns.distplot(high_accident_cities)"
   ]
  },
  {
   "cell_type": "code",
   "execution_count": 41,
   "metadata": {
    "colab": {
     "base_uri": "https://localhost:8080/",
     "height": 657
    },
    "executionInfo": {
     "elapsed": 838,
     "status": "ok",
     "timestamp": 1699403871898,
     "user": {
      "displayName": "Wahu",
      "userId": "14420219231280784051"
     },
     "user_tz": -180
    },
    "id": "1VzV0s7fR1xt",
    "outputId": "e98eb8fb-e067-4953-a9a5-511574fc9e97"
   },
   "outputs": [
    {
     "name": "stderr",
     "output_type": "stream",
     "text": [
      "<ipython-input-41-a69b07a78e7c>:1: UserWarning: \n",
      "\n",
      "`distplot` is a deprecated function and will be removed in seaborn v0.14.0.\n",
      "\n",
      "Please adapt your code to use either `displot` (a figure-level function with\n",
      "similar flexibility) or `histplot` (an axes-level function for histograms).\n",
      "\n",
      "For a guide to updating your code to use the new functions, please see\n",
      "https://gist.github.com/mwaskom/de44147ed2974457ad6372750bbe5751\n",
      "\n",
      "  sns.distplot(low_accident_cities)\n"
     ]
    },
    {
     "data": {
      "text/plain": [
       "<Axes: xlabel='City', ylabel='Density'>"
      ]
     },
     "execution_count": 41,
     "metadata": {},
     "output_type": "execute_result"
    },
    {
     "data": {
      "image/png": "[encoded data removed]",
      "text/plain": [
       "<Figure size 640x480 with 1 Axes>"
      ]
     },
     "metadata": {},
     "output_type": "display_data"
    }
   ],
   "source": [
    "sns.distplot(low_accident_cities)"
   ]
  },
  {
   "cell_type": "code",
   "execution_count": 42,
   "metadata": {
    "executionInfo": {
     "elapsed": 10,
     "status": "ok",
     "timestamp": 1699403871899,
     "user": {
      "displayName": "Wahu",
      "userId": "14420219231280784051"
     },
     "user_tz": -180
    },
    "id": "TNgG4T4HR1uw"
   },
   "outputs": [],
   "source": [
    "#accidents are exponentially distributed\n",
    "#by using a logarithmic scale;"
   ]
  },
  {
   "cell_type": "code",
   "execution_count": 43,
   "metadata": {
    "colab": {
     "base_uri": "https://localhost:8080/",
     "height": 471
    },
    "executionInfo": {
     "elapsed": 1165,
     "status": "ok",
     "timestamp": 1699403873055,
     "user": {
      "displayName": "Wahu",
      "userId": "14420219231280784051"
     },
     "user_tz": -180
    },
    "id": "womXcC9gR1sZ",
    "outputId": "ca5c46c2-3b04-432b-fb41-485f7b8fba6f"
   },
   "outputs": [
    {
     "data": {
      "text/plain": [
       "<Axes: xlabel='City', ylabel='Count'>"
      ]
     },
     "execution_count": 43,
     "metadata": {},
     "output_type": "execute_result"
    },
    {
     "data": {
      "image/png": "[encoded data removed]",
      "text/plain": [
       "<Figure size 640x480 with 1 Axes>"
      ]
     },
     "metadata": {},
     "output_type": "display_data"
    }
   ],
   "source": [
    "sns.histplot(cities_by_accident, log_scale = True)"
   ]
  },
  {
   "cell_type": "code",
   "execution_count": 44,
   "metadata": {
    "executionInfo": {
     "elapsed": 20,
     "status": "ok",
     "timestamp": 1699403873055,
     "user": {
      "displayName": "Wahu",
      "userId": "14420219231280784051"
     },
     "user_tz": -180
    },
    "id": "q5LaiLnfR1pC"
   },
   "outputs": [],
   "source": [
    "# Most cities experience 0 to 100 accidents yearly\n",
    "#Looking for cities where number of accidents  = 1"
   ]
  },
  {
   "cell_type": "code",
   "execution_count": 45,
   "metadata": {
    "colab": {
     "base_uri": "https://localhost:8080/"
    },
    "executionInfo": {
     "elapsed": 20,
     "status": "ok",
     "timestamp": 1699403873056,
     "user": {
      "displayName": "Wahu",
      "userId": "14420219231280784051"
     },
     "user_tz": -180
    },
    "id": "s8t-seO8R1hd",
    "outputId": "fab89233-9ee7-4c49-8517-13af141aa683"
   },
   "outputs": [
    {
     "data": {
      "text/plain": [
       "Yarrow Point    1\n",
       "Miamitown       1\n",
       "Meadow Creek    1\n",
       "Round Top       1\n",
       "Sipesville      1\n",
       "               ..\n",
       "Pottsboro       1\n",
       "Pickensville    1\n",
       "Haskins         1\n",
       "Saint Landry    1\n",
       "Skippack        1\n",
       "Name: City, Length: 1294, dtype: int64"
      ]
     },
     "execution_count": 45,
     "metadata": {},
     "output_type": "execute_result"
    }
   ],
   "source": [
    "cities_by_accident[cities_by_accident == 1]"
   ]
  },
  {
   "cell_type": "markdown",
   "metadata": {
    "id": "hpGsN1BCV1TB"
   },
   "source": [
    "###Start Time"
   ]
  },
  {
   "cell_type": "code",
   "execution_count": 46,
   "metadata": {
    "colab": {
     "base_uri": "https://localhost:8080/"
    },
    "executionInfo": {
     "elapsed": 15,
     "status": "ok",
     "timestamp": 1699403873056,
     "user": {
      "displayName": "Wahu",
      "userId": "14420219231280784051"
     },
     "user_tz": -180
    },
    "id": "_bQwBrHIUasD",
    "outputId": "45328805-1e41-4ae7-bf7c-e93fecd7d2ac"
   },
   "outputs": [
    {
     "data": {
      "text/plain": [
       "0          2016-02-08 05:46:00\n",
       "1          2016-02-08 06:07:59\n",
       "2          2016-02-08 06:49:27\n",
       "3          2016-02-08 07:23:34\n",
       "4          2016-02-08 07:39:07\n",
       "                  ...         \n",
       "4999995    2022-11-09 16:09:00\n",
       "4999996    2022-07-24 19:19:50\n",
       "4999997    2023-01-18 15:55:30\n",
       "4999998    2022-10-13 14:22:30\n",
       "4999999    2022-04-16 17:26:16\n",
       "Name: Start_Time, Length: 5000000, dtype: object"
      ]
     },
     "execution_count": 46,
     "metadata": {},
     "output_type": "execute_result"
    }
   ],
   "source": [
    "df. Start_Time"
   ]
  },
  {
   "cell_type": "code",
   "execution_count": 47,
   "metadata": {
    "colab": {
     "base_uri": "https://localhost:8080/"
    },
    "executionInfo": {
     "elapsed": 1661,
     "status": "ok",
     "timestamp": 1699403875612,
     "user": {
      "displayName": "Wahu",
      "userId": "14420219231280784051"
     },
     "user_tz": -180
    },
    "id": "CkatUAJzUapa",
    "outputId": "16180f67-dbf3-4e9c-9def-e3ec0c3286e0"
   },
   "outputs": [
    {
     "data": {
      "text/plain": [
       "Timestamp('2016-02-08 05:46:00')"
      ]
     },
     "execution_count": 47,
     "metadata": {},
     "output_type": "execute_result"
    }
   ],
   "source": [
    "# Conversion of Start_Time to date\n",
    "df. Start_Time = pd.to_datetime(df.Start_Time)\n",
    "df. Start_Time[0]"
   ]
  },
  {
   "cell_type": "code",
   "execution_count": 48,
   "metadata": {
    "colab": {
     "base_uri": "https://localhost:8080/"
    },
    "executionInfo": {
     "elapsed": 352,
     "status": "ok",
     "timestamp": 1699403875935,
     "user": {
      "displayName": "Wahu",
      "userId": "14420219231280784051"
     },
     "user_tz": -180
    },
    "id": "dueqH99BUamz",
    "outputId": "9d050896-85e8-4ded-d670-11820c8b5ac6"
   },
   "outputs": [
    {
     "data": {
      "text/plain": [
       "0           5\n",
       "1           6\n",
       "2           6\n",
       "3           7\n",
       "4           7\n",
       "           ..\n",
       "4999995    16\n",
       "4999996    19\n",
       "4999997    15\n",
       "4999998    14\n",
       "4999999    17\n",
       "Name: Start_Time, Length: 5000000, dtype: int64"
      ]
     },
     "execution_count": 48,
     "metadata": {},
     "output_type": "execute_result"
    }
   ],
   "source": [
    "# getting the hour of the accident\n",
    "df. Start_Time.dt.hour"
   ]
  },
  {
   "cell_type": "markdown",
   "metadata": {
    "id": "OwarfgcCZ0MB"
   },
   "source": [
    "\n",
    "\n",
    "*   Figure out how to show percentages\n",
    "\n",
    "\n"
   ]
  },
  {
   "cell_type": "code",
   "execution_count": 49,
   "metadata": {
    "colab": {
     "base_uri": "https://localhost:8080/",
     "height": 661
    },
    "executionInfo": {
     "elapsed": 1934,
     "status": "ok",
     "timestamp": 1699403877865,
     "user": {
      "displayName": "Wahu",
      "userId": "14420219231280784051"
     },
     "user_tz": -180
    },
    "id": "XyRNd9GmUaif",
    "outputId": "3c53d06f-4a6b-4aec-8dae-5450e6a2534f"
   },
   "outputs": [
    {
     "name": "stderr",
     "output_type": "stream",
     "text": [
      "<ipython-input-49-3cd8d1ab69f6>:1: UserWarning: \n",
      "\n",
      "`distplot` is a deprecated function and will be removed in seaborn v0.14.0.\n",
      "\n",
      "Please adapt your code to use either `displot` (a figure-level function with\n",
      "similar flexibility) or `histplot` (an axes-level function for histograms).\n",
      "\n",
      "For a guide to updating your code to use the new functions, please see\n",
      "https://gist.github.com/mwaskom/de44147ed2974457ad6372750bbe5751\n",
      "\n",
      "  sns.distplot(df. Start_Time.dt.hour,bins=24, kde = False, norm_hist = True)\n"
     ]
    },
    {
     "data": {
      "text/plain": [
       "<Axes: xlabel='Start_Time'>"
      ]
     },
     "execution_count": 49,
     "metadata": {},
     "output_type": "execute_result"
    },
    {
     "data": {
      "image/png": "[encoded data removed]",
      "text/plain": [
       "<Figure size 640x480 with 1 Axes>"
      ]
     },
     "metadata": {},
     "output_type": "display_data"
    }
   ],
   "source": [
    "sns.distplot(df. Start_Time.dt.hour,bins=24, kde = False, norm_hist = True)\n",
    "#because there are 24 hours in a day\n",
    "#kde = false is used to remove the curve that comes with the graph\n",
    "#norm_hist = True, changes the count of accidents in the y-axis to percentage"
   ]
  },
  {
   "cell_type": "markdown",
   "metadata": {
    "id": "EyzjQzTkadol"
   },
   "source": [
    "- A high percentage of accidents occur between 6 am to 10 am(probably people are in a hurry to commute to work and traffic is high)\n",
    "- Next highest percentage is from 3pm -6pm"
   ]
  },
  {
   "cell_type": "code",
   "execution_count": 50,
   "metadata": {
    "colab": {
     "base_uri": "https://localhost:8080/",
     "height": 658
    },
    "executionInfo": {
     "elapsed": 2064,
     "status": "ok",
     "timestamp": 1699403879744,
     "user": {
      "displayName": "Wahu",
      "userId": "14420219231280784051"
     },
     "user_tz": -180
    },
    "id": "3t8lKK-iUaf0",
    "outputId": "e2058130-2c4e-4494-cbaf-e705f11619ce"
   },
   "outputs": [
    {
     "name": "stderr",
     "output_type": "stream",
     "text": [
      "<ipython-input-50-91a2543379f7>:2: UserWarning: \n",
      "\n",
      "`distplot` is a deprecated function and will be removed in seaborn v0.14.0.\n",
      "\n",
      "Please adapt your code to use either `displot` (a figure-level function with\n",
      "similar flexibility) or `histplot` (an axes-level function for histograms).\n",
      "\n",
      "For a guide to updating your code to use the new functions, please see\n",
      "https://gist.github.com/mwaskom/de44147ed2974457ad6372750bbe5751\n",
      "\n",
      "  sns.distplot(df.Start_Time.dt.dayofweek,bins=7, kde = False, norm_hist = True)\n"
     ]
    },
    {
     "data": {
      "text/plain": [
       "<Axes: xlabel='Start_Time'>"
      ]
     },
     "execution_count": 50,
     "metadata": {},
     "output_type": "execute_result"
    },
    {
     "data": {
      "image/png": "[encoded data removed]",
      "text/plain": [
       "<Figure size 640x480 with 1 Axes>"
      ]
     },
     "metadata": {},
     "output_type": "display_data"
    }
   ],
   "source": [
    "#checking out the day of the week with most accidents\n",
    "sns.distplot(df.Start_Time.dt.dayofweek,bins=7, kde = False, norm_hist = True)"
   ]
  },
  {
   "cell_type": "markdown",
   "metadata": {
    "id": "AGNsBP9ffkHw"
   },
   "source": [
    "Is the distribution of accidents by hour on weekends as on weekdays?"
   ]
  },
  {
   "cell_type": "code",
   "execution_count": 51,
   "metadata": {
    "colab": {
     "base_uri": "https://localhost:8080/",
     "height": 658
    },
    "executionInfo": {
     "elapsed": 1078,
     "status": "ok",
     "timestamp": 1699403880815,
     "user": {
      "displayName": "Wahu",
      "userId": "14420219231280784051"
     },
     "user_tz": -180
    },
    "id": "X66yMjxxUac6",
    "outputId": "6d9107c0-5425-4895-e769-a46afa80b70c"
   },
   "outputs": [
    {
     "name": "stderr",
     "output_type": "stream",
     "text": [
      "<ipython-input-51-9325fb728875>:2: UserWarning: \n",
      "\n",
      "`distplot` is a deprecated function and will be removed in seaborn v0.14.0.\n",
      "\n",
      "Please adapt your code to use either `displot` (a figure-level function with\n",
      "similar flexibility) or `histplot` (an axes-level function for histograms).\n",
      "\n",
      "For a guide to updating your code to use the new functions, please see\n",
      "https://gist.github.com/mwaskom/de44147ed2974457ad6372750bbe5751\n",
      "\n",
      "  sns.distplot(sundays_start_time.dt.hour,bins=24, kde = False, norm_hist = True)\n"
     ]
    },
    {
     "data": {
      "text/plain": [
       "<Axes: xlabel='Start_Time'>"
      ]
     },
     "execution_count": 51,
     "metadata": {},
     "output_type": "execute_result"
    },
    {
     "data": {
      "image/png": "[encoded data removed]",
      "text/plain": [
       "<Figure size 640x480 with 1 Axes>"
      ]
     },
     "metadata": {},
     "output_type": "display_data"
    }
   ],
   "source": [
    "sundays_start_time = df.Start_Time[df.Start_Time.dt.dayofweek == 6]\n",
    "sns.distplot(sundays_start_time.dt.hour,bins=24, kde = False, norm_hist = True)"
   ]
  },
  {
   "cell_type": "code",
   "execution_count": 52,
   "metadata": {
    "colab": {
     "base_uri": "https://localhost:8080/",
     "height": 658
    },
    "executionInfo": {
     "elapsed": 2053,
     "status": "ok",
     "timestamp": 1699403882864,
     "user": {
      "displayName": "Wahu",
      "userId": "14420219231280784051"
     },
     "user_tz": -180
    },
    "id": "nP4UZYS4UaZx",
    "outputId": "72c584e1-9fa4-46e5-956a-fc9fe3b9c902"
   },
   "outputs": [
    {
     "name": "stderr",
     "output_type": "stream",
     "text": [
      "<ipython-input-52-80104084b530>:2: UserWarning: \n",
      "\n",
      "`distplot` is a deprecated function and will be removed in seaborn v0.14.0.\n",
      "\n",
      "Please adapt your code to use either `displot` (a figure-level function with\n",
      "similar flexibility) or `histplot` (an axes-level function for histograms).\n",
      "\n",
      "For a guide to updating your code to use the new functions, please see\n",
      "https://gist.github.com/mwaskom/de44147ed2974457ad6372750bbe5751\n",
      "\n",
      "  sns.distplot(mondays_start_time.dt.hour,bins=24, kde = False, norm_hist = True)\n"
     ]
    },
    {
     "data": {
      "text/plain": [
       "<Axes: xlabel='Start_Time'>"
      ]
     },
     "execution_count": 52,
     "metadata": {},
     "output_type": "execute_result"
    },
    {
     "data": {
      "image/png": "[encoded data removed]",
      "text/plain": [
       "<Figure size 640x480 with 1 Axes>"
      ]
     },
     "metadata": {},
     "output_type": "display_data"
    }
   ],
   "source": [
    "mondays_start_time = df.Start_Time[df.Start_Time.dt.dayofweek == 6]\n",
    "sns.distplot(mondays_start_time.dt.hour,bins=24, kde = False, norm_hist = True)"
   ]
  },
  {
   "cell_type": "markdown",
   "metadata": {
    "id": "8sx2fJLchbHC"
   },
   "source": [
    "On Sundays, the peek occurs between 10 am and 4 pm, unlike weekdays"
   ]
  },
  {
   "cell_type": "code",
   "execution_count": 53,
   "metadata": {
    "colab": {
     "base_uri": "https://localhost:8080/",
     "height": 658
    },
    "executionInfo": {
     "elapsed": 1598,
     "status": "ok",
     "timestamp": 1699403884452,
     "user": {
      "displayName": "Wahu",
      "userId": "14420219231280784051"
     },
     "user_tz": -180
    },
    "id": "DXY0YtVOiKAX",
    "outputId": "7dd34e2c-a9c5-4aa7-8033-dee584868883"
   },
   "outputs": [
    {
     "name": "stderr",
     "output_type": "stream",
     "text": [
      "<ipython-input-53-4b2541a59ae4>:1: UserWarning: \n",
      "\n",
      "`distplot` is a deprecated function and will be removed in seaborn v0.14.0.\n",
      "\n",
      "Please adapt your code to use either `displot` (a figure-level function with\n",
      "similar flexibility) or `histplot` (an axes-level function for histograms).\n",
      "\n",
      "For a guide to updating your code to use the new functions, please see\n",
      "https://gist.github.com/mwaskom/de44147ed2974457ad6372750bbe5751\n",
      "\n",
      "  sns.distplot(df.Start_Time.dt.month,bins=12, kde = False, norm_hist = True)\n"
     ]
    },
    {
     "data": {
      "text/plain": [
       "<Axes: xlabel='Start_Time'>"
      ]
     },
     "execution_count": 53,
     "metadata": {},
     "output_type": "execute_result"
    },
    {
     "data": {
      "image/png": "[encoded data removed]",
      "text/plain": [
       "<Figure size 640x480 with 1 Axes>"
      ]
     },
     "metadata": {},
     "output_type": "display_data"
    }
   ],
   "source": [
    "sns.distplot(df.Start_Time.dt.month,bins=12, kde = False, norm_hist = True)"
   ]
  },
  {
   "cell_type": "code",
   "execution_count": 54,
   "metadata": {
    "colab": {
     "base_uri": "https://localhost:8080/",
     "height": 658
    },
    "executionInfo": {
     "elapsed": 1541,
     "status": "ok",
     "timestamp": 1699403885985,
     "user": {
      "displayName": "Wahu",
      "userId": "14420219231280784051"
     },
     "user_tz": -180
    },
    "id": "hQb0Nc5AjgxO",
    "outputId": "9d924836-49fb-4ef7-df78-c7a0fe398172"
   },
   "outputs": [
    {
     "name": "stderr",
     "output_type": "stream",
     "text": [
      "<ipython-input-54-ba232b2f826a>:2: UserWarning: \n",
      "\n",
      "`distplot` is a deprecated function and will be removed in seaborn v0.14.0.\n",
      "\n",
      "Please adapt your code to use either `displot` (a figure-level function with\n",
      "similar flexibility) or `histplot` (an axes-level function for histograms).\n",
      "\n",
      "For a guide to updating your code to use the new functions, please see\n",
      "https://gist.github.com/mwaskom/de44147ed2974457ad6372750bbe5751\n",
      "\n",
      "  sns.distplot(df_2019.Start_Time.dt.month,bins=12, kde = False, norm_hist = True)\n"
     ]
    },
    {
     "data": {
      "text/plain": [
       "<Axes: xlabel='Start_Time'>"
      ]
     },
     "execution_count": 54,
     "metadata": {},
     "output_type": "execute_result"
    },
    {
     "data": {
      "image/png": "[encoded data removed]",
      "text/plain": [
       "<Figure size 640x480 with 1 Axes>"
      ]
     },
     "metadata": {},
     "output_type": "display_data"
    }
   ],
   "source": [
    "df_2019 = df[df.Start_Time.dt.year == 2019]\n",
    "sns.distplot(df_2019.Start_Time.dt.month,bins=12, kde = False, norm_hist = True)"
   ]
  },
  {
   "cell_type": "code",
   "execution_count": 55,
   "metadata": {
    "colab": {
     "base_uri": "https://localhost:8080/",
     "height": 423
    },
    "executionInfo": {
     "elapsed": 503,
     "status": "ok",
     "timestamp": 1699403886482,
     "user": {
      "displayName": "Wahu",
      "userId": "14420219231280784051"
     },
     "user_tz": -180
    },
    "id": "OWzVmaO1k01G",
    "outputId": "26079259-d090-4812-e18e-af33871d377d"
   },
   "outputs": [
    {
     "data": {
      "text/plain": [
       "<Axes: ylabel='Source'>"
      ]
     },
     "execution_count": 55,
     "metadata": {},
     "output_type": "execute_result"
    },
    {
     "data": {
      "image/png": "[encoded data removed]",
      "text/plain": [
       "<Figure size 640x480 with 1 Axes>"
      ]
     },
     "metadata": {},
     "output_type": "display_data"
    }
   ],
   "source": [
    "df.Source.value_counts().plot(kind ='pie')"
   ]
  },
  {
   "cell_type": "markdown",
   "metadata": {
    "id": "i242K4AQzTf7"
   },
   "source": [
    "- Consider excluding Source1 data as it seems to have issues"
   ]
  },
  {
   "cell_type": "markdown",
   "metadata": {
    "id": "KtJKPRz_OU9n"
   },
   "source": [
    "## Ask & answer questions\n",
    "1. Are there more accidents in warmer or colder areas?\n",
    "2. Which other 5 has the highest number of accidents? How about per capita?\n",
    "3. Does NewYork and Chicago show up in the data? If yes, why is the count lower if they are among the cities with the highest number of population?\n",
    "4. Among the top 100 cities in number of accidents, which states do they belong to most frquently?\n",
    "5. What time of the day are accidents most frequent? - ANSWERED\n",
    "6. Which days of the week have the most accidents?\n",
    "7. Which months have the most accidents?\n",
    "8. What is the trend of accidents year over year?\n",
    "9. When is the accidents, per unit per traffic the highest?\n",
    "10. Add value to the charts"
   ]
  },
  {
   "cell_type": "markdown",
   "metadata": {
    "id": "2Gg_Focqz1rb"
   },
   "source": [
    "## Start Latitude & Longitude"
   ]
  },
  {
   "cell_type": "code",
   "execution_count": 56,
   "metadata": {
    "colab": {
     "base_uri": "https://localhost:8080/"
    },
    "executionInfo": {
     "elapsed": 13,
     "status": "ok",
     "timestamp": 1699403886483,
     "user": {
      "displayName": "Wahu",
      "userId": "14420219231280784051"
     },
     "user_tz": -180
    },
    "id": "xOuy7M_0zu6Y",
    "outputId": "400d502e-a754-4e45-e0f4-3e59993c036b"
   },
   "outputs": [
    {
     "data": {
      "text/plain": [
       "0          39.865147\n",
       "1          39.928059\n",
       "2          39.063148\n",
       "3          39.747753\n",
       "4          39.627781\n",
       "             ...    \n",
       "4999995    34.185388\n",
       "4999996    32.934967\n",
       "4999997    37.700654\n",
       "4999998    37.700647\n",
       "4999999    33.721994\n",
       "Name: Start_Lat, Length: 5000000, dtype: float64"
      ]
     },
     "execution_count": 56,
     "metadata": {},
     "output_type": "execute_result"
    }
   ],
   "source": [
    "df.Start_Lat"
   ]
  },
  {
   "cell_type": "code",
   "execution_count": 57,
   "metadata": {
    "colab": {
     "base_uri": "https://localhost:8080/"
    },
    "executionInfo": {
     "elapsed": 11,
     "status": "ok",
     "timestamp": 1699403886483,
     "user": {
      "displayName": "Wahu",
      "userId": "14420219231280784051"
     },
     "user_tz": -180
    },
    "id": "YzjicAUIzu02",
    "outputId": "1655152b-bc1b-4eac-b7f0-7cf65bf89f42"
   },
   "outputs": [
    {
     "data": {
      "text/plain": [
       "0          -84.058723\n",
       "1          -82.831184\n",
       "2          -84.032608\n",
       "3          -84.205582\n",
       "4          -84.188354\n",
       "              ...    \n",
       "4999995   -118.317917\n",
       "4999996   -117.242523\n",
       "4999997   -121.796602\n",
       "4999998   -121.796590\n",
       "4999999    -84.394682\n",
       "Name: Start_Lng, Length: 5000000, dtype: float64"
      ]
     },
     "execution_count": 57,
     "metadata": {},
     "output_type": "execute_result"
    }
   ],
   "source": [
    "df.Start_Lng"
   ]
  },
  {
   "cell_type": "code",
   "execution_count": 58,
   "metadata": {
    "colab": {
     "base_uri": "https://localhost:8080/",
     "height": 0
    },
    "executionInfo": {
     "elapsed": 36663,
     "status": "ok",
     "timestamp": 1699403923138,
     "user": {
      "displayName": "Wahu",
      "userId": "14420219231280784051"
     },
     "user_tz": -180
    },
    "id": "kbuwvddIzuwN",
    "outputId": "7dce8174-3f24-4437-ead5-ee215fe00879"
   },
   "outputs": [
    {
     "data": {
      "text/plain": [
       "<Axes: xlabel='Start_Lng', ylabel='Start_Lat'>"
      ]
     },
     "execution_count": 58,
     "metadata": {},
     "output_type": "execute_result"
    },
    {
     "data": {
      "image/png": "[encoded data removed]",
      "text/plain": [
       "<Figure size 640x480 with 1 Axes>"
      ]
     },
     "metadata": {},
     "output_type": "display_data"
    }
   ],
   "source": [
    "#Creating a scatter plot using a 10% sample data\n",
    "sample_df = df.sample(int(0.1*len(df)))\n",
    "sns.scatterplot(x = sample_df.Start_Lng, y=sample_df.Start_Lat,size= 0.0001)"
   ]
  },
  {
   "cell_type": "code",
   "execution_count": 59,
   "metadata": {
    "executionInfo": {
     "elapsed": 836,
     "status": "ok",
     "timestamp": 1699403923966,
     "user": {
      "displayName": "Wahu",
      "userId": "14420219231280784051"
     },
     "user_tz": -180
    },
    "id": "JCdjNdmuUopa"
   },
   "outputs": [],
   "source": [
    "#scatterplot on a map\n",
    "import folium"
   ]
  },
  {
   "cell_type": "code",
   "execution_count": 60,
   "metadata": {
    "colab": {
     "base_uri": "https://localhost:8080/"
    },
    "executionInfo": {
     "elapsed": 16,
     "status": "ok",
     "timestamp": 1699403923967,
     "user": {
      "displayName": "Wahu",
      "userId": "14420219231280784051"
     },
     "user_tz": -180
    },
    "id": "wWN3TtclUSa1",
    "outputId": "72c171b1-a717-4a03-a23e-cc78bf1a519c"
   },
   "outputs": [
    {
     "data": {
      "text/plain": [
       "(39.865147, -84.058723)"
      ]
     },
     "execution_count": 60,
     "metadata": {},
     "output_type": "execute_result"
    }
   ],
   "source": [
    "lat, lon =df.Start_Lat[0], df.Start_Lng[0]\n",
    "lat, lon"
   ]
  },
  {
   "cell_type": "code",
   "execution_count": 61,
   "metadata": {
    "colab": {
     "base_uri": "https://localhost:8080/"
    },
    "executionInfo": {
     "elapsed": 10,
     "status": "ok",
     "timestamp": 1699403923967,
     "user": {
      "displayName": "Wahu",
      "userId": "14420219231280784051"
     },
     "user_tz": -180
    },
    "id": "-7KiRvszWS6g",
    "outputId": "8394de8c-e93a-4e2c-b7af-e9c10f8283c5"
   },
   "outputs": [
    {
     "name": "stdout",
     "output_type": "stream",
     "text": [
      "528985     33.648273\n",
      "2294926    35.720661\n",
      "1804304    28.831818\n",
      "1011325    41.635036\n",
      "3866754    33.867876\n",
      "             ...    \n",
      "4472348    39.304602\n",
      "887267     33.721718\n",
      "3133007    38.597713\n",
      "2266916    35.841228\n",
      "2849817    43.580044\n",
      "Name: Start_Lat, Length: 100, dtype: float64\n",
      "528985    -117.747185\n",
      "2294926    -78.843758\n",
      "1804304    -81.322548\n",
      "1011325    -87.578537\n",
      "3866754   -118.235685\n",
      "              ...    \n",
      "4472348   -120.649734\n",
      "887267     -84.395210\n",
      "3133007   -121.473328\n",
      "2266916    -78.678482\n",
      "2849817    -91.278778\n",
      "Name: Start_Lng, Length: 100, dtype: float64\n"
     ]
    },
    {
     "name": "stderr",
     "output_type": "stream",
     "text": [
      "<ipython-input-61-ba2f86620987>:1: FutureWarning: iteritems is deprecated and will be removed in a future version. Use .items instead.\n",
      "  for x in df[['Start_Lat', 'Start_Lng']].sample(100).iteritems():\n"
     ]
    }
   ],
   "source": [
    "for x in df[['Start_Lat', 'Start_Lng']].sample(100).iteritems():\n",
    "  print(x[1])"
   ]
  },
  {
   "cell_type": "code",
   "execution_count": 62,
   "metadata": {
    "colab": {
     "base_uri": "https://localhost:8080/"
    },
    "executionInfo": {
     "elapsed": 1781,
     "status": "ok",
     "timestamp": 1699403925743,
     "user": {
      "displayName": "Wahu",
      "userId": "14420219231280784051"
     },
     "user_tz": -180
    },
    "id": "zYlvjOFubhgJ",
    "outputId": "1742f108-5b77-4c60-c90f-4a668dde6a40"
   },
   "outputs": [
    {
     "data": {
      "text/plain": [
       "[(39.865147, -84.058723),\n",
       " (39.92805900000001, -82.831184),\n",
       " (39.063148, -84.032608),\n",
       " (39.747753, -84.20558199999998),\n",
       " (39.627781, -84.188354),\n",
       " (40.10059, -82.92519399999998),\n",
       " (39.758274, -84.23050699999997),\n",
       " (39.770382, -84.194901),\n",
       " (39.778061, -84.172005),\n",
       " (40.10059, -82.92519399999998),\n",
       " (39.952812, -83.119293),\n",
       " (39.932709, -82.83091),\n",
       " (39.737633, -84.14993299999998),\n",
       " (39.79076, -84.241547),\n",
       " (39.972038, -82.913521),\n",
       " (39.745888, -84.17041),\n",
       " (39.748329, -84.224007),\n",
       " (39.752174, -84.239952),\n",
       " (39.740669, -84.184135),\n",
       " (39.790703, -84.244461),\n",
       " (40.052509, -82.88233199999998),\n",
       " (39.773346, -84.224686),\n",
       " (39.628288, -84.226151),\n",
       " (40.023487, -82.994888),\n",
       " (39.761379, -84.25921600000002),\n",
       " (40.158024, -82.641762),\n",
       " (39.733219, -84.159653),\n",
       " (39.775303, -84.200523),\n",
       " (39.789322, -84.23910500000002),\n",
       " (39.75872, -84.183762),\n",
       " (40.081459, -83.122398),\n",
       " (39.83321, -84.112946),\n",
       " (40.042725, -82.99730699999998),\n",
       " (39.974415, -82.848854),\n",
       " (39.994766, -83.02449),\n",
       " (40.006477, -83.030991),\n",
       " (39.742062, -84.186996),\n",
       " (39.843521, -82.78157),\n",
       " (39.782578, -84.178688),\n",
       " (40.007626, -82.912155),\n",
       " (39.447502, -84.19120799999997),\n",
       " (39.787731, -84.173439),\n",
       " (39.426277, -83.624611),\n",
       " (39.978306, -82.852554),\n",
       " (39.84182, -84.18960600000003),\n",
       " (39.953625, -82.958954),\n",
       " (40.053082, -83.049644),\n",
       " (39.936874, -82.878723),\n",
       " (39.780643, -84.16349),\n",
       " (39.773193, -84.187454),\n",
       " (39.77858, -84.20468100000002),\n",
       " (39.792988, -84.20607),\n",
       " (39.770382, -84.194901),\n",
       " (39.976398, -83.119225),\n",
       " (39.6395, -84.23136099999998),\n",
       " (39.232578, -84.159286),\n",
       " (39.746593, -84.23912),\n",
       " (39.742783, -84.182472),\n",
       " (39.75452, -84.159279),\n",
       " (39.749916, -84.139359),\n",
       " (40.100903, -82.98410799999998),\n",
       " (39.77280800000001, -84.201851),\n",
       " (39.492485, -84.131798),\n",
       " (39.570904, -84.251724),\n",
       " (39.834282, -82.74382),\n",
       " (39.622787, -84.229858),\n",
       " (39.429871, -84.079666),\n",
       " (41.407391, -81.64676700000003),\n",
       " (41.424404, -81.57867399999998),\n",
       " (39.89217, -83.039169),\n",
       " (41.022358, -83.650345),\n",
       " (39.206806, -84.053253),\n",
       " (39.973797, -83.022285),\n",
       " (40.048008, -82.86421999999997),\n",
       " (39.814526, -84.021744),\n",
       " (40.151196, -84.22003199999997),\n",
       " (39.954617, -82.844238),\n",
       " (38.990551, -84.207497),\n",
       " (40.008995, -83.002678),\n",
       " (39.077332, -84.225014),\n",
       " (39.955452, -82.795845),\n",
       " (40.224586, -82.929085),\n",
       " (39.976398, -83.119225),\n",
       " (39.98560300000001, -82.939247),\n",
       " (41.040714, -81.61314399999998),\n",
       " (41.083679, -81.579002),\n",
       " (40.766891, -82.42411),\n",
       " (41.422199, -81.843018),\n",
       " (41.063995, -81.57294499999998),\n",
       " (39.747753, -84.20558199999998),\n",
       " (38.99408, -84.142021),\n",
       " (41.420818, -81.694008),\n",
       " (40.030342, -83.030197),\n",
       " (39.858089, -82.827904),\n",
       " (41.112324, -81.60992399999998),\n",
       " (39.994061, -82.729416),\n",
       " (41.355396, -81.81926700000002),\n",
       " (39.687389, -84.23796800000002),\n",
       " (39.751038, -84.214325),\n",
       " (39.749916, -84.139359),\n",
       " (39.97509, -82.88460500000002),\n",
       " (40.11195, -83.016663),\n",
       " (41.424313, -81.57914),\n",
       " (39.691864, -84.211166),\n",
       " (39.769173, -84.20728299999998),\n",
       " (39.75452, -84.159279),\n",
       " (39.874947, -83.003937),\n",
       " (39.769596, -84.176964),\n",
       " (39.776417, -84.23026999999998),\n",
       " (39.64185, -84.227455),\n",
       " (39.76028400000001, -84.196434),\n",
       " (39.802528, -84.220093),\n",
       " (39.828781, -84.19839499999998),\n",
       " (39.733337, -84.180359),\n",
       " (39.759426, -84.138367),\n",
       " (39.78361500000001, -84.227531),\n",
       " (39.74004, -84.194923),\n",
       " (39.735199, -84.204948),\n",
       " (39.749035, -84.20474200000002),\n",
       " (39.969223, -82.984131),\n",
       " (39.995369, -82.985085),\n",
       " (39.744873, -84.205025),\n",
       " (39.749786, -84.199493),\n",
       " (39.780331, -84.195076),\n",
       " (40.109928, -82.97820300000002),\n",
       " (40.11195, -83.016663),\n",
       " (40.112156, -83.035072),\n",
       " (39.871761, -82.933449),\n",
       " (39.934517, -82.86065699999997),\n",
       " (40.02404, -82.99479699999998),\n",
       " (41.014015, -81.932777),\n",
       " (40.575069, -82.528145),\n",
       " (39.996578, -84.21680500000002),\n",
       " (39.986324, -82.985458),\n",
       " (40.013062, -82.90213),\n",
       " (39.981709, -82.98436),\n",
       " (39.953022, -82.99889399999998),\n",
       " (39.973812, -82.983162),\n",
       " (39.978306, -82.852554),\n",
       " (39.917412, -83.014236),\n",
       " (39.469582, -83.712799),\n",
       " (39.63958, -84.234818),\n",
       " (39.975986, -82.996307),\n",
       " (39.951401, -83.040161),\n",
       " (39.96888, -83.022263),\n",
       " (39.804295, -84.178917),\n",
       " (39.831444, -84.097267),\n",
       " (39.890587, -83.03538499999998),\n",
       " (39.770977, -84.183914),\n",
       " (39.808121, -84.173477),\n",
       " (41.410461, -81.725853),\n",
       " (39.747753, -84.20558199999998),\n",
       " (39.6395, -84.23136099999998),\n",
       " (39.94537, -82.88744399999999),\n",
       " (39.79813, -84.24479699999998),\n",
       " (40.081715, -82.89576),\n",
       " (41.111031, -81.550728),\n",
       " (40.082016, -82.937119),\n",
       " (39.763363, -84.15535),\n",
       " (39.740063, -84.191833),\n",
       " (39.99876, -82.625221),\n",
       " (39.740063, -84.191833),\n",
       " (39.99519, -82.86859100000002),\n",
       " (41.395805, -81.935562),\n",
       " (39.887058, -82.883263),\n",
       " (39.824703, -83.141228),\n",
       " (40.977516, -82.790749),\n",
       " (40.11195, -83.016663),\n",
       " (41.150993, -81.631393),\n",
       " (39.824703, -83.141228),\n",
       " (39.885872, -82.806198),\n",
       " (40.11195, -83.016663),\n",
       " (40.09917100000001, -83.134499),\n",
       " (40.012829, -83.109131),\n",
       " (40.048183, -82.945183),\n",
       " (39.77792, -84.246872),\n",
       " (39.917412, -83.014236),\n",
       " (41.313236, -81.810959),\n",
       " (39.691998, -84.043655),\n",
       " (39.852417, -82.93860600000002),\n",
       " (39.956909, -83.044914),\n",
       " (39.602947, -82.951836),\n",
       " (39.89188400000001, -83.087547),\n",
       " (39.78508400000001, -84.210564),\n",
       " (40.1105, -82.977524),\n",
       " (40.757088, -82.50975),\n",
       " (41.063995, -81.57294499999998),\n",
       " (40.004749, -82.867638),\n",
       " (40.033955, -83.000862),\n",
       " (38.929512, -83.495262),\n",
       " (39.973419, -83.081558),\n",
       " (39.797958, -84.255135),\n",
       " (40.057369, -82.903717),\n",
       " (39.847927, -82.848274),\n",
       " (40.051949, -83.03280600000002),\n",
       " (40.051949, -83.03280600000002),\n",
       " (39.772823, -84.135612),\n",
       " (39.673203, -84.221886),\n",
       " (39.76244000000001, -84.20506999999998),\n",
       " (39.79166, -84.169342),\n",
       " (39.72757, -84.13549),\n",
       " (40.09917100000001, -83.134499),\n",
       " (38.455898, -81.93562299999998),\n",
       " (39.764778, -84.177193),\n",
       " (40.016014, -82.903442),\n",
       " (39.686901, -83.911812),\n",
       " (39.74403, -84.214638),\n",
       " (39.955738, -83.002953),\n",
       " (38.98587, -84.052551),\n",
       " (41.12336, -81.652626),\n",
       " (41.403664, -82.13942),\n",
       " (39.719009, -84.21461500000002),\n",
       " (41.063995, -81.57294499999998),\n",
       " (39.741764, -84.209923),\n",
       " (39.933804, -82.78944399999997),\n",
       " (39.673203, -84.221886),\n",
       " (38.997852, -84.043739),\n",
       " (40.080402, -82.87745699999998),\n",
       " (41.04023, -81.608711),\n",
       " (39.749664, -84.201012),\n",
       " (39.749916, -84.139359),\n",
       " (41.039204, -81.631744),\n",
       " (40.993484, -82.03600300000002),\n",
       " (41.407391, -81.64676700000003),\n",
       " (39.732441, -84.224243),\n",
       " (39.773193, -84.187454),\n",
       " (39.792931, -84.215195),\n",
       " (39.948299, -82.047081),\n",
       " (39.67263, -84.216522),\n",
       " (41.172302, -83.64917),\n",
       " (39.615208, -84.22731800000003),\n",
       " (39.790604, -84.25140400000002),\n",
       " (39.968788, -83.003754),\n",
       " (39.905334, -82.968689),\n",
       " (39.855103, -84.183678),\n",
       " (41.414131, -81.632141),\n",
       " (39.933804, -82.78944399999997),\n",
       " (41.063995, -81.57294499999998),\n",
       " (39.75782, -83.303154),\n",
       " (41.42181, -81.734482),\n",
       " (41.422199, -81.843018),\n",
       " (39.819839, -84.189087),\n",
       " (39.745735, -84.120644),\n",
       " (40.004749, -82.867638),\n",
       " (39.626396, -84.20768699999998),\n",
       " (39.761005, -84.15855400000002),\n",
       " (39.765377, -84.155914),\n",
       " (39.936871, -82.936317),\n",
       " (41.420666, -81.81644399999998),\n",
       " (39.607605, -84.15598299999998),\n",
       " (39.819809, -84.18710300000002),\n",
       " (41.371895, -81.820786),\n",
       " (39.999187, -83.075813),\n",
       " (39.741695, -84.163101),\n",
       " (39.917412, -83.014236),\n",
       " (41.423275, -81.76001),\n",
       " (39.993843, -82.985054),\n",
       " (41.36974, -81.821457),\n",
       " (41.420506, -81.816078),\n",
       " (41.407391, -81.64676700000003),\n",
       " (39.869961, -84.137642),\n",
       " (39.75782, -83.303154),\n",
       " (39.84182, -84.18960600000003),\n",
       " (39.695045, -84.10419499999998),\n",
       " (39.754223, -84.224075),\n",
       " (39.759544, -84.191811),\n",
       " (39.755566, -84.180534),\n",
       " (39.960938, -84.189583),\n",
       " (39.609039, -84.155869),\n",
       " (39.953472, -82.960274),\n",
       " (40.106297, -83.036079),\n",
       " (39.812687, -84.22734799999998),\n",
       " (39.724258, -84.213142),\n",
       " (39.929554, -82.995773),\n",
       " (39.976398, -83.119225),\n",
       " (39.915928, -82.98246800000003),\n",
       " (39.009884, -84.173073),\n",
       " (39.737701, -84.134987),\n",
       " (39.974285, -82.961174),\n",
       " (40.152611, -82.686996),\n",
       " (39.786629, -84.18869000000002),\n",
       " (40.016937, -83.156601),\n",
       " (40.003746, -83.15389300000002),\n",
       " (39.736061, -84.093002),\n",
       " (41.375961, -83.647453),\n",
       " (39.953648, -82.960373),\n",
       " (39.767757, -84.231712),\n",
       " (39.800312, -84.218811),\n",
       " (39.754055, -84.17588),\n",
       " (39.712257, -84.201782),\n",
       " (39.759201, -84.149101),\n",
       " (39.759472, -84.243698),\n",
       " (39.797668, -84.217506),\n",
       " (39.763664, -84.193298),\n",
       " (39.758121, -84.191414),\n",
       " (40.266499, -82.927544),\n",
       " (40.099384, -83.155396),\n",
       " (39.981926, -83.046265),\n",
       " (39.786633, -84.170837),\n",
       " (39.765259, -84.13780200000002),\n",
       " (40.10564, -82.949692),\n",
       " (39.762531, -84.1427),\n",
       " (41.428753, -83.61036700000002),\n",
       " (39.985336, -82.78984100000002),\n",
       " (39.955517, -82.87687700000002),\n",
       " (39.858089, -82.827904),\n",
       " (39.763615, -84.142586),\n",
       " (39.933804, -82.78944399999997),\n",
       " (40.136345, -83.00573),\n",
       " (39.76516, -84.157234),\n",
       " (39.772438, -84.14218100000002),\n",
       " (39.981968, -83.008698),\n",
       " (39.232101, -84.16014100000002),\n",
       " (40.061661, -82.99807),\n",
       " (40.082397, -82.906921),\n",
       " (39.317173, -84.220894),\n",
       " (39.690781, -84.205147),\n",
       " (39.803726, -84.18514300000002),\n",
       " (39.838779, -84.25831600000002),\n",
       " (39.76144, -84.167038),\n",
       " (39.740906, -84.182121),\n",
       " (39.81963, -84.198273),\n",
       " (39.79969000000001, -84.186996),\n",
       " (39.72364, -84.1418),\n",
       " (39.754055, -84.13889300000002),\n",
       " (39.831997, -84.223694),\n",
       " (41.403744, -82.282776),\n",
       " (39.754055, -84.17588),\n",
       " (39.630444, -84.19626600000002),\n",
       " (39.801601, -84.194542),\n",
       " (39.752647, -84.189774),\n",
       " (39.933804, -82.78944399999997),\n",
       " (39.571163, -84.202606),\n",
       " (39.17505300000001, -84.236313),\n",
       " (39.977322, -83.02109499999997),\n",
       " (39.175728, -84.180763),\n",
       " (39.68865200000001, -84.127998),\n",
       " (39.628288, -84.226151),\n",
       " (39.96764, -83.06081400000002),\n",
       " (39.797958, -84.255135),\n",
       " (39.783669, -84.155045),\n",
       " (39.989044, -83.049088),\n",
       " (39.819721, -84.191528),\n",
       " (39.783089, -84.188911),\n",
       " (39.590527, -84.17076899999998),\n",
       " (41.40274, -81.817856),\n",
       " (40.039909, -82.99683399999998),\n",
       " (39.972336, -82.983917),\n",
       " (40.00164, -82.923073),\n",
       " (39.902088, -82.898178),\n",
       " (39.833824, -83.100853),\n",
       " (39.713467, -84.216095),\n",
       " (39.640202, -84.235283),\n",
       " (39.733723, -84.204971),\n",
       " (41.351006, -83.622826),\n",
       " (39.845287, -83.993217),\n",
       " (39.607788, -84.228088),\n",
       " (39.873238, -84.13720699999998),\n",
       " (40.058132, -82.922752),\n",
       " (41.420975, -81.689758),\n",
       " (39.788414, -84.183693),\n",
       " (39.836643, -84.060753),\n",
       " (41.039829, -81.662872),\n",
       " (38.581139, -82.00456199999998),\n",
       " (39.754055, -84.17588),\n",
       " (39.929844, -83.116486),\n",
       " (39.962147, -83.092667),\n",
       " (39.697266, -84.218781),\n",
       " (40.993092, -81.662689),\n",
       " (39.845287, -83.993217),\n",
       " (41.041447, -81.565163),\n",
       " (41.407391, -81.64676700000003),\n",
       " (41.037266, -81.583786),\n",
       " (39.59872100000001, -84.161491),\n",
       " (40.018669, -81.565704),\n",
       " (39.724251, -84.21315799999998),\n",
       " (39.758556, -84.177246),\n",
       " (39.790565, -84.25914),\n",
       " (39.753105, -84.15158100000002),\n",
       " (40.301411, -83.06575),\n",
       " (39.732567, -84.15900400000002),\n",
       " (39.800358, -82.708252),\n",
       " (41.351006, -83.622826),\n",
       " (39.790565, -84.25914),\n",
       " (39.753105, -84.15158100000002),\n",
       " (40.11195, -83.016663),\n",
       " (38.892097, -84.208702),\n",
       " (39.981602, -82.885704),\n",
       " (41.337879, -82.216049),\n",
       " (39.747112, -84.163826),\n",
       " (40.087536, -82.98741899999997),\n",
       " (39.782368, -84.203339),\n",
       " (39.87857800000001, -83.049774),\n",
       " (39.669388, -84.22225999999998),\n",
       " (39.626953, -84.212288),\n",
       " (39.812687, -84.22734799999998),\n",
       " (39.819839, -84.189087),\n",
       " (39.953262, -83.01795200000002),\n",
       " (39.739319, -84.157219),\n",
       " (39.91468, -83.01690699999997),\n",
       " (41.037647, -81.584183),\n",
       " (39.798611, -84.207466),\n",
       " (40.083206, -82.90679899999998),\n",
       " (39.749916, -84.139359),\n",
       " (39.752735, -84.145386),\n",
       " (39.689022, -84.220665),\n",
       " (39.778011, -84.20049300000002),\n",
       " (41.399147, -81.565674),\n",
       " (39.59670300000001, -84.238388),\n",
       " (39.973015, -83.014801),\n",
       " (39.777355, -84.19957),\n",
       " (41.139114, -81.597305),\n",
       " (39.64724, -84.224319),\n",
       " (39.745487, -84.16544300000002),\n",
       " (39.732552, -84.12197900000002),\n",
       " (39.778011, -84.20049300000002),\n",
       " (40.002552, -83.11835500000002),\n",
       " (39.780014, -84.162888),\n",
       " (39.643101, -84.209923),\n",
       " (39.767769, -84.17716999999998),\n",
       " (39.812687, -84.22734799999998),\n",
       " (39.986324, -82.985458),\n",
       " (40.109913, -84.223648),\n",
       " (39.83847, -84.246307),\n",
       " (39.627991, -84.17021899999997),\n",
       " (39.945835, -83.061295),\n",
       " (39.591389, -84.229485),\n",
       " (39.790302, -84.21390500000003),\n",
       " (39.927441, -83.056198),\n",
       " (39.946892, -82.91548900000002),\n",
       " (40.002552, -83.11835500000002),\n",
       " (39.79031, -84.029114),\n",
       " (39.087887, -84.236076),\n",
       " (39.188583, -84.258705),\n",
       " (39.012833, -83.797585),\n",
       " (40.151196, -84.22003199999997),\n",
       " (40.033405, -82.910225),\n",
       " (39.591389, -84.229485),\n",
       " (40.080338, -82.880074),\n",
       " (40.200333, -83.027435),\n",
       " (40.02504, -82.904129),\n",
       " (40.013062, -82.90213),\n",
       " (40.065559, -82.906418),\n",
       " (39.588413, -84.229774),\n",
       " (39.902195, -83.084763),\n",
       " (41.370506, -83.616997),\n",
       " (39.945427, -82.846558),\n",
       " (39.945751, -82.846252),\n",
       " (41.316475, -81.649101),\n",
       " (39.786633, -84.170837),\n",
       " (39.768337, -84.194244),\n",
       " (39.797005, -84.154556),\n",
       " (40.005947, -82.858887),\n",
       " (39.355782, -83.268311),\n",
       " (40.030914, -82.994598),\n",
       " (39.746147, -84.183167),\n",
       " (39.771233, -84.1763),\n",
       " (39.976398, -83.119225),\n",
       " (39.948391, -82.943558),\n",
       " (39.321606, -84.070908),\n",
       " (39.085529, -84.178314),\n",
       " (39.758556, -84.177246),\n",
       " (39.939571, -83.009911),\n",
       " (39.747753, -84.20558199999998),\n",
       " (39.815628, -84.093338),\n",
       " (39.635357, -84.216339),\n",
       " (39.757317, -84.151299),\n",
       " (39.768837, -84.20156899999998),\n",
       " (39.749916, -84.139359),\n",
       " (39.685413, -84.220871),\n",
       " (39.919437, -82.775238),\n",
       " (39.972076, -83.09818299999998),\n",
       " (39.791206, -84.206223),\n",
       " (39.778645, -84.20476500000002),\n",
       " (39.749916, -84.139359),\n",
       " (39.934155, -82.852524),\n",
       " (39.755344, -84.203598),\n",
       " (40.045822, -83.033424),\n",
       " (40.051949, -83.03280600000002),\n",
       " (39.943745, -83.073151),\n",
       " (39.89217, -83.039169),\n",
       " (41.113785, -81.611633),\n",
       " (39.948158, -83.036201),\n",
       " (39.819839, -84.189087),\n",
       " (39.788414, -84.183693),\n",
       " (39.747406, -84.239487),\n",
       " (39.747753, -84.20558199999998),\n",
       " (39.788414, -84.183693),\n",
       " (41.351006, -83.622826),\n",
       " (39.756203, -84.25322),\n",
       " (39.94365300000001, -83.060631),\n",
       " (39.985336, -82.78984100000002),\n",
       " (40.077419, -82.907898),\n",
       " (39.739037, -84.152107),\n",
       " (40.083298, -84.117058),\n",
       " (40.089439, -83.036194),\n",
       " (39.735844, -84.121658),\n",
       " (39.764576, -84.187706),\n",
       " (39.747974, -84.215065),\n",
       " (39.747753, -84.20558199999998),\n",
       " (39.95232, -83.03761300000002),\n",
       " (40.01757, -82.928978),\n",
       " (39.95652800000001, -83.018555),\n",
       " (39.939571, -83.009911),\n",
       " (39.749916, -84.139359),\n",
       " (41.137856, -83.65884399999999),\n",
       " (41.112324, -81.60992399999998),\n",
       " (40.109077, -83.091064),\n",
       " (39.779266, -84.23465),\n",
       " (41.420975, -81.689758),\n",
       " (39.59670300000001, -84.238388),\n",
       " (39.772823, -84.135612),\n",
       " (40.109497, -83.090813),\n",
       " (40.080402, -82.87745699999998),\n",
       " (39.741417, -84.18055),\n",
       " (39.760406, -84.195686),\n",
       " (39.627781, -84.188354),\n",
       " (39.706184, -84.217506),\n",
       " (39.812687, -84.22734799999998),\n",
       " (39.767471, -84.15786700000002),\n",
       " (39.902088, -82.898178),\n",
       " (40.699066, -84.089935),\n",
       " (39.811291, -84.235176),\n",
       " (39.811291, -84.235176),\n",
       " (39.872375, -84.055153),\n",
       " (39.916485, -82.897026),\n",
       " (39.019779, -84.20581800000002),\n",
       " (39.096836, -84.253273),\n",
       " (40.006477, -83.030991),\n",
       " (40.080402, -82.87745699999998),\n",
       " (39.748081, -84.13945799999998),\n",
       " (40.003059, -82.862289),\n",
       " (41.36795, -81.821655),\n",
       " (39.75777100000001, -84.142036),\n",
       " (39.749916, -84.139359),\n",
       " (39.106014, -84.147224),\n",
       " (39.603619, -84.228577),\n",
       " (39.636219, -84.21775799999998),\n",
       " (39.790596, -84.253807),\n",
       " (39.786629, -84.18869000000002),\n",
       " (40.112133, -83.016998),\n",
       " (39.753288, -84.191978),\n",
       " (39.770718, -84.211449),\n",
       " (39.995968, -83.024574),\n",
       " (40.131283, -83.089745),\n",
       " (40.103794, -83.13369),\n",
       " (40.047691, -82.997086),\n",
       " (39.93639, -82.881676),\n",
       " (40.827763, -83.975716),\n",
       " (39.67155800000001, -84.252678),\n",
       " (40.028641, -83.01509899999998),\n",
       " (40.02404, -82.99479699999998),\n",
       " (40.11182, -82.901276),\n",
       " (40.09917100000001, -83.134499),\n",
       " (40.059711, -82.419037),\n",
       " (39.801685, -84.253998),\n",
       " (39.798016, -84.25018299999998),\n",
       " (39.995106, -83.025337),\n",
       " (39.740906, -84.182121),\n",
       " (39.757221, -84.205894),\n",
       " (39.745384, -84.183006),\n",
       " (39.658932, -84.157677),\n",
       " (39.780712, -84.18723299999998),\n",
       " (39.754055, -84.17588),\n",
       " (39.828781, -84.19839499999998),\n",
       " (39.805809, -84.222435),\n",
       " (39.896893, -83.723129),\n",
       " (39.715988, -84.219238),\n",
       " (39.896893, -83.723129),\n",
       " (39.715988, -84.219238),\n",
       " (39.933804, -82.78944399999997),\n",
       " (39.668198, -84.147636),\n",
       " (39.781204, -84.20558199999998),\n",
       " (39.901142, -84.18789699999998),\n",
       " (39.903053, -83.162949),\n",
       " (39.783173, -84.117981),\n",
       " (39.085529, -84.178314),\n",
       " (40.111134, -82.992203),\n",
       " (39.948391, -82.943558),\n",
       " (39.786411, -84.25376899999998),\n",
       " (39.782368, -84.203339),\n",
       " (39.74688, -84.15986600000002),\n",
       " (39.596725, -84.231667),\n",
       " (39.784584, -84.15226700000002),\n",
       " (39.769596, -84.176964),\n",
       " (39.696461, -83.456673),\n",
       " (39.97847700000001, -83.119835),\n",
       " (39.773762, -84.14045),\n",
       " (39.956909, -83.044914),\n",
       " (39.788414, -84.183693),\n",
       " (38.843636, -82.216187),\n",
       " (39.741505, -84.16555),\n",
       " (39.978668, -82.974152),\n",
       " (39.59670300000001, -84.238388),\n",
       " (39.919376, -82.936417),\n",
       " (39.788647, -84.18390699999998),\n",
       " (39.858292, -83.003548),\n",
       " (39.832066, -83.000374),\n",
       " (39.965687, -83.009842),\n",
       " (39.974941, -83.10006),\n",
       " (41.403664, -82.13942),\n",
       " (41.323063, -82.616463),\n",
       " (41.420448, -81.828468),\n",
       " (39.816311, -84.130341),\n",
       " (39.798302, -84.235229),\n",
       " (39.767513, -84.194016),\n",
       " (39.671932, -84.210815),\n",
       " (39.781044, -84.242554),\n",
       " (39.774738, -84.174683),\n",
       " (39.767204, -84.162796),\n",
       " (39.95166, -83.017601),\n",
       " (39.950317, -83.01724200000002),\n",
       " (39.732437, -84.20874),\n",
       " (39.253136, -84.135544),\n",
       " (39.790283, -84.190063),\n",
       " (39.946922, -83.031151),\n",
       " (39.956467, -83.045815),\n",
       " (39.641197, -84.157799),\n",
       " (41.425308, -81.897865),\n",
       " (39.917412, -83.014236),\n",
       " (39.981674, -82.984566),\n",
       " (39.994205, -83.024689),\n",
       " (40.004406, -82.918137),\n",
       " (40.084126, -83.137772),\n",
       " (39.959778, -82.997467),\n",
       " (40.008327, -82.986023),\n",
       " (39.977394, -83.150467),\n",
       " (40.025917, -82.994576),\n",
       " (41.40752, -81.64746099999998),\n",
       " (41.060379, -81.554153),\n",
       " (40.10564, -82.949692),\n",
       " (39.732307, -84.240646),\n",
       " (38.892097, -84.208702),\n",
       " (39.536186, -84.235069),\n",
       " (39.805882, -84.21578199999998),\n",
       " (39.944817, -82.877861),\n",
       " (39.370232, -84.249039),\n",
       " (39.734035, -84.14502),\n",
       " (39.808914, -83.97833299999998),\n",
       " (39.735283, -84.161659),\n",
       " (39.820873, -84.237328),\n",
       " (40.105621, -83.091125),\n",
       " (39.050854, -84.07486),\n",
       " (39.751579, -84.239983),\n",
       " (41.404495, -82.116928),\n",
       " (39.625694, -84.200005),\n",
       " (41.383537, -83.641235),\n",
       " (39.76926, -84.236465),\n",
       " (39.592564, -84.155518),\n",
       " (39.788414, -84.183693),\n",
       " (39.800083, -84.21869699999998),\n",
       " (39.733723, -84.204971),\n",
       " (39.738392, -84.140419),\n",
       " (39.645313, -84.232414),\n",
       " (39.651726, -84.233627),\n",
       " (39.945255, -82.600075),\n",
       " (39.783661, -84.166382),\n",
       " (40.082298, -82.896858),\n",
       " (39.75125900000001, -84.167778),\n",
       " (39.748081, -84.13945799999998),\n",
       " (39.943745, -83.073151),\n",
       " (41.407391, -81.64676700000003),\n",
       " (39.802471, -84.235107),\n",
       " (39.787209, -84.205185),\n",
       " (39.731812, -84.15831),\n",
       " (39.733723, -84.204971),\n",
       " (39.812775, -84.220001),\n",
       " (39.794266, -84.215851),\n",
       " (39.764576, -84.187706),\n",
       " (39.819523, -84.20468100000002),\n",
       " (39.788414, -84.183693),\n",
       " (39.980274, -82.83625),\n",
       " (39.773193, -84.187454),\n",
       " (39.941711, -83.978874),\n",
       " (39.737404, -84.185776),\n",
       " (40.082397, -82.906921),\n",
       " (39.184589, -84.235176),\n",
       " (39.923038, -82.784538),\n",
       " (39.745384, -84.183006),\n",
       " (39.870964, -82.855354),\n",
       " (39.981812, -83.118767),\n",
       " (39.997391, -83.118156),\n",
       " (39.632637, -84.20303299999998),\n",
       " (39.9767, -83.045517),\n",
       " (39.72419, -84.152336),\n",
       " (39.770382, -84.194901),\n",
       " (40.266563, -82.928535),\n",
       " (41.42202800000001, -81.877464),\n",
       " (39.820084, -84.16755699999999),\n",
       " (39.754055, -84.17588),\n",
       " (39.122822, -84.135796),\n",
       " (39.803738, -84.22461700000002),\n",
       " (39.596882, -84.117653),\n",
       " (39.615669, -84.135452),\n",
       " (39.973015, -83.014801),\n",
       " (39.949711, -82.970123),\n",
       " (39.949711, -82.970123),\n",
       " (39.733723, -84.204971),\n",
       " (39.74773, -84.172325),\n",
       " (39.740417, -84.186539),\n",
       " (39.625694, -84.200005),\n",
       " (39.785046, -84.236137),\n",
       " (39.749626, -84.178291),\n",
       " (39.783344, -84.253738),\n",
       " (39.820084, -84.16755699999999),\n",
       " (39.739201, -84.230324),\n",
       " (39.790916, -84.235085),\n",
       " (39.80933, -84.235146),\n",
       " (39.904541, -83.02684),\n",
       " (39.982506, -82.98451999999997),\n",
       " (39.75777100000001, -84.142036),\n",
       " (39.736004, -84.14344799999998),\n",
       " (39.59872100000001, -84.161491),\n",
       " (39.74004, -84.194923),\n",
       " (39.77626, -84.243752),\n",
       " (39.62394000000001, -84.194153),\n",
       " (39.73232700000001, -84.163055),\n",
       " (39.772064, -84.253517),\n",
       " (39.772064, -84.253517),\n",
       " (40.263664, -82.927452),\n",
       " (39.658939, -84.223244),\n",
       " (39.67889, -84.221413),\n",
       " (39.749786, -84.199493),\n",
       " (39.745384, -84.183006),\n",
       " (39.625694, -84.200005),\n",
       " (40.120651, -82.973045),\n",
       " (41.128685, -81.652153),\n",
       " (39.959805, -83.370483),\n",
       " (38.0853, -122.233017),\n",
       " (37.631813, -122.084167),\n",
       " (37.896564, -122.070717),\n",
       " (37.334255, -122.032471),\n",
       " (37.250729, -121.910713),\n",
       " (37.701584, -121.906929),\n",
       " (37.328312, -121.871811),\n",
       " (37.719162, -122.448273),\n",
       " (37.868114, -122.19593),\n",
       " (37.700951, -121.80175),\n",
       " (38.321342, -122.713707),\n",
       " (38.005135, -122.037445),\n",
       " (37.70071400000001, -121.773895),\n",
       " (37.395771, -122.012772),\n",
       " (37.701576, -121.872177),\n",
       " (38.481682, -121.408768),\n",
       " (38.682713, -121.33628799999998),\n",
       " (37.391258, -121.995895),\n",
       " (37.775215, -122.220863),\n",
       " (37.418728, -121.970436),\n",
       " (37.38237, -121.904358),\n",
       " (37.701363, -121.849533),\n",
       " (37.131519, -121.633308),\n",
       " (38.303768, -122.708183),\n",
       " (38.026699, -122.113785),\n",
       " (38.220692, -122.607536),\n",
       " (37.613815, -122.396652),\n",
       " (38.646683, -121.376694),\n",
       " (37.66637, -122.107491),\n",
       " (37.70071400000001, -121.773895),\n",
       " (38.54702, -122.808311),\n",
       " (37.856171, -122.029907),\n",
       " (37.119289, -121.626114),\n",
       " (37.088932, -121.59922),\n",
       " (38.601768, -122.864983),\n",
       " (37.701061, -122.393188),\n",
       " (37.448879, -122.12313799999998),\n",
       " (37.732746, -122.404938),\n",
       " (37.749485, -122.403236),\n",
       " (37.454247, -121.923073),\n",
       " (37.401531, -121.908859),\n",
       " (38.563538, -121.637466),\n",
       " (37.825397, -122.304802),\n",
       " (37.8009, -122.228767),\n",
       " (37.31665, -121.945389),\n",
       " (38.36479600000001, -121.350449),\n",
       " (38.551689, -121.699516),\n",
       " (38.618011, -121.401459),\n",
       " (37.49221, -122.386093),\n",
       " (37.46876500000001, -122.155205),\n",
       " (38.452553, -121.37175),\n",
       " (37.741356, -121.580826),\n",
       " (38.668053, -121.31208),\n",
       " (37.78735, -122.247955),\n",
       " (38.781418, -121.145889),\n",
       " (37.608707, -122.068192),\n",
       " (38.547523, -121.717918),\n",
       " (37.977779, -122.06575),\n",
       " (37.339455, -121.852043),\n",
       " (37.553684, -122.296257),\n",
       " (37.731983, -122.415413),\n",
       " (37.854485, -122.219765),\n",
       " (37.992588, -122.039635),\n",
       " (38.58997, -121.26548),\n",
       " (39.328636, -121.11116),\n",
       " (38.481689, -121.396133),\n",
       " (37.462418, -122.144402),\n",
       " (38.404911, -121.912468),\n",
       " (38.744423, -121.247093),\n",
       " (38.203735, -121.556808),\n",
       " (38.671062, -121.591881),\n",
       " (38.566139, -121.336296),\n",
       " (38.846264, -121.299644),\n",
       " (38.564201, -121.513878),\n",
       " (38.682323, -120.847435),\n",
       " (37.923492, -122.513168),\n",
       " (37.692444, -122.140167),\n",
       " (37.804386, -121.989738),\n",
       " (37.252171, -121.95821399999998),\n",
       " (37.701649, -121.911278),\n",
       " (37.807072, -122.475616),\n",
       " (37.690559, -122.074669),\n",
       " (37.766987, -121.335495),\n",
       " (37.700043, -121.779655),\n",
       " (37.933292, -121.296669),\n",
       " (39.411289, -123.354477),\n",
       " (38.556145, -121.443192),\n",
       " (38.74008900000001, -121.273468),\n",
       " (38.74008900000001, -121.273468),\n",
       " (38.74398400000001, -121.226074),\n",
       " (38.477348, -122.73214),\n",
       " (37.364136, -122.124481),\n",
       " (37.314922, -121.910576),\n",
       " (37.955566, -122.370888),\n",
       " (38.501938, -121.789146),\n",
       " (38.714298, -121.540237),\n",
       " (37.69278, -122.101685),\n",
       " (39.267353, -121.02877),\n",
       " (39.098984, -122.804314),\n",
       " (37.785709, -122.244514),\n",
       " (37.996063, -121.785194),\n",
       " (38.558533, -122.447746),\n",
       " (37.926357, -122.060768),\n",
       " (37.352432, -121.837746),\n",
       " (37.301517, -121.876823),\n",
       " (37.808498, -122.366852),\n",
       " (37.674477, -122.100662),\n",
       " (37.549904, -122.025429),\n",
       " (38.176636, -122.594177),\n",
       " (37.590557, -122.36186200000002),\n",
       " (38.606236, -121.508064),\n",
       " (37.57436, -121.88523899999998),\n",
       " (38.692123, -120.886917),\n",
       " (38.242306, -122.08654),\n",
       " (37.036915, -122.042366),\n",
       " (37.708939, -121.723686),\n",
       " (38.094425, -120.944992),\n",
       " (37.359665, -121.995987),\n",
       " (37.986759, -122.31488),\n",
       " (37.997124, -122.286018),\n",
       " (37.488846, -122.212852),\n",
       " (38.578747, -121.307381),\n",
       " (37.598789, -122.060852),\n",
       " (38.005135, -122.037445),\n",
       " (37.701225, -121.92247),\n",
       " (38.686363, -121.33287),\n",
       " (37.506924, -122.341293),\n",
       " (36.666836, -121.684853),\n",
       " (37.798454, -122.274803),\n",
       " (38.522472, -121.521584),\n",
       " (38.069008, -122.53876499999998),\n",
       " (38.149895, -122.451241),\n",
       " (37.910786, -122.31713899999998),\n",
       " (37.861332, -122.210243),\n",
       " (36.992775, -121.957268),\n",
       " (36.609657, -121.898407),\n",
       " (37.700855, -121.81778),\n",
       " (36.676228, -121.701744),\n",
       " (38.100746, -122.229858),\n",
       " (37.495384, -121.923294),\n",
       " (37.434715, -121.888161),\n",
       " (37.588905, -121.870926),\n",
       " (38.022526, -122.262299),\n",
       " (37.740906, -122.196472),\n",
       " (38.02545900000001, -122.112236),\n",
       " (37.605614, -121.872658),\n",
       " (36.624298, -121.841774),\n",
       " (37.318287, -121.831551),\n",
       " (38.510151, -121.459702),\n",
       " (38.644184, -121.38831299999998),\n",
       " (38.559532, -121.373085),\n",
       " (37.74055900000001, -121.58578500000002),\n",
       " (37.997124, -122.286018),\n",
       " (37.337513, -122.059784),\n",
       " (37.276817, -122.007233),\n",
       " (38.494873, -121.45028700000002),\n",
       " (38.409306, -121.35331),\n",
       " (37.89658, -122.071281),\n",
       " (37.955479, -121.324814),\n",
       " (38.022526, -122.262299),\n",
       " (37.687485, -122.133484),\n",
       " (37.334255, -122.032471),\n",
       " (37.381866, -121.963829),\n",
       " (37.704407, -122.394241),\n",
       " (38.169338, -122.199928),\n",
       " (37.795124, -122.266594),\n",
       " (37.276817, -122.007233),\n",
       " (37.756107, -122.392464),\n",
       " (37.793484, -122.263992),\n",
       " (37.877388, -122.184158),\n",
       " (38.478897, -121.421066),\n",
       " (37.54932, -122.292496),\n",
       " (38.588772, -121.404259),\n",
       " (37.76329000000001, -122.216171),\n",
       " (37.994179, -122.074287),\n",
       " (38.641266, -121.473755),\n",
       " (38.631653, -121.397972),\n",
       " (37.560719, -122.035637),\n",
       " (38.343533, -121.335594),\n",
       " (38.546047, -121.509056),\n",
       " (38.026489, -121.960167),\n",
       " (39.202377, -121.062012),\n",
       " (36.988647, -121.982933),\n",
       " (37.539642, -121.923859),\n",
       " (38.116135, -121.395554),\n",
       " (38.23616, -122.461472),\n",
       " (38.676525, -121.359612),\n",
       " (37.784885, -122.39267),\n",
       " (37.351471, -121.91433700000002),\n",
       " (38.937412, -121.095352),\n",
       " (38.772587, -121.253479),\n",
       " (39.300751, -121.029884),\n",
       " (37.410072, -121.879219),\n",
       " (38.675251, -121.352432),\n",
       " (38.667656, -121.33844),\n",
       " (38.678547, -121.235008),\n",
       " (39.143547, -121.061333),\n",
       " (38.552616, -121.69381),\n",
       " (37.570854, -122.032478),\n",
       " (38.945255, -121.046089),\n",
       " (38.929756, -121.08866100000002),\n",
       " (37.31652800000001, -121.911858),\n",
       " (37.315025, -121.909073),\n",
       " (37.830669, -122.293343),\n",
       " (37.641117, -122.406021),\n",
       " (37.693237, -122.052116),\n",
       " (37.852394, -122.029083),\n",
       " (38.373032, -121.358482),\n",
       " (38.64341, -121.434265),\n",
       " (38.537041, -121.739067),\n",
       " (38.559505, -121.467201),\n",
       " (38.546028, -121.509315),\n",
       " (38.942398, -121.09426100000002),\n",
       " (38.618366, -121.529411),\n",
       " (37.779552, -121.314514),\n",
       " (37.851658, -121.282875),\n",
       " (38.64315, -121.434677),\n",
       " (38.658169, -120.969086),\n",
       " (37.638012, -121.324409),\n",
       " (37.31638, -121.951538),\n",
       " (38.767025, -121.253128),\n",
       " (39.233013, -121.03894),\n",
       " (38.651775, -121.382942),\n",
       " (37.634174, -122.414825),\n",
       " (37.581238, -122.049042),\n",
       " (38.601833, -121.382904),\n",
       " (38.236176, -122.461472),\n",
       " (37.785542, -122.39138),\n",
       " (37.62746, -120.99706299999998),\n",
       " (38.761791, -120.915413),\n",
       " (38.229401, -122.116844),\n",
       " (37.327499, -121.878082),\n",
       " (37.750488, -121.379982),\n",
       " (37.37682, -121.941536),\n",
       " (37.38965200000001, -122.163582),\n",
       " (37.70306, -122.07856),\n",
       " (37.323593, -121.940826),\n",
       " (37.690514, -121.918709),\n",
       " (37.656654, -121.901588),\n",
       " (37.753693, -122.151398),\n",
       " (38.227737, -122.120537),\n",
       " (37.769375, -122.405533),\n",
       " (37.696819, -122.071869),\n",
       " (37.8745, -122.306038),\n",
       " (37.752502, -122.403008),\n",
       " (37.7883, -121.300407),\n",
       " (38.860706, -121.300247),\n",
       " (37.86365900000001, -121.218956),\n",
       " (37.54723, -122.37265),\n",
       " (37.33442700000001, -121.936485),\n",
       " (36.950603, -121.523094),\n",
       " (38.660831, -121.337288),\n",
       " (38.222748, -122.12883),\n",
       " (37.343258, -121.846283),\n",
       " (37.777836, -121.317451),\n",
       " (38.722092, -121.22583799999998),\n",
       " (38.246796, -122.627808),\n",
       " (38.661053, -121.359779),\n",
       " (37.813274, -121.034325),\n",
       " (37.731277, -122.435219),\n",
       " (37.315239, -121.914902),\n",
       " (37.328579, -121.871277),\n",
       " (37.882004, -121.641479),\n",
       " (38.835583, -121.168533),\n",
       " (37.933201, -122.046196),\n",
       " (37.657974, -121.902954),\n",
       " (38.562939, -121.641922),\n",
       " (38.022778, -121.965698),\n",
       " (37.656654, -121.901588),\n",
       " (38.690273, -121.392136),\n",
       " (38.68111, -121.333244),\n",
       " (38.653061, -121.070541),\n",
       " ...]"
      ]
     },
     "execution_count": 62,
     "metadata": {},
     "output_type": "execute_result"
    }
   ],
   "source": [
    "#converting into list\n",
    "#zip to get a list of pairs\n",
    "list(zip(list(df.Start_Lat), list(df.Start_Lng)))"
   ]
  },
  {
   "cell_type": "code",
   "execution_count": 63,
   "metadata": {
    "colab": {
     "base_uri": "https://localhost:8080/"
    },
    "executionInfo": {
     "elapsed": 627,
     "status": "ok",
     "timestamp": 1699403926366,
     "user": {
      "displayName": "Wahu",
      "userId": "14420219231280784051"
     },
     "user_tz": -180
    },
    "id": "oz7WsbZKd26i",
    "outputId": "83e2012e-8f41-427e-949c-073aa139d435"
   },
   "outputs": [
    {
     "data": {
      "text/plain": [
       "<zip at 0x78b02ef8d0c0>"
      ]
     },
     "execution_count": 63,
     "metadata": {},
     "output_type": "execute_result"
    }
   ],
   "source": [
    "zip(list(df.Start_Lat), list(df.Start_Lng))"
   ]
  },
  {
   "cell_type": "code",
   "execution_count": 64,
   "metadata": {
    "executionInfo": {
     "elapsed": 412,
     "status": "ok",
     "timestamp": 1699403926773,
     "user": {
      "displayName": "Wahu",
      "userId": "14420219231280784051"
     },
     "user_tz": -180
    },
    "id": "GHbUBX2WekDc"
   },
   "outputs": [],
   "source": [
    "from folium.plugins import HeatMap"
   ]
  },
  {
   "cell_type": "code",
   "execution_count": 65,
   "metadata": {
    "colab": {
     "base_uri": "https://localhost:8080/"
    },
    "executionInfo": {
     "elapsed": 3108,
     "status": "ok",
     "timestamp": 1699403929877,
     "user": {
      "displayName": "Wahu",
      "userId": "14420219231280784051"
     },
     "user_tz": -180
    },
    "id": "WHMpCQyxfI6F",
    "outputId": "eb73ea2b-a00d-4914-ed05-7314af73e118"
   },
   "outputs": [
    {
     "data": {
      "text/plain": [
       "[(39.865147, -84.058723),\n",
       " (39.92805900000001, -82.831184),\n",
       " (39.063148, -84.032608),\n",
       " (39.747753, -84.20558199999998),\n",
       " (39.627781, -84.188354),\n",
       " (40.10059, -82.92519399999998),\n",
       " (39.758274, -84.23050699999997),\n",
       " (39.770382, -84.194901),\n",
       " (39.778061, -84.172005),\n",
       " (40.10059, -82.92519399999998),\n",
       " (39.952812, -83.119293),\n",
       " (39.932709, -82.83091),\n",
       " (39.737633, -84.14993299999998),\n",
       " (39.79076, -84.241547),\n",
       " (39.972038, -82.913521),\n",
       " (39.745888, -84.17041),\n",
       " (39.748329, -84.224007),\n",
       " (39.752174, -84.239952),\n",
       " (39.740669, -84.184135),\n",
       " (39.790703, -84.244461),\n",
       " (40.052509, -82.88233199999998),\n",
       " (39.773346, -84.224686),\n",
       " (39.628288, -84.226151),\n",
       " (40.023487, -82.994888),\n",
       " (39.761379, -84.25921600000002),\n",
       " (40.158024, -82.641762),\n",
       " (39.733219, -84.159653),\n",
       " (39.775303, -84.200523),\n",
       " (39.789322, -84.23910500000002),\n",
       " (39.75872, -84.183762),\n",
       " (40.081459, -83.122398),\n",
       " (39.83321, -84.112946),\n",
       " (40.042725, -82.99730699999998),\n",
       " (39.974415, -82.848854),\n",
       " (39.994766, -83.02449),\n",
       " (40.006477, -83.030991),\n",
       " (39.742062, -84.186996),\n",
       " (39.843521, -82.78157),\n",
       " (39.782578, -84.178688),\n",
       " (40.007626, -82.912155),\n",
       " (39.447502, -84.19120799999997),\n",
       " (39.787731, -84.173439),\n",
       " (39.426277, -83.624611),\n",
       " (39.978306, -82.852554),\n",
       " (39.84182, -84.18960600000003),\n",
       " (39.953625, -82.958954),\n",
       " (40.053082, -83.049644),\n",
       " (39.936874, -82.878723),\n",
       " (39.780643, -84.16349),\n",
       " (39.773193, -84.187454),\n",
       " (39.77858, -84.20468100000002),\n",
       " (39.792988, -84.20607),\n",
       " (39.770382, -84.194901),\n",
       " (39.976398, -83.119225),\n",
       " (39.6395, -84.23136099999998),\n",
       " (39.232578, -84.159286),\n",
       " (39.746593, -84.23912),\n",
       " (39.742783, -84.182472),\n",
       " (39.75452, -84.159279),\n",
       " (39.749916, -84.139359),\n",
       " (40.100903, -82.98410799999998),\n",
       " (39.77280800000001, -84.201851),\n",
       " (39.492485, -84.131798),\n",
       " (39.570904, -84.251724),\n",
       " (39.834282, -82.74382),\n",
       " (39.622787, -84.229858),\n",
       " (39.429871, -84.079666),\n",
       " (41.407391, -81.64676700000003),\n",
       " (41.424404, -81.57867399999998),\n",
       " (39.89217, -83.039169),\n",
       " (41.022358, -83.650345),\n",
       " (39.206806, -84.053253),\n",
       " (39.973797, -83.022285),\n",
       " (40.048008, -82.86421999999997),\n",
       " (39.814526, -84.021744),\n",
       " (40.151196, -84.22003199999997),\n",
       " (39.954617, -82.844238),\n",
       " (38.990551, -84.207497),\n",
       " (40.008995, -83.002678),\n",
       " (39.077332, -84.225014),\n",
       " (39.955452, -82.795845),\n",
       " (40.224586, -82.929085),\n",
       " (39.976398, -83.119225),\n",
       " (39.98560300000001, -82.939247),\n",
       " (41.040714, -81.61314399999998),\n",
       " (41.083679, -81.579002),\n",
       " (40.766891, -82.42411),\n",
       " (41.422199, -81.843018),\n",
       " (41.063995, -81.57294499999998),\n",
       " (39.747753, -84.20558199999998),\n",
       " (38.99408, -84.142021),\n",
       " (41.420818, -81.694008),\n",
       " (40.030342, -83.030197),\n",
       " (39.858089, -82.827904),\n",
       " (41.112324, -81.60992399999998),\n",
       " (39.994061, -82.729416),\n",
       " (41.355396, -81.81926700000002),\n",
       " (39.687389, -84.23796800000002),\n",
       " (39.751038, -84.214325),\n",
       " (39.749916, -84.139359),\n",
       " (39.97509, -82.88460500000002),\n",
       " (40.11195, -83.016663),\n",
       " (41.424313, -81.57914),\n",
       " (39.691864, -84.211166),\n",
       " (39.769173, -84.20728299999998),\n",
       " (39.75452, -84.159279),\n",
       " (39.874947, -83.003937),\n",
       " (39.769596, -84.176964),\n",
       " (39.776417, -84.23026999999998),\n",
       " (39.64185, -84.227455),\n",
       " (39.76028400000001, -84.196434),\n",
       " (39.802528, -84.220093),\n",
       " (39.828781, -84.19839499999998),\n",
       " (39.733337, -84.180359),\n",
       " (39.759426, -84.138367),\n",
       " (39.78361500000001, -84.227531),\n",
       " (39.74004, -84.194923),\n",
       " (39.735199, -84.204948),\n",
       " (39.749035, -84.20474200000002),\n",
       " (39.969223, -82.984131),\n",
       " (39.995369, -82.985085),\n",
       " (39.744873, -84.205025),\n",
       " (39.749786, -84.199493),\n",
       " (39.780331, -84.195076),\n",
       " (40.109928, -82.97820300000002),\n",
       " (40.11195, -83.016663),\n",
       " (40.112156, -83.035072),\n",
       " (39.871761, -82.933449),\n",
       " (39.934517, -82.86065699999997),\n",
       " (40.02404, -82.99479699999998),\n",
       " (41.014015, -81.932777),\n",
       " (40.575069, -82.528145),\n",
       " (39.996578, -84.21680500000002),\n",
       " (39.986324, -82.985458),\n",
       " (40.013062, -82.90213),\n",
       " (39.981709, -82.98436),\n",
       " (39.953022, -82.99889399999998),\n",
       " (39.973812, -82.983162),\n",
       " (39.978306, -82.852554),\n",
       " (39.917412, -83.014236),\n",
       " (39.469582, -83.712799),\n",
       " (39.63958, -84.234818),\n",
       " (39.975986, -82.996307),\n",
       " (39.951401, -83.040161),\n",
       " (39.96888, -83.022263),\n",
       " (39.804295, -84.178917),\n",
       " (39.831444, -84.097267),\n",
       " (39.890587, -83.03538499999998),\n",
       " (39.770977, -84.183914),\n",
       " (39.808121, -84.173477),\n",
       " (41.410461, -81.725853),\n",
       " (39.747753, -84.20558199999998),\n",
       " (39.6395, -84.23136099999998),\n",
       " (39.94537, -82.88744399999999),\n",
       " (39.79813, -84.24479699999998),\n",
       " (40.081715, -82.89576),\n",
       " (41.111031, -81.550728),\n",
       " (40.082016, -82.937119),\n",
       " (39.763363, -84.15535),\n",
       " (39.740063, -84.191833),\n",
       " (39.99876, -82.625221),\n",
       " (39.740063, -84.191833),\n",
       " (39.99519, -82.86859100000002),\n",
       " (41.395805, -81.935562),\n",
       " (39.887058, -82.883263),\n",
       " (39.824703, -83.141228),\n",
       " (40.977516, -82.790749),\n",
       " (40.11195, -83.016663),\n",
       " (41.150993, -81.631393),\n",
       " (39.824703, -83.141228),\n",
       " (39.885872, -82.806198),\n",
       " (40.11195, -83.016663),\n",
       " (40.09917100000001, -83.134499),\n",
       " (40.012829, -83.109131),\n",
       " (40.048183, -82.945183),\n",
       " (39.77792, -84.246872),\n",
       " (39.917412, -83.014236),\n",
       " (41.313236, -81.810959),\n",
       " (39.691998, -84.043655),\n",
       " (39.852417, -82.93860600000002),\n",
       " (39.956909, -83.044914),\n",
       " (39.602947, -82.951836),\n",
       " (39.89188400000001, -83.087547),\n",
       " (39.78508400000001, -84.210564),\n",
       " (40.1105, -82.977524),\n",
       " (40.757088, -82.50975),\n",
       " (41.063995, -81.57294499999998),\n",
       " (40.004749, -82.867638),\n",
       " (40.033955, -83.000862),\n",
       " (38.929512, -83.495262),\n",
       " (39.973419, -83.081558),\n",
       " (39.797958, -84.255135),\n",
       " (40.057369, -82.903717),\n",
       " (39.847927, -82.848274),\n",
       " (40.051949, -83.03280600000002),\n",
       " (40.051949, -83.03280600000002),\n",
       " (39.772823, -84.135612),\n",
       " (39.673203, -84.221886),\n",
       " (39.76244000000001, -84.20506999999998),\n",
       " (39.79166, -84.169342),\n",
       " (39.72757, -84.13549),\n",
       " (40.09917100000001, -83.134499),\n",
       " (38.455898, -81.93562299999998),\n",
       " (39.764778, -84.177193),\n",
       " (40.016014, -82.903442),\n",
       " (39.686901, -83.911812),\n",
       " (39.74403, -84.214638),\n",
       " (39.955738, -83.002953),\n",
       " (38.98587, -84.052551),\n",
       " (41.12336, -81.652626),\n",
       " (41.403664, -82.13942),\n",
       " (39.719009, -84.21461500000002),\n",
       " (41.063995, -81.57294499999998),\n",
       " (39.741764, -84.209923),\n",
       " (39.933804, -82.78944399999997),\n",
       " (39.673203, -84.221886),\n",
       " (38.997852, -84.043739),\n",
       " (40.080402, -82.87745699999998),\n",
       " (41.04023, -81.608711),\n",
       " (39.749664, -84.201012),\n",
       " (39.749916, -84.139359),\n",
       " (41.039204, -81.631744),\n",
       " (40.993484, -82.03600300000002),\n",
       " (41.407391, -81.64676700000003),\n",
       " (39.732441, -84.224243),\n",
       " (39.773193, -84.187454),\n",
       " (39.792931, -84.215195),\n",
       " (39.948299, -82.047081),\n",
       " (39.67263, -84.216522),\n",
       " (41.172302, -83.64917),\n",
       " (39.615208, -84.22731800000003),\n",
       " (39.790604, -84.25140400000002),\n",
       " (39.968788, -83.003754),\n",
       " (39.905334, -82.968689),\n",
       " (39.855103, -84.183678),\n",
       " (41.414131, -81.632141),\n",
       " (39.933804, -82.78944399999997),\n",
       " (41.063995, -81.57294499999998),\n",
       " (39.75782, -83.303154),\n",
       " (41.42181, -81.734482),\n",
       " (41.422199, -81.843018),\n",
       " (39.819839, -84.189087),\n",
       " (39.745735, -84.120644),\n",
       " (40.004749, -82.867638),\n",
       " (39.626396, -84.20768699999998),\n",
       " (39.761005, -84.15855400000002),\n",
       " (39.765377, -84.155914),\n",
       " (39.936871, -82.936317),\n",
       " (41.420666, -81.81644399999998),\n",
       " (39.607605, -84.15598299999998),\n",
       " (39.819809, -84.18710300000002),\n",
       " (41.371895, -81.820786),\n",
       " (39.999187, -83.075813),\n",
       " (39.741695, -84.163101),\n",
       " (39.917412, -83.014236),\n",
       " (41.423275, -81.76001),\n",
       " (39.993843, -82.985054),\n",
       " (41.36974, -81.821457),\n",
       " (41.420506, -81.816078),\n",
       " (41.407391, -81.64676700000003),\n",
       " (39.869961, -84.137642),\n",
       " (39.75782, -83.303154),\n",
       " (39.84182, -84.18960600000003),\n",
       " (39.695045, -84.10419499999998),\n",
       " (39.754223, -84.224075),\n",
       " (39.759544, -84.191811),\n",
       " (39.755566, -84.180534),\n",
       " (39.960938, -84.189583),\n",
       " (39.609039, -84.155869),\n",
       " (39.953472, -82.960274),\n",
       " (40.106297, -83.036079),\n",
       " (39.812687, -84.22734799999998),\n",
       " (39.724258, -84.213142),\n",
       " (39.929554, -82.995773),\n",
       " (39.976398, -83.119225),\n",
       " (39.915928, -82.98246800000003),\n",
       " (39.009884, -84.173073),\n",
       " (39.737701, -84.134987),\n",
       " (39.974285, -82.961174),\n",
       " (40.152611, -82.686996),\n",
       " (39.786629, -84.18869000000002),\n",
       " (40.016937, -83.156601),\n",
       " (40.003746, -83.15389300000002),\n",
       " (39.736061, -84.093002),\n",
       " (41.375961, -83.647453),\n",
       " (39.953648, -82.960373),\n",
       " (39.767757, -84.231712),\n",
       " (39.800312, -84.218811),\n",
       " (39.754055, -84.17588),\n",
       " (39.712257, -84.201782),\n",
       " (39.759201, -84.149101),\n",
       " (39.759472, -84.243698),\n",
       " (39.797668, -84.217506),\n",
       " (39.763664, -84.193298),\n",
       " (39.758121, -84.191414),\n",
       " (40.266499, -82.927544),\n",
       " (40.099384, -83.155396),\n",
       " (39.981926, -83.046265),\n",
       " (39.786633, -84.170837),\n",
       " (39.765259, -84.13780200000002),\n",
       " (40.10564, -82.949692),\n",
       " (39.762531, -84.1427),\n",
       " (41.428753, -83.61036700000002),\n",
       " (39.985336, -82.78984100000002),\n",
       " (39.955517, -82.87687700000002),\n",
       " (39.858089, -82.827904),\n",
       " (39.763615, -84.142586),\n",
       " (39.933804, -82.78944399999997),\n",
       " (40.136345, -83.00573),\n",
       " (39.76516, -84.157234),\n",
       " (39.772438, -84.14218100000002),\n",
       " (39.981968, -83.008698),\n",
       " (39.232101, -84.16014100000002),\n",
       " (40.061661, -82.99807),\n",
       " (40.082397, -82.906921),\n",
       " (39.317173, -84.220894),\n",
       " (39.690781, -84.205147),\n",
       " (39.803726, -84.18514300000002),\n",
       " (39.838779, -84.25831600000002),\n",
       " (39.76144, -84.167038),\n",
       " (39.740906, -84.182121),\n",
       " (39.81963, -84.198273),\n",
       " (39.79969000000001, -84.186996),\n",
       " (39.72364, -84.1418),\n",
       " (39.754055, -84.13889300000002),\n",
       " (39.831997, -84.223694),\n",
       " (41.403744, -82.282776),\n",
       " (39.754055, -84.17588),\n",
       " (39.630444, -84.19626600000002),\n",
       " (39.801601, -84.194542),\n",
       " (39.752647, -84.189774),\n",
       " (39.933804, -82.78944399999997),\n",
       " (39.571163, -84.202606),\n",
       " (39.17505300000001, -84.236313),\n",
       " (39.977322, -83.02109499999997),\n",
       " (39.175728, -84.180763),\n",
       " (39.68865200000001, -84.127998),\n",
       " (39.628288, -84.226151),\n",
       " (39.96764, -83.06081400000002),\n",
       " (39.797958, -84.255135),\n",
       " (39.783669, -84.155045),\n",
       " (39.989044, -83.049088),\n",
       " (39.819721, -84.191528),\n",
       " (39.783089, -84.188911),\n",
       " (39.590527, -84.17076899999998),\n",
       " (41.40274, -81.817856),\n",
       " (40.039909, -82.99683399999998),\n",
       " (39.972336, -82.983917),\n",
       " (40.00164, -82.923073),\n",
       " (39.902088, -82.898178),\n",
       " (39.833824, -83.100853),\n",
       " (39.713467, -84.216095),\n",
       " (39.640202, -84.235283),\n",
       " (39.733723, -84.204971),\n",
       " (41.351006, -83.622826),\n",
       " (39.845287, -83.993217),\n",
       " (39.607788, -84.228088),\n",
       " (39.873238, -84.13720699999998),\n",
       " (40.058132, -82.922752),\n",
       " (41.420975, -81.689758),\n",
       " (39.788414, -84.183693),\n",
       " (39.836643, -84.060753),\n",
       " (41.039829, -81.662872),\n",
       " (38.581139, -82.00456199999998),\n",
       " (39.754055, -84.17588),\n",
       " (39.929844, -83.116486),\n",
       " (39.962147, -83.092667),\n",
       " (39.697266, -84.218781),\n",
       " (40.993092, -81.662689),\n",
       " (39.845287, -83.993217),\n",
       " (41.041447, -81.565163),\n",
       " (41.407391, -81.64676700000003),\n",
       " (41.037266, -81.583786),\n",
       " (39.59872100000001, -84.161491),\n",
       " (40.018669, -81.565704),\n",
       " (39.724251, -84.21315799999998),\n",
       " (39.758556, -84.177246),\n",
       " (39.790565, -84.25914),\n",
       " (39.753105, -84.15158100000002),\n",
       " (40.301411, -83.06575),\n",
       " (39.732567, -84.15900400000002),\n",
       " (39.800358, -82.708252),\n",
       " (41.351006, -83.622826),\n",
       " (39.790565, -84.25914),\n",
       " (39.753105, -84.15158100000002),\n",
       " (40.11195, -83.016663),\n",
       " (38.892097, -84.208702),\n",
       " (39.981602, -82.885704),\n",
       " (41.337879, -82.216049),\n",
       " (39.747112, -84.163826),\n",
       " (40.087536, -82.98741899999997),\n",
       " (39.782368, -84.203339),\n",
       " (39.87857800000001, -83.049774),\n",
       " (39.669388, -84.22225999999998),\n",
       " (39.626953, -84.212288),\n",
       " (39.812687, -84.22734799999998),\n",
       " (39.819839, -84.189087),\n",
       " (39.953262, -83.01795200000002),\n",
       " (39.739319, -84.157219),\n",
       " (39.91468, -83.01690699999997),\n",
       " (41.037647, -81.584183),\n",
       " (39.798611, -84.207466),\n",
       " (40.083206, -82.90679899999998),\n",
       " (39.749916, -84.139359),\n",
       " (39.752735, -84.145386),\n",
       " (39.689022, -84.220665),\n",
       " (39.778011, -84.20049300000002),\n",
       " (41.399147, -81.565674),\n",
       " (39.59670300000001, -84.238388),\n",
       " (39.973015, -83.014801),\n",
       " (39.777355, -84.19957),\n",
       " (41.139114, -81.597305),\n",
       " (39.64724, -84.224319),\n",
       " (39.745487, -84.16544300000002),\n",
       " (39.732552, -84.12197900000002),\n",
       " (39.778011, -84.20049300000002),\n",
       " (40.002552, -83.11835500000002),\n",
       " (39.780014, -84.162888),\n",
       " (39.643101, -84.209923),\n",
       " (39.767769, -84.17716999999998),\n",
       " (39.812687, -84.22734799999998),\n",
       " (39.986324, -82.985458),\n",
       " (40.109913, -84.223648),\n",
       " (39.83847, -84.246307),\n",
       " (39.627991, -84.17021899999997),\n",
       " (39.945835, -83.061295),\n",
       " (39.591389, -84.229485),\n",
       " (39.790302, -84.21390500000003),\n",
       " (39.927441, -83.056198),\n",
       " (39.946892, -82.91548900000002),\n",
       " (40.002552, -83.11835500000002),\n",
       " (39.79031, -84.029114),\n",
       " (39.087887, -84.236076),\n",
       " (39.188583, -84.258705),\n",
       " (39.012833, -83.797585),\n",
       " (40.151196, -84.22003199999997),\n",
       " (40.033405, -82.910225),\n",
       " (39.591389, -84.229485),\n",
       " (40.080338, -82.880074),\n",
       " (40.200333, -83.027435),\n",
       " (40.02504, -82.904129),\n",
       " (40.013062, -82.90213),\n",
       " (40.065559, -82.906418),\n",
       " (39.588413, -84.229774),\n",
       " (39.902195, -83.084763),\n",
       " (41.370506, -83.616997),\n",
       " (39.945427, -82.846558),\n",
       " (39.945751, -82.846252),\n",
       " (41.316475, -81.649101),\n",
       " (39.786633, -84.170837),\n",
       " (39.768337, -84.194244),\n",
       " (39.797005, -84.154556),\n",
       " (40.005947, -82.858887),\n",
       " (39.355782, -83.268311),\n",
       " (40.030914, -82.994598),\n",
       " (39.746147, -84.183167),\n",
       " (39.771233, -84.1763),\n",
       " (39.976398, -83.119225),\n",
       " (39.948391, -82.943558),\n",
       " (39.321606, -84.070908),\n",
       " (39.085529, -84.178314),\n",
       " (39.758556, -84.177246),\n",
       " (39.939571, -83.009911),\n",
       " (39.747753, -84.20558199999998),\n",
       " (39.815628, -84.093338),\n",
       " (39.635357, -84.216339),\n",
       " (39.757317, -84.151299),\n",
       " (39.768837, -84.20156899999998),\n",
       " (39.749916, -84.139359),\n",
       " (39.685413, -84.220871),\n",
       " (39.919437, -82.775238),\n",
       " (39.972076, -83.09818299999998),\n",
       " (39.791206, -84.206223),\n",
       " (39.778645, -84.20476500000002),\n",
       " (39.749916, -84.139359),\n",
       " (39.934155, -82.852524),\n",
       " (39.755344, -84.203598),\n",
       " (40.045822, -83.033424),\n",
       " (40.051949, -83.03280600000002),\n",
       " (39.943745, -83.073151),\n",
       " (39.89217, -83.039169),\n",
       " (41.113785, -81.611633),\n",
       " (39.948158, -83.036201),\n",
       " (39.819839, -84.189087),\n",
       " (39.788414, -84.183693),\n",
       " (39.747406, -84.239487),\n",
       " (39.747753, -84.20558199999998),\n",
       " (39.788414, -84.183693),\n",
       " (41.351006, -83.622826),\n",
       " (39.756203, -84.25322),\n",
       " (39.94365300000001, -83.060631),\n",
       " (39.985336, -82.78984100000002),\n",
       " (40.077419, -82.907898),\n",
       " (39.739037, -84.152107),\n",
       " (40.083298, -84.117058),\n",
       " (40.089439, -83.036194),\n",
       " (39.735844, -84.121658),\n",
       " (39.764576, -84.187706),\n",
       " (39.747974, -84.215065),\n",
       " (39.747753, -84.20558199999998),\n",
       " (39.95232, -83.03761300000002),\n",
       " (40.01757, -82.928978),\n",
       " (39.95652800000001, -83.018555),\n",
       " (39.939571, -83.009911),\n",
       " (39.749916, -84.139359),\n",
       " (41.137856, -83.65884399999999),\n",
       " (41.112324, -81.60992399999998),\n",
       " (40.109077, -83.091064),\n",
       " (39.779266, -84.23465),\n",
       " (41.420975, -81.689758),\n",
       " (39.59670300000001, -84.238388),\n",
       " (39.772823, -84.135612),\n",
       " (40.109497, -83.090813),\n",
       " (40.080402, -82.87745699999998),\n",
       " (39.741417, -84.18055),\n",
       " (39.760406, -84.195686),\n",
       " (39.627781, -84.188354),\n",
       " (39.706184, -84.217506),\n",
       " (39.812687, -84.22734799999998),\n",
       " (39.767471, -84.15786700000002),\n",
       " (39.902088, -82.898178),\n",
       " (40.699066, -84.089935),\n",
       " (39.811291, -84.235176),\n",
       " (39.811291, -84.235176),\n",
       " (39.872375, -84.055153),\n",
       " (39.916485, -82.897026),\n",
       " (39.019779, -84.20581800000002),\n",
       " (39.096836, -84.253273),\n",
       " (40.006477, -83.030991),\n",
       " (40.080402, -82.87745699999998),\n",
       " (39.748081, -84.13945799999998),\n",
       " (40.003059, -82.862289),\n",
       " (41.36795, -81.821655),\n",
       " (39.75777100000001, -84.142036),\n",
       " (39.749916, -84.139359),\n",
       " (39.106014, -84.147224),\n",
       " (39.603619, -84.228577),\n",
       " (39.636219, -84.21775799999998),\n",
       " (39.790596, -84.253807),\n",
       " (39.786629, -84.18869000000002),\n",
       " (40.112133, -83.016998),\n",
       " (39.753288, -84.191978),\n",
       " (39.770718, -84.211449),\n",
       " (39.995968, -83.024574),\n",
       " (40.131283, -83.089745),\n",
       " (40.103794, -83.13369),\n",
       " (40.047691, -82.997086),\n",
       " (39.93639, -82.881676),\n",
       " (40.827763, -83.975716),\n",
       " (39.67155800000001, -84.252678),\n",
       " (40.028641, -83.01509899999998),\n",
       " (40.02404, -82.99479699999998),\n",
       " (40.11182, -82.901276),\n",
       " (40.09917100000001, -83.134499),\n",
       " (40.059711, -82.419037),\n",
       " (39.801685, -84.253998),\n",
       " (39.798016, -84.25018299999998),\n",
       " (39.995106, -83.025337),\n",
       " (39.740906, -84.182121),\n",
       " (39.757221, -84.205894),\n",
       " (39.745384, -84.183006),\n",
       " (39.658932, -84.157677),\n",
       " (39.780712, -84.18723299999998),\n",
       " (39.754055, -84.17588),\n",
       " (39.828781, -84.19839499999998),\n",
       " (39.805809, -84.222435),\n",
       " (39.896893, -83.723129),\n",
       " (39.715988, -84.219238),\n",
       " (39.896893, -83.723129),\n",
       " (39.715988, -84.219238),\n",
       " (39.933804, -82.78944399999997),\n",
       " (39.668198, -84.147636),\n",
       " (39.781204, -84.20558199999998),\n",
       " (39.901142, -84.18789699999998),\n",
       " (39.903053, -83.162949),\n",
       " (39.783173, -84.117981),\n",
       " (39.085529, -84.178314),\n",
       " (40.111134, -82.992203),\n",
       " (39.948391, -82.943558),\n",
       " (39.786411, -84.25376899999998),\n",
       " (39.782368, -84.203339),\n",
       " (39.74688, -84.15986600000002),\n",
       " (39.596725, -84.231667),\n",
       " (39.784584, -84.15226700000002),\n",
       " (39.769596, -84.176964),\n",
       " (39.696461, -83.456673),\n",
       " (39.97847700000001, -83.119835),\n",
       " (39.773762, -84.14045),\n",
       " (39.956909, -83.044914),\n",
       " (39.788414, -84.183693),\n",
       " (38.843636, -82.216187),\n",
       " (39.741505, -84.16555),\n",
       " (39.978668, -82.974152),\n",
       " (39.59670300000001, -84.238388),\n",
       " (39.919376, -82.936417),\n",
       " (39.788647, -84.18390699999998),\n",
       " (39.858292, -83.003548),\n",
       " (39.832066, -83.000374),\n",
       " (39.965687, -83.009842),\n",
       " (39.974941, -83.10006),\n",
       " (41.403664, -82.13942),\n",
       " (41.323063, -82.616463),\n",
       " (41.420448, -81.828468),\n",
       " (39.816311, -84.130341),\n",
       " (39.798302, -84.235229),\n",
       " (39.767513, -84.194016),\n",
       " (39.671932, -84.210815),\n",
       " (39.781044, -84.242554),\n",
       " (39.774738, -84.174683),\n",
       " (39.767204, -84.162796),\n",
       " (39.95166, -83.017601),\n",
       " (39.950317, -83.01724200000002),\n",
       " (39.732437, -84.20874),\n",
       " (39.253136, -84.135544),\n",
       " (39.790283, -84.190063),\n",
       " (39.946922, -83.031151),\n",
       " (39.956467, -83.045815),\n",
       " (39.641197, -84.157799),\n",
       " (41.425308, -81.897865),\n",
       " (39.917412, -83.014236),\n",
       " (39.981674, -82.984566),\n",
       " (39.994205, -83.024689),\n",
       " (40.004406, -82.918137),\n",
       " (40.084126, -83.137772),\n",
       " (39.959778, -82.997467),\n",
       " (40.008327, -82.986023),\n",
       " (39.977394, -83.150467),\n",
       " (40.025917, -82.994576),\n",
       " (41.40752, -81.64746099999998),\n",
       " (41.060379, -81.554153),\n",
       " (40.10564, -82.949692),\n",
       " (39.732307, -84.240646),\n",
       " (38.892097, -84.208702),\n",
       " (39.536186, -84.235069),\n",
       " (39.805882, -84.21578199999998),\n",
       " (39.944817, -82.877861),\n",
       " (39.370232, -84.249039),\n",
       " (39.734035, -84.14502),\n",
       " (39.808914, -83.97833299999998),\n",
       " (39.735283, -84.161659),\n",
       " (39.820873, -84.237328),\n",
       " (40.105621, -83.091125),\n",
       " (39.050854, -84.07486),\n",
       " (39.751579, -84.239983),\n",
       " (41.404495, -82.116928),\n",
       " (39.625694, -84.200005),\n",
       " (41.383537, -83.641235),\n",
       " (39.76926, -84.236465),\n",
       " (39.592564, -84.155518),\n",
       " (39.788414, -84.183693),\n",
       " (39.800083, -84.21869699999998),\n",
       " (39.733723, -84.204971),\n",
       " (39.738392, -84.140419),\n",
       " (39.645313, -84.232414),\n",
       " (39.651726, -84.233627),\n",
       " (39.945255, -82.600075),\n",
       " (39.783661, -84.166382),\n",
       " (40.082298, -82.896858),\n",
       " (39.75125900000001, -84.167778),\n",
       " (39.748081, -84.13945799999998),\n",
       " (39.943745, -83.073151),\n",
       " (41.407391, -81.64676700000003),\n",
       " (39.802471, -84.235107),\n",
       " (39.787209, -84.205185),\n",
       " (39.731812, -84.15831),\n",
       " (39.733723, -84.204971),\n",
       " (39.812775, -84.220001),\n",
       " (39.794266, -84.215851),\n",
       " (39.764576, -84.187706),\n",
       " (39.819523, -84.20468100000002),\n",
       " (39.788414, -84.183693),\n",
       " (39.980274, -82.83625),\n",
       " (39.773193, -84.187454),\n",
       " (39.941711, -83.978874),\n",
       " (39.737404, -84.185776),\n",
       " (40.082397, -82.906921),\n",
       " (39.184589, -84.235176),\n",
       " (39.923038, -82.784538),\n",
       " (39.745384, -84.183006),\n",
       " (39.870964, -82.855354),\n",
       " (39.981812, -83.118767),\n",
       " (39.997391, -83.118156),\n",
       " (39.632637, -84.20303299999998),\n",
       " (39.9767, -83.045517),\n",
       " (39.72419, -84.152336),\n",
       " (39.770382, -84.194901),\n",
       " (40.266563, -82.928535),\n",
       " (41.42202800000001, -81.877464),\n",
       " (39.820084, -84.16755699999999),\n",
       " (39.754055, -84.17588),\n",
       " (39.122822, -84.135796),\n",
       " (39.803738, -84.22461700000002),\n",
       " (39.596882, -84.117653),\n",
       " (39.615669, -84.135452),\n",
       " (39.973015, -83.014801),\n",
       " (39.949711, -82.970123),\n",
       " (39.949711, -82.970123),\n",
       " (39.733723, -84.204971),\n",
       " (39.74773, -84.172325),\n",
       " (39.740417, -84.186539),\n",
       " (39.625694, -84.200005),\n",
       " (39.785046, -84.236137),\n",
       " (39.749626, -84.178291),\n",
       " (39.783344, -84.253738),\n",
       " (39.820084, -84.16755699999999),\n",
       " (39.739201, -84.230324),\n",
       " (39.790916, -84.235085),\n",
       " (39.80933, -84.235146),\n",
       " (39.904541, -83.02684),\n",
       " (39.982506, -82.98451999999997),\n",
       " (39.75777100000001, -84.142036),\n",
       " (39.736004, -84.14344799999998),\n",
       " (39.59872100000001, -84.161491),\n",
       " (39.74004, -84.194923),\n",
       " (39.77626, -84.243752),\n",
       " (39.62394000000001, -84.194153),\n",
       " (39.73232700000001, -84.163055),\n",
       " (39.772064, -84.253517),\n",
       " (39.772064, -84.253517),\n",
       " (40.263664, -82.927452),\n",
       " (39.658939, -84.223244),\n",
       " (39.67889, -84.221413),\n",
       " (39.749786, -84.199493),\n",
       " (39.745384, -84.183006),\n",
       " (39.625694, -84.200005),\n",
       " (40.120651, -82.973045),\n",
       " (41.128685, -81.652153),\n",
       " (39.959805, -83.370483),\n",
       " (38.0853, -122.233017),\n",
       " (37.631813, -122.084167),\n",
       " (37.896564, -122.070717),\n",
       " (37.334255, -122.032471),\n",
       " (37.250729, -121.910713),\n",
       " (37.701584, -121.906929),\n",
       " (37.328312, -121.871811),\n",
       " (37.719162, -122.448273),\n",
       " (37.868114, -122.19593),\n",
       " (37.700951, -121.80175),\n",
       " (38.321342, -122.713707),\n",
       " (38.005135, -122.037445),\n",
       " (37.70071400000001, -121.773895),\n",
       " (37.395771, -122.012772),\n",
       " (37.701576, -121.872177),\n",
       " (38.481682, -121.408768),\n",
       " (38.682713, -121.33628799999998),\n",
       " (37.391258, -121.995895),\n",
       " (37.775215, -122.220863),\n",
       " (37.418728, -121.970436),\n",
       " (37.38237, -121.904358),\n",
       " (37.701363, -121.849533),\n",
       " (37.131519, -121.633308),\n",
       " (38.303768, -122.708183),\n",
       " (38.026699, -122.113785),\n",
       " (38.220692, -122.607536),\n",
       " (37.613815, -122.396652),\n",
       " (38.646683, -121.376694),\n",
       " (37.66637, -122.107491),\n",
       " (37.70071400000001, -121.773895),\n",
       " (38.54702, -122.808311),\n",
       " (37.856171, -122.029907),\n",
       " (37.119289, -121.626114),\n",
       " (37.088932, -121.59922),\n",
       " (38.601768, -122.864983),\n",
       " (37.701061, -122.393188),\n",
       " (37.448879, -122.12313799999998),\n",
       " (37.732746, -122.404938),\n",
       " (37.749485, -122.403236),\n",
       " (37.454247, -121.923073),\n",
       " (37.401531, -121.908859),\n",
       " (38.563538, -121.637466),\n",
       " (37.825397, -122.304802),\n",
       " (37.8009, -122.228767),\n",
       " (37.31665, -121.945389),\n",
       " (38.36479600000001, -121.350449),\n",
       " (38.551689, -121.699516),\n",
       " (38.618011, -121.401459),\n",
       " (37.49221, -122.386093),\n",
       " (37.46876500000001, -122.155205),\n",
       " (38.452553, -121.37175),\n",
       " (37.741356, -121.580826),\n",
       " (38.668053, -121.31208),\n",
       " (37.78735, -122.247955),\n",
       " (38.781418, -121.145889),\n",
       " (37.608707, -122.068192),\n",
       " (38.547523, -121.717918),\n",
       " (37.977779, -122.06575),\n",
       " (37.339455, -121.852043),\n",
       " (37.553684, -122.296257),\n",
       " (37.731983, -122.415413),\n",
       " (37.854485, -122.219765),\n",
       " (37.992588, -122.039635),\n",
       " (38.58997, -121.26548),\n",
       " (39.328636, -121.11116),\n",
       " (38.481689, -121.396133),\n",
       " (37.462418, -122.144402),\n",
       " (38.404911, -121.912468),\n",
       " (38.744423, -121.247093),\n",
       " (38.203735, -121.556808),\n",
       " (38.671062, -121.591881),\n",
       " (38.566139, -121.336296),\n",
       " (38.846264, -121.299644),\n",
       " (38.564201, -121.513878),\n",
       " (38.682323, -120.847435),\n",
       " (37.923492, -122.513168),\n",
       " (37.692444, -122.140167),\n",
       " (37.804386, -121.989738),\n",
       " (37.252171, -121.95821399999998),\n",
       " (37.701649, -121.911278),\n",
       " (37.807072, -122.475616),\n",
       " (37.690559, -122.074669),\n",
       " (37.766987, -121.335495),\n",
       " (37.700043, -121.779655),\n",
       " (37.933292, -121.296669),\n",
       " (39.411289, -123.354477),\n",
       " (38.556145, -121.443192),\n",
       " (38.74008900000001, -121.273468),\n",
       " (38.74008900000001, -121.273468),\n",
       " (38.74398400000001, -121.226074),\n",
       " (38.477348, -122.73214),\n",
       " (37.364136, -122.124481),\n",
       " (37.314922, -121.910576),\n",
       " (37.955566, -122.370888),\n",
       " (38.501938, -121.789146),\n",
       " (38.714298, -121.540237),\n",
       " (37.69278, -122.101685),\n",
       " (39.267353, -121.02877),\n",
       " (39.098984, -122.804314),\n",
       " (37.785709, -122.244514),\n",
       " (37.996063, -121.785194),\n",
       " (38.558533, -122.447746),\n",
       " (37.926357, -122.060768),\n",
       " (37.352432, -121.837746),\n",
       " (37.301517, -121.876823),\n",
       " (37.808498, -122.366852),\n",
       " (37.674477, -122.100662),\n",
       " (37.549904, -122.025429),\n",
       " (38.176636, -122.594177),\n",
       " (37.590557, -122.36186200000002),\n",
       " (38.606236, -121.508064),\n",
       " (37.57436, -121.88523899999998),\n",
       " (38.692123, -120.886917),\n",
       " (38.242306, -122.08654),\n",
       " (37.036915, -122.042366),\n",
       " (37.708939, -121.723686),\n",
       " (38.094425, -120.944992),\n",
       " (37.359665, -121.995987),\n",
       " (37.986759, -122.31488),\n",
       " (37.997124, -122.286018),\n",
       " (37.488846, -122.212852),\n",
       " (38.578747, -121.307381),\n",
       " (37.598789, -122.060852),\n",
       " (38.005135, -122.037445),\n",
       " (37.701225, -121.92247),\n",
       " (38.686363, -121.33287),\n",
       " (37.506924, -122.341293),\n",
       " (36.666836, -121.684853),\n",
       " (37.798454, -122.274803),\n",
       " (38.522472, -121.521584),\n",
       " (38.069008, -122.53876499999998),\n",
       " (38.149895, -122.451241),\n",
       " (37.910786, -122.31713899999998),\n",
       " (37.861332, -122.210243),\n",
       " (36.992775, -121.957268),\n",
       " (36.609657, -121.898407),\n",
       " (37.700855, -121.81778),\n",
       " (36.676228, -121.701744),\n",
       " (38.100746, -122.229858),\n",
       " (37.495384, -121.923294),\n",
       " (37.434715, -121.888161),\n",
       " (37.588905, -121.870926),\n",
       " (38.022526, -122.262299),\n",
       " (37.740906, -122.196472),\n",
       " (38.02545900000001, -122.112236),\n",
       " (37.605614, -121.872658),\n",
       " (36.624298, -121.841774),\n",
       " (37.318287, -121.831551),\n",
       " (38.510151, -121.459702),\n",
       " (38.644184, -121.38831299999998),\n",
       " (38.559532, -121.373085),\n",
       " (37.74055900000001, -121.58578500000002),\n",
       " (37.997124, -122.286018),\n",
       " (37.337513, -122.059784),\n",
       " (37.276817, -122.007233),\n",
       " (38.494873, -121.45028700000002),\n",
       " (38.409306, -121.35331),\n",
       " (37.89658, -122.071281),\n",
       " (37.955479, -121.324814),\n",
       " (38.022526, -122.262299),\n",
       " (37.687485, -122.133484),\n",
       " (37.334255, -122.032471),\n",
       " (37.381866, -121.963829),\n",
       " (37.704407, -122.394241),\n",
       " (38.169338, -122.199928),\n",
       " (37.795124, -122.266594),\n",
       " (37.276817, -122.007233),\n",
       " (37.756107, -122.392464),\n",
       " (37.793484, -122.263992),\n",
       " (37.877388, -122.184158),\n",
       " (38.478897, -121.421066),\n",
       " (37.54932, -122.292496),\n",
       " (38.588772, -121.404259),\n",
       " (37.76329000000001, -122.216171),\n",
       " (37.994179, -122.074287),\n",
       " (38.641266, -121.473755),\n",
       " (38.631653, -121.397972),\n",
       " (37.560719, -122.035637),\n",
       " (38.343533, -121.335594),\n",
       " (38.546047, -121.509056),\n",
       " (38.026489, -121.960167),\n",
       " (39.202377, -121.062012),\n",
       " (36.988647, -121.982933),\n",
       " (37.539642, -121.923859),\n",
       " (38.116135, -121.395554),\n",
       " (38.23616, -122.461472),\n",
       " (38.676525, -121.359612),\n",
       " (37.784885, -122.39267),\n",
       " (37.351471, -121.91433700000002),\n",
       " (38.937412, -121.095352),\n",
       " (38.772587, -121.253479),\n",
       " (39.300751, -121.029884),\n",
       " (37.410072, -121.879219),\n",
       " (38.675251, -121.352432),\n",
       " (38.667656, -121.33844),\n",
       " (38.678547, -121.235008),\n",
       " (39.143547, -121.061333),\n",
       " (38.552616, -121.69381),\n",
       " (37.570854, -122.032478),\n",
       " (38.945255, -121.046089),\n",
       " (38.929756, -121.08866100000002),\n",
       " (37.31652800000001, -121.911858),\n",
       " (37.315025, -121.909073),\n",
       " (37.830669, -122.293343),\n",
       " (37.641117, -122.406021),\n",
       " (37.693237, -122.052116),\n",
       " (37.852394, -122.029083),\n",
       " (38.373032, -121.358482),\n",
       " (38.64341, -121.434265),\n",
       " (38.537041, -121.739067),\n",
       " (38.559505, -121.467201),\n",
       " (38.546028, -121.509315),\n",
       " (38.942398, -121.09426100000002),\n",
       " (38.618366, -121.529411),\n",
       " (37.779552, -121.314514),\n",
       " (37.851658, -121.282875),\n",
       " (38.64315, -121.434677),\n",
       " (38.658169, -120.969086),\n",
       " (37.638012, -121.324409),\n",
       " (37.31638, -121.951538),\n",
       " (38.767025, -121.253128),\n",
       " (39.233013, -121.03894),\n",
       " (38.651775, -121.382942),\n",
       " (37.634174, -122.414825),\n",
       " (37.581238, -122.049042),\n",
       " (38.601833, -121.382904),\n",
       " (38.236176, -122.461472),\n",
       " (37.785542, -122.39138),\n",
       " (37.62746, -120.99706299999998),\n",
       " (38.761791, -120.915413),\n",
       " (38.229401, -122.116844),\n",
       " (37.327499, -121.878082),\n",
       " (37.750488, -121.379982),\n",
       " (37.37682, -121.941536),\n",
       " (37.38965200000001, -122.163582),\n",
       " (37.70306, -122.07856),\n",
       " (37.323593, -121.940826),\n",
       " (37.690514, -121.918709),\n",
       " (37.656654, -121.901588),\n",
       " (37.753693, -122.151398),\n",
       " (38.227737, -122.120537),\n",
       " (37.769375, -122.405533),\n",
       " (37.696819, -122.071869),\n",
       " (37.8745, -122.306038),\n",
       " (37.752502, -122.403008),\n",
       " (37.7883, -121.300407),\n",
       " (38.860706, -121.300247),\n",
       " (37.86365900000001, -121.218956),\n",
       " (37.54723, -122.37265),\n",
       " (37.33442700000001, -121.936485),\n",
       " (36.950603, -121.523094),\n",
       " (38.660831, -121.337288),\n",
       " (38.222748, -122.12883),\n",
       " (37.343258, -121.846283),\n",
       " (37.777836, -121.317451),\n",
       " (38.722092, -121.22583799999998),\n",
       " (38.246796, -122.627808),\n",
       " (38.661053, -121.359779),\n",
       " (37.813274, -121.034325),\n",
       " (37.731277, -122.435219),\n",
       " (37.315239, -121.914902),\n",
       " (37.328579, -121.871277),\n",
       " (37.882004, -121.641479),\n",
       " (38.835583, -121.168533),\n",
       " (37.933201, -122.046196),\n",
       " (37.657974, -121.902954),\n",
       " (38.562939, -121.641922),\n",
       " (38.022778, -121.965698),\n",
       " (37.656654, -121.901588),\n",
       " (38.690273, -121.392136),\n",
       " (38.68111, -121.333244),\n",
       " (38.653061, -121.070541),\n",
       " ...]"
      ]
     },
     "execution_count": 65,
     "metadata": {},
     "output_type": "execute_result"
    }
   ],
   "source": [
    "sample_df = df.sample(int(0.01 * len(df)))\n",
    "lat_lon_pairs = list(zip(list(df.Start_Lat), list(df.Start_Lng)))\n",
    "lat_lon_pairs"
   ]
  },
  {
   "cell_type": "code",
   "execution_count": null,
   "metadata": {
    "colab": {
     "background_save": true,
     "output_embedded_package_id": "16_8gx64HNY0yktjBXMSN5SV7gHKZWqV6"
    },
    "id": "D2Ubhxjr1fmK",
    "outputId": "64a8a53b-526f-48f0-85ec-d1ae4b5bee3b"
   },
   "outputs": [],
   "source": [
    "map = folium.Map()\n",
    "HeatMap(lat_lon_pairs[:1000000]).add_to(map)\n",
    "map"
   ]
  },
  {
   "cell_type": "code",
   "execution_count": null,
   "metadata": {
    "colab": {
     "background_save": true
    },
    "id": "_fPgpYkP1ffu"
   },
   "outputs": [],
   "source": []
  },
  {
   "cell_type": "code",
   "execution_count": null,
   "metadata": {
    "colab": {
     "background_save": true
    },
    "id": "vxiLg0vX1fZL"
   },
   "outputs": [],
   "source": []
  },
  {
   "cell_type": "code",
   "execution_count": null,
   "metadata": {
    "colab": {
     "background_save": true
    },
    "id": "hombLgoh1fU5"
   },
   "outputs": [],
   "source": []
  },
  {
   "cell_type": "code",
   "execution_count": null,
   "metadata": {
    "colab": {
     "background_save": true
    },
    "id": "WU5szV680xLs"
   },
   "outputs": [],
   "source": []
  },
  {
   "cell_type": "code",
   "execution_count": null,
   "metadata": {
    "colab": {
     "background_save": true
    },
    "id": "JO0Rep4Szuq_"
   },
   "outputs": [],
   "source": []
  },
  {
   "cell_type": "code",
   "execution_count": null,
   "metadata": {
    "colab": {
     "background_save": true
    },
    "id": "uWJpc1mWzumF"
   },
   "outputs": [],
   "source": []
  },
  {
   "cell_type": "code",
   "execution_count": null,
   "metadata": {
    "colab": {
     "background_save": true
    },
    "id": "CvWlIdCOzuiP"
   },
   "outputs": [],
   "source": []
  },
  {
   "cell_type": "code",
   "execution_count": null,
   "metadata": {
    "colab": {
     "background_save": true
    },
    "id": "JXaVOuBDqAri"
   },
   "outputs": [],
   "source": []
  },
  {
   "cell_type": "markdown",
   "metadata": {
    "id": "ydwZNHIGNFjC"
   },
   "source": [
    "##Summary and Conclusion\n",
    "\n",
    "Insights:\n",
    "1. No data for New York and Chicago\n",
    "2. The number of accidents per city follow an exponential distribution\n",
    "3. Less than 7% of cities have more than 1000 yearly accident\n",
    "4. Over 1200 cities have reported just 1 accident, need to investigate\n"
   ]
  },
  {
   "cell_type": "code",
   "execution_count": null,
   "metadata": {
    "colab": {
     "background_save": true
    },
    "id": "aMDHMBrWNLxI"
   },
   "outputs": [],
   "source": [
    "import jovian"
   ]
  },
  {
   "cell_type": "code",
   "execution_count": null,
   "metadata": {
    "id": "bmsvDhCkNL1n"
   },
   "outputs": [],
   "source": [
    "jovian.commit()"
   ]
  }
 ],
 "metadata": {
  "accelerator": "TPU",
  "colab": {
   "name": "",
   "version": ""
  },
  "language_info": {
   "codemirror_mode": {
    "name": "ipython",
    "version": 3
   },
   "file_extension": ".py",
   "mimetype": "text/x-python",
   "name": "python",
   "nbconvert_exporter": "python",
   "pygments_lexer": "ipython3",
   "version": "3.7.6"
  }
 },
 "nbformat": 4,
 "nbformat_minor": 0
}