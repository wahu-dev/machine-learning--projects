{
 "cells": [
  {
   "cell_type": "markdown",
   "metadata": {
    "id": "9a2iBPSEqI8R"
   },
   "source": [
    "# optimizingtheroutingofcommunityhealthworkers\n",
    "\n",
    "Use the \"Run\" button to execute the code."
   ]
  },
  {
   "cell_type": "markdown",
   "metadata": {
    "id": "M5IzbuYxyuzS"
   },
   "source": [
    "Import necessary libraries"
   ]
  },
  {
   "cell_type": "code",
   "execution_count": null,
   "metadata": {
    "id": "YkP9aLk1qI8g"
   },
   "outputs": [],
   "source": [
    "import pandas as pd\n",
    "from sklearn.cluster import KMeans\n",
    "import matplotlib.pyplot as plt"
   ]
  },
  {
   "cell_type": "markdown",
   "metadata": {
    "id": "WFO-Rp9ry0hm"
   },
   "source": [
    "Load the dataset"
   ]
  },
  {
   "cell_type": "code",
   "execution_count": null,
   "metadata": {
    "id": "5iVOxfukyWcI"
   },
   "outputs": [],
   "source": [
    "# Replace 'path_to_dataset.csv' with the actual path to your dataset\n",
    "df = pd.read_csv('path_to_dataset.csv')"
   ]
  },
  {
   "cell_type": "markdown",
   "metadata": {
    "id": "vGIxcHRnzM3x"
   },
   "source": [
    "Data visualization"
   ]
  },
  {
   "cell_type": "code",
   "execution_count": null,
   "metadata": {
    "id": "QHyg_zJ9yZ9D"
   },
   "outputs": [],
   "source": [
    "# Assuming the dataset has latitude and longitude data for each location\n",
    "# Example: 'latitude' and 'longitude' columns\n",
    "\n",
    "# Data visualization to understand the distribution of locations\n",
    "plt.scatter(df['longitude'], df['latitude'])\n",
    "plt.xlabel('Longitude')\n",
    "plt.ylabel('Latitude')\n",
    "plt.title('Distribution of Locations')\n",
    "plt.show()"
   ]
  },
  {
   "cell_type": "markdown",
   "metadata": {
    "id": "6n5gS85azUlc"
   },
   "source": [
    "KMeans Clustering"
   ]
  },
  {
   "cell_type": "code",
   "execution_count": null,
   "metadata": {
    "id": "5oJcQCyDym5k"
   },
   "outputs": [],
   "source": [
    "# Apply KMeans clustering to group locations into clusters\n",
    "# Number of clusters depends on the number of health workers or desired route optimization\n",
    "kmeans = KMeans(n_clusters=5)  # Example: 5 clusters for 5 health workers\n",
    "df['cluster'] = kmeans.fit_predict(df[['longitude', 'latitude']])"
   ]
  },
  {
   "cell_type": "markdown",
   "metadata": {
    "id": "bitTckr7zfy7"
   },
   "source": [
    "Visualize the clusters"
   ]
  },
  {
   "cell_type": "code",
   "execution_count": null,
   "metadata": {
    "id": "JgHcxq2wypvH"
   },
   "outputs": [],
   "source": [
    "plt.scatter(df['longitude'], df['latitude'], c=df['cluster'], cmap='viridis')\n",
    "plt.xlabel('Longitude')\n",
    "plt.ylabel('Latitude')\n",
    "plt.title('Clustered Locations')\n",
    "plt.show()\n",
    "\n",
    "# Each cluster represents the locations a single health worker can cover\n",
    "# Further optimization can be done based on specific requirements"
   ]
  }
 ],
 "metadata": {
  "colab": {
   "provenance": []
  },
  "language_info": {
   "codemirror_mode": {
    "name": "ipython",
    "version": 3
   },
   "file_extension": ".py",
   "mimetype": "text/x-python",
   "name": "python",
   "nbconvert_exporter": "python",
   "pygments_lexer": "ipython3",
   "version": "3.7.6"
  }
 },
 "nbformat": 4,
 "nbformat_minor": 0
}